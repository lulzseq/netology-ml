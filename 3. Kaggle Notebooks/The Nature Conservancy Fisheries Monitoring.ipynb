{
  "nbformat": 4,
  "nbformat_minor": 0,
  "metadata": {
    "kernelspec": {
      "display_name": "Python 3",
      "language": "python",
      "name": "python3"
    },
    "language_info": {
      "codemirror_mode": {
        "name": "ipython",
        "version": 3
      },
      "file_extension": ".py",
      "mimetype": "text/x-python",
      "name": "python",
      "nbconvert_exporter": "python",
      "pygments_lexer": "ipython3",
      "version": "3.7.6"
    },
    "papermill": {
      "duration": 1938.501094,
      "end_time": "2020-08-13T17:53:52.473226",
      "environment_variables": {},
      "exception": null,
      "input_path": "__notebook__.ipynb",
      "output_path": "__notebook__.ipynb",
      "parameters": {},
      "start_time": "2020-08-13T17:21:33.972132",
      "version": "2.1.0"
    },
    "colab": {
      "name": "fish.ipynb",
      "provenance": [],
      "collapsed_sections": [
        "4go6hDbzp_BA"
      ],
      "toc_visible": true
    },
    "accelerator": "GPU"
  },
  "cells": [
    {
      "cell_type": "code",
      "metadata": {
        "id": "ymm_S6_7q6Gr",
        "colab_type": "code",
        "colab": {}
      },
      "source": [
        "from google.colab import drive\n",
        "drive.mount('/content/drive')"
      ],
      "execution_count": null,
      "outputs": []
    },
    {
      "cell_type": "code",
      "metadata": {
        "id": "Ac13i751q6gm",
        "colab_type": "code",
        "colab": {}
      },
      "source": [
        "!mkdir ~/.kaggle\n",
        "!cp /content/drive/'My Drive'/data/kaggle.json ~/.kaggle/\n",
        "!chmod 600 ~/.kaggle/kaggle.json\n",
        "!mkdir kaggle\n",
        "%cd kaggle"
      ],
      "execution_count": null,
      "outputs": []
    },
    {
      "cell_type": "code",
      "metadata": {
        "id": "nM2JvIsYq6jK",
        "colab_type": "code",
        "colab": {}
      },
      "source": [
        "!kaggle competitions download -c 'the-nature-conservancy-fisheries-monitoring'"
      ],
      "execution_count": null,
      "outputs": []
    },
    {
      "cell_type": "code",
      "metadata": {
        "id": "GLda8QsXq6mO",
        "colab_type": "code",
        "colab": {}
      },
      "source": [
        "!p7zip -d test_stg2.7z && rm test_stg2.7z\n",
        "!unzip train.zip && rm train.zip\n",
        "!unzip test_stg1.zip && rm test_stg1.zip"
      ],
      "execution_count": null,
      "outputs": []
    },
    {
      "cell_type": "code",
      "metadata": {
        "id": "WNrTdQi1tNvz",
        "colab_type": "code",
        "colab": {}
      },
      "source": [
        "%cd kaggle"
      ],
      "execution_count": null,
      "outputs": []
    },
    {
      "cell_type": "code",
      "metadata": {
        "execution": {
          "iopub.execute_input": "2020-08-13T17:21:38.428592Z",
          "iopub.status.busy": "2020-08-13T17:21:38.427795Z",
          "iopub.status.idle": "2020-08-13T17:21:44.503635Z",
          "shell.execute_reply": "2020-08-13T17:21:44.504555Z"
        },
        "id": "XTHgTst3tn8Y",
        "papermill": {
          "duration": 6.100073,
          "end_time": "2020-08-13T17:21:44.504821",
          "exception": false,
          "start_time": "2020-08-13T17:21:38.404748",
          "status": "completed"
        },
        "tags": [],
        "colab_type": "code",
        "colab": {
          "base_uri": "https://localhost:8080/",
          "height": 52
        },
        "outputId": "5385c0e9-a806-4864-f3d6-4ed92f78c07b"
      },
      "source": [
        "import cv2\n",
        "import numpy as np\n",
        "import tensorflow as tf\n",
        "from tensorflow.keras.applications import vgg16, Xception\n",
        "import zipfile\n",
        "\n",
        "print(tf.__version__)\n",
        "print(tf.executing_eagerly())"
      ],
      "execution_count": 5,
      "outputs": [
        {
          "output_type": "stream",
          "text": [
            "2.3.0\n",
            "True\n"
          ],
          "name": "stdout"
        }
      ]
    },
    {
      "cell_type": "code",
      "metadata": {
        "execution": {
          "iopub.execute_input": "2020-08-13T17:21:56.332460Z",
          "iopub.status.busy": "2020-08-13T17:21:56.331597Z",
          "iopub.status.idle": "2020-08-13T17:21:56.473618Z",
          "shell.execute_reply": "2020-08-13T17:21:56.473124Z"
        },
        "id": "Wio9ag90tn8d",
        "papermill": {
          "duration": 0.161269,
          "end_time": "2020-08-13T17:21:56.473740",
          "exception": false,
          "start_time": "2020-08-13T17:21:56.312471",
          "status": "completed"
        },
        "tags": [],
        "colab_type": "code",
        "colab": {}
      },
      "source": [
        "import os\n",
        "from random import shuffle\n",
        "from glob import glob\n",
        "\n",
        "IMG_SIZE = (300, 187) #(752, 468) # (1200, 750) try original size\n",
        "BATCH_SIZE = 32\n",
        "EPOCHS = 100\n",
        "\n",
        "train_files = glob('train/**/*.jpg', recursive = True)\n",
        "test_files_1 = glob('test_stg1/*.jpg')\n",
        "test_files_2 = glob('test_stg2/*.jpg')"
      ],
      "execution_count": 6,
      "outputs": []
    },
    {
      "cell_type": "markdown",
      "metadata": {
        "id": "4go6hDbzp_BA",
        "colab_type": "text"
      },
      "source": [
        "# Functions"
      ]
    },
    {
      "cell_type": "code",
      "metadata": {
        "execution": {
          "iopub.execute_input": "2020-08-13T17:21:56.516682Z",
          "iopub.status.busy": "2020-08-13T17:21:56.514895Z",
          "iopub.status.idle": "2020-08-13T17:21:56.517431Z",
          "shell.execute_reply": "2020-08-13T17:21:56.517906Z"
        },
        "id": "hNS-Rn79gmTP",
        "papermill": {
          "duration": 0.02948,
          "end_time": "2020-08-13T17:21:56.518020",
          "exception": false,
          "start_time": "2020-08-13T17:21:56.488540",
          "status": "completed"
        },
        "tags": [],
        "colab_type": "code",
        "colab": {}
      },
      "source": [
        "def load_image(path, target_size=IMG_SIZE):\n",
        "    img = cv2.imread(path)[...,::-1]\n",
        "    img = cv2.resize(img, target_size)\n",
        "    return tf.keras.applications.xception.preprocess_input(img)\n",
        "\n",
        "def fit_generator(files, batch_size=BATCH_SIZE):\n",
        "    batch_size = min(batch_size, len(files))\n",
        "    while True:\n",
        "        shuffle(files)\n",
        "        for k in range(len(files) // batch_size):\n",
        "            i = k * batch_size\n",
        "            j = i + batch_size\n",
        "            if j > len(files):\n",
        "                j = - j % len(files)\n",
        "            x = np.array([load_image(path) for path in files[i:j]])\n",
        "            y = np.array([1. if os.path.basename(path).startswith('dog') else 0.\n",
        "                          for path in files[i:j]])\n",
        "            yield (x, y)\n",
        "\n",
        "def predict_generator(files):\n",
        "    while True:\n",
        "        for path in files:\n",
        "            yield np.array([load_image(path)])"
      ],
      "execution_count": 7,
      "outputs": []
    },
    {
      "cell_type": "code",
      "metadata": {
        "id": "dzwbJZ9lBHoJ",
        "colab_type": "code",
        "colab": {}
      },
      "source": [
        "def confidence_loss(y_true, y_pred):\n",
        "    conf_loss = tf.keras.backend.binary_crossentropy(y_true[..., 0], y_pred[..., 0], from_logits=True)\n",
        "    return conf_loss"
      ],
      "execution_count": 8,
      "outputs": []
    },
    {
      "cell_type": "code",
      "metadata": {
        "id": "UlvVcArABHoK",
        "colab_type": "code",
        "colab": {}
      },
      "source": [
        "def smooth_l1(y_true, y_pred):\n",
        "    abs_loss = tf.keras.backend.abs(y_true[..., 1:] - y_pred[..., 1:])\n",
        "    square_loss = 0.5 * tf.keras.backend.square(y_true[..., 1:] - y_pred[..., 1:])\n",
        "    mask = tf.keras.backend.cast(tf.keras.backend.greater(abs_loss, 1.), 'float32')\n",
        "    total_loss = (abs_loss - 0.5) * mask + 0.5 * square_loss * (1. - mask)\n",
        "    return tf.keras.backend.sum(total_loss, axis=-1)"
      ],
      "execution_count": 9,
      "outputs": []
    },
    {
      "cell_type": "code",
      "metadata": {
        "id": "nH-2L15aBHoM",
        "colab_type": "code",
        "colab": {}
      },
      "source": [
        "def class_loss(y_true, y_pred):\n",
        "    y_true = tf.keras.backend.reshape(y_true[1], (-1, 6))\n",
        "    y_pred = tf.keras.backend.reshape(y_pred[1], (-1, 6))\n",
        "    class_loss = tf.keras.backend.categorical_crossentropy(y_true, y_pred, from_logits=True)\n",
        "    return class_loss"
      ],
      "execution_count": 10,
      "outputs": []
    },
    {
      "cell_type": "code",
      "metadata": {
        "id": "k88iNGVhBHoO",
        "colab_type": "code",
        "colab": {}
      },
      "source": [
        "def total_loss(y_true, y_pred, neg_pos_ratio=3):\n",
        "    batch_size = tf.keras.backend.shape(y_true[0])[0]\n",
        "    y_true = tf.keras.backend.reshape(y_true[0], (batch_size, -1, 5))\n",
        "    y_pred = tf.keras.backend.reshape(y_pred[0], (batch_size, -1, 5))    \n",
        "    conf_loss = confidence_loss(y_true, y_pred) # confidence loss\n",
        "    loc_loss = smooth_l1(y_true, y_pred) # smooth l1 loss\n",
        "    pos_conf_loss = tf.keras.backend.sum(conf_loss * y_true[..., 0], axis=-1) \n",
        "    pos_loc_loss = tf.keras.backend.sum(loc_loss * y_true[..., 0], axis=-1) # positive examples loss\n",
        "    anchors = tf.keras.backend.shape(y_true)[1]\n",
        "    num_pos = tf.keras.backend.sum(y_true[..., 0], axis=-1)\n",
        "    num_pos_avg = tf.keras.backend.mean(num_pos)\n",
        "    num_neg = tf.keras.backend.min([neg_pos_ratio * (num_pos_avg) + 1., tf.keras.backend.cast(anchors, 'float32')])\n",
        "    neg_conf_loss, _ = tf.nn.top_k(conf_loss * (1. - y_true[..., 0]), k=tf.keras.backend.cast(num_neg, 'int32'))\n",
        "    neg_conf_loss = tf.keras.backend.sum(neg_conf_loss, axis=-1) # hard negative mining\n",
        "    total_conf_loss = (neg_conf_loss + pos_conf_loss) / (num_neg + num_pos + 1e-32)\n",
        "    loc_loss = pos_loc_loss / (num_pos + 1e-32) # total conf loss\n",
        "    return total_conf_loss + 0.5 * loc_loss"
      ],
      "execution_count": 11,
      "outputs": []
    },
    {
      "cell_type": "markdown",
      "metadata": {
        "id": "v5t478C1qBia",
        "colab_type": "text"
      },
      "source": [
        "# Model"
      ]
    },
    {
      "cell_type": "code",
      "metadata": {
        "execution": {
          "iopub.execute_input": "2020-08-13T17:22:05.279342Z",
          "iopub.status.busy": "2020-08-13T17:22:05.278352Z",
          "iopub.status.idle": "2020-08-13T17:22:05.285016Z",
          "shell.execute_reply": "2020-08-13T17:22:05.286207Z"
        },
        "id": "371wY174fFhc",
        "papermill": {
          "duration": 0.068877,
          "end_time": "2020-08-13T17:22:05.286402",
          "exception": false,
          "start_time": "2020-08-13T17:22:05.217525",
          "status": "completed"
        },
        "tags": [],
        "colab_type": "code",
        "colab": {}
      },
      "source": [
        "reduce_lr = tf.keras.callbacks.ReduceLROnPlateau(\n",
        "                              monitor='val_loss',\n",
        "                              patience=5,\n",
        "                              min_delta=1e-7,\n",
        "                              verbose=2,\n",
        "                              factor=.5,\n",
        "                              min_lr=1e-10,\n",
        "                              mode='auto')\n",
        "\n",
        "early_stopping = tf.keras.callbacks.EarlyStopping(\n",
        "                              monitor='val_loss',\n",
        "                              min_delta=1e-7,\n",
        "                              patience=5,\n",
        "                              verbose=2,\n",
        "                              mode='auto',\n",
        "                              restore_best_weights=False)\n",
        "\n",
        "model_checkpoint = tf.keras.callbacks.ModelCheckpoint(\n",
        "                              'model_VGG16_fish.h5',\n",
        "                              monitor='val_loss',\n",
        "                              verbose=1, \n",
        "                              save_best_only=True, \n",
        "                              save_weights_only=True,\n",
        "                              mode='auto')"
      ],
      "execution_count": 12,
      "outputs": []
    },
    {
      "cell_type": "code",
      "metadata": {
        "execution": {
          "iopub.execute_input": "2020-08-13T17:21:58.116447Z",
          "iopub.status.busy": "2020-08-13T17:21:58.115822Z",
          "iopub.status.idle": "2020-08-13T17:22:03.590044Z",
          "shell.execute_reply": "2020-08-13T17:22:03.588956Z"
        },
        "id": "cnQjlvIRtn8k",
        "papermill": {
          "duration": 5.507917,
          "end_time": "2020-08-13T17:22:03.590190",
          "exception": false,
          "start_time": "2020-08-13T17:21:58.082273",
          "status": "completed"
        },
        "tags": [],
        "colab_type": "code",
        "colab": {
          "base_uri": "https://localhost:8080/",
          "height": 72
        },
        "outputId": "0e898d84-1a75-4abb-973c-8543bf3b2dfb"
      },
      "source": [
        "base_model = Xception(weights='imagenet',\n",
        "                         include_top=False,\n",
        "                         input_shape=(IMG_SIZE[0], IMG_SIZE[1], 3))\n",
        "\n",
        "# for layer in base_model.layers:\n",
        "#     layer.trainable = False\n",
        "\n",
        "input_layer = base_model.layers[-1].output"
      ],
      "execution_count": 13,
      "outputs": [
        {
          "output_type": "stream",
          "text": [
            "Downloading data from https://storage.googleapis.com/tensorflow/keras-applications/xception/xception_weights_tf_dim_ordering_tf_kernels_notop.h5\n",
            "83689472/83683744 [==============================] - 4s 0us/step\n"
          ],
          "name": "stdout"
        }
      ]
    },
    {
      "cell_type": "code",
      "metadata": {
        "id": "k4JBPaaelIW2",
        "colab_type": "code",
        "colab": {}
      },
      "source": [
        "# x = tf.keras.layers.Conv2D(2048, 3,3, activation='relu')(input_layer)\n",
        "# x = tf.keras.layers.MaxPool2D(pool_size=(2, 2))(x)\n",
        "x = tf.keras.layers.Flatten()(input_layer)\n",
        "x = tf.keras.layers.BatchNormalization()(x)\n",
        "# x = tf.keras.layers.Dense(512, activation='relu', kernel_regularizer=tf.keras.regularizers.l1(1e-4))(x)\n",
        "# x = tf.keras.layers.BatchNormalization()(x)\n",
        "# x = tf.keras.layers.Dense(128, activation='relu', kernel_regularizer=tf.keras.regularizers.l1(1e-4))(x)\n",
        "# x = tf.keras.layers.BatchNormalization()(x)\n",
        "# x = tf.keras.layers.Dense(32, activation='relu', kernel_regularizer=tf.keras.regularizers.l1(1e-4))(x)\n",
        "x = tf.keras.layers.BatchNormalization()(x)\n",
        "output_layer = tf.keras.layers.Dense(8, activation='softmax', kernel_regularizer=tf.keras.regularizers.l1(1e-4))(x)\n",
        "\n",
        "model = tf.keras.Model(inputs=base_model.input, outputs=output_layer)"
      ],
      "execution_count": 14,
      "outputs": []
    },
    {
      "cell_type": "code",
      "metadata": {
        "execution": {
          "iopub.execute_input": "2020-08-13T17:22:03.944841Z",
          "iopub.status.busy": "2020-08-13T17:22:03.943724Z",
          "iopub.status.idle": "2020-08-13T17:22:03.950533Z",
          "shell.execute_reply": "2020-08-13T17:22:03.950033Z"
        },
        "id": "wIeDdKNXtn8w",
        "papermill": {
          "duration": 0.047858,
          "end_time": "2020-08-13T17:22:03.950635",
          "exception": false,
          "start_time": "2020-08-13T17:22:03.902777",
          "status": "completed"
        },
        "tags": [],
        "colab_type": "code",
        "colab": {
          "base_uri": "https://localhost:8080/",
          "height": 1000
        },
        "outputId": "2252f882-8ee6-4292-cd30-46366a135703"
      },
      "source": [
        "model.compile(optimizer=tf.keras.optimizers.Adam(learning_rate=1e-5, epsilon=1e-8), \n",
        "              loss='binary_crossentropy',\n",
        "              metrics='categorical_accuracy')\n",
        "\n",
        "model.summary()"
      ],
      "execution_count": 15,
      "outputs": [
        {
          "output_type": "stream",
          "text": [
            "Model: \"functional_1\"\n",
            "__________________________________________________________________________________________________\n",
            "Layer (type)                    Output Shape         Param #     Connected to                     \n",
            "==================================================================================================\n",
            "input_1 (InputLayer)            [(None, 300, 187, 3) 0                                            \n",
            "__________________________________________________________________________________________________\n",
            "block1_conv1 (Conv2D)           (None, 149, 93, 32)  864         input_1[0][0]                    \n",
            "__________________________________________________________________________________________________\n",
            "block1_conv1_bn (BatchNormaliza (None, 149, 93, 32)  128         block1_conv1[0][0]               \n",
            "__________________________________________________________________________________________________\n",
            "block1_conv1_act (Activation)   (None, 149, 93, 32)  0           block1_conv1_bn[0][0]            \n",
            "__________________________________________________________________________________________________\n",
            "block1_conv2 (Conv2D)           (None, 147, 91, 64)  18432       block1_conv1_act[0][0]           \n",
            "__________________________________________________________________________________________________\n",
            "block1_conv2_bn (BatchNormaliza (None, 147, 91, 64)  256         block1_conv2[0][0]               \n",
            "__________________________________________________________________________________________________\n",
            "block1_conv2_act (Activation)   (None, 147, 91, 64)  0           block1_conv2_bn[0][0]            \n",
            "__________________________________________________________________________________________________\n",
            "block2_sepconv1 (SeparableConv2 (None, 147, 91, 128) 8768        block1_conv2_act[0][0]           \n",
            "__________________________________________________________________________________________________\n",
            "block2_sepconv1_bn (BatchNormal (None, 147, 91, 128) 512         block2_sepconv1[0][0]            \n",
            "__________________________________________________________________________________________________\n",
            "block2_sepconv2_act (Activation (None, 147, 91, 128) 0           block2_sepconv1_bn[0][0]         \n",
            "__________________________________________________________________________________________________\n",
            "block2_sepconv2 (SeparableConv2 (None, 147, 91, 128) 17536       block2_sepconv2_act[0][0]        \n",
            "__________________________________________________________________________________________________\n",
            "block2_sepconv2_bn (BatchNormal (None, 147, 91, 128) 512         block2_sepconv2[0][0]            \n",
            "__________________________________________________________________________________________________\n",
            "conv2d (Conv2D)                 (None, 74, 46, 128)  8192        block1_conv2_act[0][0]           \n",
            "__________________________________________________________________________________________________\n",
            "block2_pool (MaxPooling2D)      (None, 74, 46, 128)  0           block2_sepconv2_bn[0][0]         \n",
            "__________________________________________________________________________________________________\n",
            "batch_normalization (BatchNorma (None, 74, 46, 128)  512         conv2d[0][0]                     \n",
            "__________________________________________________________________________________________________\n",
            "add (Add)                       (None, 74, 46, 128)  0           block2_pool[0][0]                \n",
            "                                                                 batch_normalization[0][0]        \n",
            "__________________________________________________________________________________________________\n",
            "block3_sepconv1_act (Activation (None, 74, 46, 128)  0           add[0][0]                        \n",
            "__________________________________________________________________________________________________\n",
            "block3_sepconv1 (SeparableConv2 (None, 74, 46, 256)  33920       block3_sepconv1_act[0][0]        \n",
            "__________________________________________________________________________________________________\n",
            "block3_sepconv1_bn (BatchNormal (None, 74, 46, 256)  1024        block3_sepconv1[0][0]            \n",
            "__________________________________________________________________________________________________\n",
            "block3_sepconv2_act (Activation (None, 74, 46, 256)  0           block3_sepconv1_bn[0][0]         \n",
            "__________________________________________________________________________________________________\n",
            "block3_sepconv2 (SeparableConv2 (None, 74, 46, 256)  67840       block3_sepconv2_act[0][0]        \n",
            "__________________________________________________________________________________________________\n",
            "block3_sepconv2_bn (BatchNormal (None, 74, 46, 256)  1024        block3_sepconv2[0][0]            \n",
            "__________________________________________________________________________________________________\n",
            "conv2d_1 (Conv2D)               (None, 37, 23, 256)  32768       add[0][0]                        \n",
            "__________________________________________________________________________________________________\n",
            "block3_pool (MaxPooling2D)      (None, 37, 23, 256)  0           block3_sepconv2_bn[0][0]         \n",
            "__________________________________________________________________________________________________\n",
            "batch_normalization_1 (BatchNor (None, 37, 23, 256)  1024        conv2d_1[0][0]                   \n",
            "__________________________________________________________________________________________________\n",
            "add_1 (Add)                     (None, 37, 23, 256)  0           block3_pool[0][0]                \n",
            "                                                                 batch_normalization_1[0][0]      \n",
            "__________________________________________________________________________________________________\n",
            "block4_sepconv1_act (Activation (None, 37, 23, 256)  0           add_1[0][0]                      \n",
            "__________________________________________________________________________________________________\n",
            "block4_sepconv1 (SeparableConv2 (None, 37, 23, 728)  188672      block4_sepconv1_act[0][0]        \n",
            "__________________________________________________________________________________________________\n",
            "block4_sepconv1_bn (BatchNormal (None, 37, 23, 728)  2912        block4_sepconv1[0][0]            \n",
            "__________________________________________________________________________________________________\n",
            "block4_sepconv2_act (Activation (None, 37, 23, 728)  0           block4_sepconv1_bn[0][0]         \n",
            "__________________________________________________________________________________________________\n",
            "block4_sepconv2 (SeparableConv2 (None, 37, 23, 728)  536536      block4_sepconv2_act[0][0]        \n",
            "__________________________________________________________________________________________________\n",
            "block4_sepconv2_bn (BatchNormal (None, 37, 23, 728)  2912        block4_sepconv2[0][0]            \n",
            "__________________________________________________________________________________________________\n",
            "conv2d_2 (Conv2D)               (None, 19, 12, 728)  186368      add_1[0][0]                      \n",
            "__________________________________________________________________________________________________\n",
            "block4_pool (MaxPooling2D)      (None, 19, 12, 728)  0           block4_sepconv2_bn[0][0]         \n",
            "__________________________________________________________________________________________________\n",
            "batch_normalization_2 (BatchNor (None, 19, 12, 728)  2912        conv2d_2[0][0]                   \n",
            "__________________________________________________________________________________________________\n",
            "add_2 (Add)                     (None, 19, 12, 728)  0           block4_pool[0][0]                \n",
            "                                                                 batch_normalization_2[0][0]      \n",
            "__________________________________________________________________________________________________\n",
            "block5_sepconv1_act (Activation (None, 19, 12, 728)  0           add_2[0][0]                      \n",
            "__________________________________________________________________________________________________\n",
            "block5_sepconv1 (SeparableConv2 (None, 19, 12, 728)  536536      block5_sepconv1_act[0][0]        \n",
            "__________________________________________________________________________________________________\n",
            "block5_sepconv1_bn (BatchNormal (None, 19, 12, 728)  2912        block5_sepconv1[0][0]            \n",
            "__________________________________________________________________________________________________\n",
            "block5_sepconv2_act (Activation (None, 19, 12, 728)  0           block5_sepconv1_bn[0][0]         \n",
            "__________________________________________________________________________________________________\n",
            "block5_sepconv2 (SeparableConv2 (None, 19, 12, 728)  536536      block5_sepconv2_act[0][0]        \n",
            "__________________________________________________________________________________________________\n",
            "block5_sepconv2_bn (BatchNormal (None, 19, 12, 728)  2912        block5_sepconv2[0][0]            \n",
            "__________________________________________________________________________________________________\n",
            "block5_sepconv3_act (Activation (None, 19, 12, 728)  0           block5_sepconv2_bn[0][0]         \n",
            "__________________________________________________________________________________________________\n",
            "block5_sepconv3 (SeparableConv2 (None, 19, 12, 728)  536536      block5_sepconv3_act[0][0]        \n",
            "__________________________________________________________________________________________________\n",
            "block5_sepconv3_bn (BatchNormal (None, 19, 12, 728)  2912        block5_sepconv3[0][0]            \n",
            "__________________________________________________________________________________________________\n",
            "add_3 (Add)                     (None, 19, 12, 728)  0           block5_sepconv3_bn[0][0]         \n",
            "                                                                 add_2[0][0]                      \n",
            "__________________________________________________________________________________________________\n",
            "block6_sepconv1_act (Activation (None, 19, 12, 728)  0           add_3[0][0]                      \n",
            "__________________________________________________________________________________________________\n",
            "block6_sepconv1 (SeparableConv2 (None, 19, 12, 728)  536536      block6_sepconv1_act[0][0]        \n",
            "__________________________________________________________________________________________________\n",
            "block6_sepconv1_bn (BatchNormal (None, 19, 12, 728)  2912        block6_sepconv1[0][0]            \n",
            "__________________________________________________________________________________________________\n",
            "block6_sepconv2_act (Activation (None, 19, 12, 728)  0           block6_sepconv1_bn[0][0]         \n",
            "__________________________________________________________________________________________________\n",
            "block6_sepconv2 (SeparableConv2 (None, 19, 12, 728)  536536      block6_sepconv2_act[0][0]        \n",
            "__________________________________________________________________________________________________\n",
            "block6_sepconv2_bn (BatchNormal (None, 19, 12, 728)  2912        block6_sepconv2[0][0]            \n",
            "__________________________________________________________________________________________________\n",
            "block6_sepconv3_act (Activation (None, 19, 12, 728)  0           block6_sepconv2_bn[0][0]         \n",
            "__________________________________________________________________________________________________\n",
            "block6_sepconv3 (SeparableConv2 (None, 19, 12, 728)  536536      block6_sepconv3_act[0][0]        \n",
            "__________________________________________________________________________________________________\n",
            "block6_sepconv3_bn (BatchNormal (None, 19, 12, 728)  2912        block6_sepconv3[0][0]            \n",
            "__________________________________________________________________________________________________\n",
            "add_4 (Add)                     (None, 19, 12, 728)  0           block6_sepconv3_bn[0][0]         \n",
            "                                                                 add_3[0][0]                      \n",
            "__________________________________________________________________________________________________\n",
            "block7_sepconv1_act (Activation (None, 19, 12, 728)  0           add_4[0][0]                      \n",
            "__________________________________________________________________________________________________\n",
            "block7_sepconv1 (SeparableConv2 (None, 19, 12, 728)  536536      block7_sepconv1_act[0][0]        \n",
            "__________________________________________________________________________________________________\n",
            "block7_sepconv1_bn (BatchNormal (None, 19, 12, 728)  2912        block7_sepconv1[0][0]            \n",
            "__________________________________________________________________________________________________\n",
            "block7_sepconv2_act (Activation (None, 19, 12, 728)  0           block7_sepconv1_bn[0][0]         \n",
            "__________________________________________________________________________________________________\n",
            "block7_sepconv2 (SeparableConv2 (None, 19, 12, 728)  536536      block7_sepconv2_act[0][0]        \n",
            "__________________________________________________________________________________________________\n",
            "block7_sepconv2_bn (BatchNormal (None, 19, 12, 728)  2912        block7_sepconv2[0][0]            \n",
            "__________________________________________________________________________________________________\n",
            "block7_sepconv3_act (Activation (None, 19, 12, 728)  0           block7_sepconv2_bn[0][0]         \n",
            "__________________________________________________________________________________________________\n",
            "block7_sepconv3 (SeparableConv2 (None, 19, 12, 728)  536536      block7_sepconv3_act[0][0]        \n",
            "__________________________________________________________________________________________________\n",
            "block7_sepconv3_bn (BatchNormal (None, 19, 12, 728)  2912        block7_sepconv3[0][0]            \n",
            "__________________________________________________________________________________________________\n",
            "add_5 (Add)                     (None, 19, 12, 728)  0           block7_sepconv3_bn[0][0]         \n",
            "                                                                 add_4[0][0]                      \n",
            "__________________________________________________________________________________________________\n",
            "block8_sepconv1_act (Activation (None, 19, 12, 728)  0           add_5[0][0]                      \n",
            "__________________________________________________________________________________________________\n",
            "block8_sepconv1 (SeparableConv2 (None, 19, 12, 728)  536536      block8_sepconv1_act[0][0]        \n",
            "__________________________________________________________________________________________________\n",
            "block8_sepconv1_bn (BatchNormal (None, 19, 12, 728)  2912        block8_sepconv1[0][0]            \n",
            "__________________________________________________________________________________________________\n",
            "block8_sepconv2_act (Activation (None, 19, 12, 728)  0           block8_sepconv1_bn[0][0]         \n",
            "__________________________________________________________________________________________________\n",
            "block8_sepconv2 (SeparableConv2 (None, 19, 12, 728)  536536      block8_sepconv2_act[0][0]        \n",
            "__________________________________________________________________________________________________\n",
            "block8_sepconv2_bn (BatchNormal (None, 19, 12, 728)  2912        block8_sepconv2[0][0]            \n",
            "__________________________________________________________________________________________________\n",
            "block8_sepconv3_act (Activation (None, 19, 12, 728)  0           block8_sepconv2_bn[0][0]         \n",
            "__________________________________________________________________________________________________\n",
            "block8_sepconv3 (SeparableConv2 (None, 19, 12, 728)  536536      block8_sepconv3_act[0][0]        \n",
            "__________________________________________________________________________________________________\n",
            "block8_sepconv3_bn (BatchNormal (None, 19, 12, 728)  2912        block8_sepconv3[0][0]            \n",
            "__________________________________________________________________________________________________\n",
            "add_6 (Add)                     (None, 19, 12, 728)  0           block8_sepconv3_bn[0][0]         \n",
            "                                                                 add_5[0][0]                      \n",
            "__________________________________________________________________________________________________\n",
            "block9_sepconv1_act (Activation (None, 19, 12, 728)  0           add_6[0][0]                      \n",
            "__________________________________________________________________________________________________\n",
            "block9_sepconv1 (SeparableConv2 (None, 19, 12, 728)  536536      block9_sepconv1_act[0][0]        \n",
            "__________________________________________________________________________________________________\n",
            "block9_sepconv1_bn (BatchNormal (None, 19, 12, 728)  2912        block9_sepconv1[0][0]            \n",
            "__________________________________________________________________________________________________\n",
            "block9_sepconv2_act (Activation (None, 19, 12, 728)  0           block9_sepconv1_bn[0][0]         \n",
            "__________________________________________________________________________________________________\n",
            "block9_sepconv2 (SeparableConv2 (None, 19, 12, 728)  536536      block9_sepconv2_act[0][0]        \n",
            "__________________________________________________________________________________________________\n",
            "block9_sepconv2_bn (BatchNormal (None, 19, 12, 728)  2912        block9_sepconv2[0][0]            \n",
            "__________________________________________________________________________________________________\n",
            "block9_sepconv3_act (Activation (None, 19, 12, 728)  0           block9_sepconv2_bn[0][0]         \n",
            "__________________________________________________________________________________________________\n",
            "block9_sepconv3 (SeparableConv2 (None, 19, 12, 728)  536536      block9_sepconv3_act[0][0]        \n",
            "__________________________________________________________________________________________________\n",
            "block9_sepconv3_bn (BatchNormal (None, 19, 12, 728)  2912        block9_sepconv3[0][0]            \n",
            "__________________________________________________________________________________________________\n",
            "add_7 (Add)                     (None, 19, 12, 728)  0           block9_sepconv3_bn[0][0]         \n",
            "                                                                 add_6[0][0]                      \n",
            "__________________________________________________________________________________________________\n",
            "block10_sepconv1_act (Activatio (None, 19, 12, 728)  0           add_7[0][0]                      \n",
            "__________________________________________________________________________________________________\n",
            "block10_sepconv1 (SeparableConv (None, 19, 12, 728)  536536      block10_sepconv1_act[0][0]       \n",
            "__________________________________________________________________________________________________\n",
            "block10_sepconv1_bn (BatchNorma (None, 19, 12, 728)  2912        block10_sepconv1[0][0]           \n",
            "__________________________________________________________________________________________________\n",
            "block10_sepconv2_act (Activatio (None, 19, 12, 728)  0           block10_sepconv1_bn[0][0]        \n",
            "__________________________________________________________________________________________________\n",
            "block10_sepconv2 (SeparableConv (None, 19, 12, 728)  536536      block10_sepconv2_act[0][0]       \n",
            "__________________________________________________________________________________________________\n",
            "block10_sepconv2_bn (BatchNorma (None, 19, 12, 728)  2912        block10_sepconv2[0][0]           \n",
            "__________________________________________________________________________________________________\n",
            "block10_sepconv3_act (Activatio (None, 19, 12, 728)  0           block10_sepconv2_bn[0][0]        \n",
            "__________________________________________________________________________________________________\n",
            "block10_sepconv3 (SeparableConv (None, 19, 12, 728)  536536      block10_sepconv3_act[0][0]       \n",
            "__________________________________________________________________________________________________\n",
            "block10_sepconv3_bn (BatchNorma (None, 19, 12, 728)  2912        block10_sepconv3[0][0]           \n",
            "__________________________________________________________________________________________________\n",
            "add_8 (Add)                     (None, 19, 12, 728)  0           block10_sepconv3_bn[0][0]        \n",
            "                                                                 add_7[0][0]                      \n",
            "__________________________________________________________________________________________________\n",
            "block11_sepconv1_act (Activatio (None, 19, 12, 728)  0           add_8[0][0]                      \n",
            "__________________________________________________________________________________________________\n",
            "block11_sepconv1 (SeparableConv (None, 19, 12, 728)  536536      block11_sepconv1_act[0][0]       \n",
            "__________________________________________________________________________________________________\n",
            "block11_sepconv1_bn (BatchNorma (None, 19, 12, 728)  2912        block11_sepconv1[0][0]           \n",
            "__________________________________________________________________________________________________\n",
            "block11_sepconv2_act (Activatio (None, 19, 12, 728)  0           block11_sepconv1_bn[0][0]        \n",
            "__________________________________________________________________________________________________\n",
            "block11_sepconv2 (SeparableConv (None, 19, 12, 728)  536536      block11_sepconv2_act[0][0]       \n",
            "__________________________________________________________________________________________________\n",
            "block11_sepconv2_bn (BatchNorma (None, 19, 12, 728)  2912        block11_sepconv2[0][0]           \n",
            "__________________________________________________________________________________________________\n",
            "block11_sepconv3_act (Activatio (None, 19, 12, 728)  0           block11_sepconv2_bn[0][0]        \n",
            "__________________________________________________________________________________________________\n",
            "block11_sepconv3 (SeparableConv (None, 19, 12, 728)  536536      block11_sepconv3_act[0][0]       \n",
            "__________________________________________________________________________________________________\n",
            "block11_sepconv3_bn (BatchNorma (None, 19, 12, 728)  2912        block11_sepconv3[0][0]           \n",
            "__________________________________________________________________________________________________\n",
            "add_9 (Add)                     (None, 19, 12, 728)  0           block11_sepconv3_bn[0][0]        \n",
            "                                                                 add_8[0][0]                      \n",
            "__________________________________________________________________________________________________\n",
            "block12_sepconv1_act (Activatio (None, 19, 12, 728)  0           add_9[0][0]                      \n",
            "__________________________________________________________________________________________________\n",
            "block12_sepconv1 (SeparableConv (None, 19, 12, 728)  536536      block12_sepconv1_act[0][0]       \n",
            "__________________________________________________________________________________________________\n",
            "block12_sepconv1_bn (BatchNorma (None, 19, 12, 728)  2912        block12_sepconv1[0][0]           \n",
            "__________________________________________________________________________________________________\n",
            "block12_sepconv2_act (Activatio (None, 19, 12, 728)  0           block12_sepconv1_bn[0][0]        \n",
            "__________________________________________________________________________________________________\n",
            "block12_sepconv2 (SeparableConv (None, 19, 12, 728)  536536      block12_sepconv2_act[0][0]       \n",
            "__________________________________________________________________________________________________\n",
            "block12_sepconv2_bn (BatchNorma (None, 19, 12, 728)  2912        block12_sepconv2[0][0]           \n",
            "__________________________________________________________________________________________________\n",
            "block12_sepconv3_act (Activatio (None, 19, 12, 728)  0           block12_sepconv2_bn[0][0]        \n",
            "__________________________________________________________________________________________________\n",
            "block12_sepconv3 (SeparableConv (None, 19, 12, 728)  536536      block12_sepconv3_act[0][0]       \n",
            "__________________________________________________________________________________________________\n",
            "block12_sepconv3_bn (BatchNorma (None, 19, 12, 728)  2912        block12_sepconv3[0][0]           \n",
            "__________________________________________________________________________________________________\n",
            "add_10 (Add)                    (None, 19, 12, 728)  0           block12_sepconv3_bn[0][0]        \n",
            "                                                                 add_9[0][0]                      \n",
            "__________________________________________________________________________________________________\n",
            "block13_sepconv1_act (Activatio (None, 19, 12, 728)  0           add_10[0][0]                     \n",
            "__________________________________________________________________________________________________\n",
            "block13_sepconv1 (SeparableConv (None, 19, 12, 728)  536536      block13_sepconv1_act[0][0]       \n",
            "__________________________________________________________________________________________________\n",
            "block13_sepconv1_bn (BatchNorma (None, 19, 12, 728)  2912        block13_sepconv1[0][0]           \n",
            "__________________________________________________________________________________________________\n",
            "block13_sepconv2_act (Activatio (None, 19, 12, 728)  0           block13_sepconv1_bn[0][0]        \n",
            "__________________________________________________________________________________________________\n",
            "block13_sepconv2 (SeparableConv (None, 19, 12, 1024) 752024      block13_sepconv2_act[0][0]       \n",
            "__________________________________________________________________________________________________\n",
            "block13_sepconv2_bn (BatchNorma (None, 19, 12, 1024) 4096        block13_sepconv2[0][0]           \n",
            "__________________________________________________________________________________________________\n",
            "conv2d_3 (Conv2D)               (None, 10, 6, 1024)  745472      add_10[0][0]                     \n",
            "__________________________________________________________________________________________________\n",
            "block13_pool (MaxPooling2D)     (None, 10, 6, 1024)  0           block13_sepconv2_bn[0][0]        \n",
            "__________________________________________________________________________________________________\n",
            "batch_normalization_3 (BatchNor (None, 10, 6, 1024)  4096        conv2d_3[0][0]                   \n",
            "__________________________________________________________________________________________________\n",
            "add_11 (Add)                    (None, 10, 6, 1024)  0           block13_pool[0][0]               \n",
            "                                                                 batch_normalization_3[0][0]      \n",
            "__________________________________________________________________________________________________\n",
            "block14_sepconv1 (SeparableConv (None, 10, 6, 1536)  1582080     add_11[0][0]                     \n",
            "__________________________________________________________________________________________________\n",
            "block14_sepconv1_bn (BatchNorma (None, 10, 6, 1536)  6144        block14_sepconv1[0][0]           \n",
            "__________________________________________________________________________________________________\n",
            "block14_sepconv1_act (Activatio (None, 10, 6, 1536)  0           block14_sepconv1_bn[0][0]        \n",
            "__________________________________________________________________________________________________\n",
            "block14_sepconv2 (SeparableConv (None, 10, 6, 2048)  3159552     block14_sepconv1_act[0][0]       \n",
            "__________________________________________________________________________________________________\n",
            "block14_sepconv2_bn (BatchNorma (None, 10, 6, 2048)  8192        block14_sepconv2[0][0]           \n",
            "__________________________________________________________________________________________________\n",
            "block14_sepconv2_act (Activatio (None, 10, 6, 2048)  0           block14_sepconv2_bn[0][0]        \n",
            "__________________________________________________________________________________________________\n",
            "flatten (Flatten)               (None, 122880)       0           block14_sepconv2_act[0][0]       \n",
            "__________________________________________________________________________________________________\n",
            "batch_normalization_4 (BatchNor (None, 122880)       491520      flatten[0][0]                    \n",
            "__________________________________________________________________________________________________\n",
            "batch_normalization_5 (BatchNor (None, 122880)       491520      batch_normalization_4[0][0]      \n",
            "__________________________________________________________________________________________________\n",
            "dense (Dense)                   (None, 8)            983048      batch_normalization_5[0][0]      \n",
            "==================================================================================================\n",
            "Total params: 22,827,568\n",
            "Trainable params: 22,281,520\n",
            "Non-trainable params: 546,048\n",
            "__________________________________________________________________________________________________\n"
          ],
          "name": "stdout"
        }
      ]
    },
    {
      "cell_type": "code",
      "metadata": {
        "execution": {
          "iopub.execute_input": "2020-08-13T17:22:05.760326Z",
          "iopub.status.busy": "2020-08-13T17:22:05.759717Z",
          "iopub.status.idle": "2020-08-13T17:52:18.756063Z",
          "shell.execute_reply": "2020-08-13T17:52:18.757148Z"
        },
        "id": "5yVzIocktn8z",
        "papermill": {
          "duration": 1813.037267,
          "end_time": "2020-08-13T17:52:18.757340",
          "exception": false,
          "start_time": "2020-08-13T17:22:05.720073",
          "status": "completed"
        },
        "scrolled": false,
        "tags": [],
        "colab_type": "code",
        "colab": {
          "base_uri": "https://localhost:8080/",
          "height": 1000
        },
        "outputId": "71536f79-5bdb-4a5b-fc1f-f9a5c6ae107e"
      },
      "source": [
        "shuffle(train_files)\n",
        "validation_data = next(fit_generator(train_files))\n",
        "train_data = fit_generator(train_files)\n",
        "\n",
        "hist = model.fit(train_data,\n",
        "                 batch_size=BATCH_SIZE,\n",
        "                 steps_per_epoch=len(train_files) // BATCH_SIZE,\n",
        "                 epochs=EPOCHS,\n",
        "                 validation_data=validation_data,\n",
        "                 callbacks=[model_checkpoint, early_stopping, reduce_lr])"
      ],
      "execution_count": 16,
      "outputs": [
        {
          "output_type": "stream",
          "text": [
            "Epoch 1/100\n",
            "  2/118 [..............................] - ETA: 1:29 - loss: 0.4987 - categorical_accuracy: 0.1875WARNING:tensorflow:Callbacks method `on_train_batch_end` is slow compared to the batch time (batch time: 0.4149s vs `on_train_batch_end` time: 1.1209s). Check your callbacks.\n",
            "118/118 [==============================] - ETA: 0s - loss: 0.4868 - categorical_accuracy: 0.1353WARNING:tensorflow:Model was constructed with shape (None, 300, 187, 3) for input Tensor(\"input_1:0\", shape=(None, 300, 187, 3), dtype=float32), but it was called on an input with incompatible shape (32, 187, 300, 3).\n",
            "\n",
            "Epoch 00001: val_loss improved from inf to 0.47244, saving model to model_VGG16_fish.h5\n",
            "118/118 [==============================] - 181s 2s/step - loss: 0.4868 - categorical_accuracy: 0.1353 - val_loss: 0.4724 - val_categorical_accuracy: 0.0938\n",
            "Epoch 2/100\n",
            "118/118 [==============================] - ETA: 0s - loss: 0.4743 - categorical_accuracy: 0.1110\n",
            "Epoch 00002: val_loss improved from 0.47244 to 0.46367, saving model to model_VGG16_fish.h5\n",
            "118/118 [==============================] - 179s 2s/step - loss: 0.4743 - categorical_accuracy: 0.1110 - val_loss: 0.4637 - val_categorical_accuracy: 0.1875\n",
            "Epoch 3/100\n",
            "118/118 [==============================] - ETA: 0s - loss: 0.4638 - categorical_accuracy: 0.1120\n",
            "Epoch 00003: val_loss improved from 0.46367 to 0.45504, saving model to model_VGG16_fish.h5\n",
            "118/118 [==============================] - 180s 2s/step - loss: 0.4638 - categorical_accuracy: 0.1120 - val_loss: 0.4550 - val_categorical_accuracy: 0.2188\n",
            "Epoch 4/100\n",
            "118/118 [==============================] - ETA: 0s - loss: 0.4536 - categorical_accuracy: 0.1250\n",
            "Epoch 00004: val_loss improved from 0.45504 to 0.44640, saving model to model_VGG16_fish.h5\n",
            "118/118 [==============================] - 180s 2s/step - loss: 0.4536 - categorical_accuracy: 0.1250 - val_loss: 0.4464 - val_categorical_accuracy: 0.2188\n",
            "Epoch 5/100\n",
            "118/118 [==============================] - ETA: 0s - loss: 0.4430 - categorical_accuracy: 0.1189\n",
            "Epoch 00005: val_loss improved from 0.44640 to 0.43847, saving model to model_VGG16_fish.h5\n",
            "118/118 [==============================] - 180s 2s/step - loss: 0.4430 - categorical_accuracy: 0.1189 - val_loss: 0.4385 - val_categorical_accuracy: 0.1875\n",
            "Epoch 6/100\n",
            "118/118 [==============================] - ETA: 0s - loss: 0.4322 - categorical_accuracy: 0.1274\n",
            "Epoch 00006: val_loss improved from 0.43847 to 0.42699, saving model to model_VGG16_fish.h5\n",
            "118/118 [==============================] - 180s 2s/step - loss: 0.4322 - categorical_accuracy: 0.1274 - val_loss: 0.4270 - val_categorical_accuracy: 0.2500\n",
            "Epoch 7/100\n",
            "118/118 [==============================] - ETA: 0s - loss: 0.4211 - categorical_accuracy: 0.1308\n",
            "Epoch 00007: val_loss improved from 0.42699 to 0.41800, saving model to model_VGG16_fish.h5\n",
            "118/118 [==============================] - 179s 2s/step - loss: 0.4211 - categorical_accuracy: 0.1308 - val_loss: 0.4180 - val_categorical_accuracy: 0.1875\n",
            "Epoch 8/100\n",
            "118/118 [==============================] - ETA: 0s - loss: 0.4097 - categorical_accuracy: 0.1308\n",
            "Epoch 00008: val_loss improved from 0.41800 to 0.40551, saving model to model_VGG16_fish.h5\n",
            "118/118 [==============================] - 180s 2s/step - loss: 0.4097 - categorical_accuracy: 0.1308 - val_loss: 0.4055 - val_categorical_accuracy: 0.2188\n",
            "Epoch 9/100\n",
            "118/118 [==============================] - ETA: 0s - loss: 0.3978 - categorical_accuracy: 0.1229\n",
            "Epoch 00009: val_loss improved from 0.40551 to 0.39313, saving model to model_VGG16_fish.h5\n",
            "118/118 [==============================] - 180s 2s/step - loss: 0.3978 - categorical_accuracy: 0.1229 - val_loss: 0.3931 - val_categorical_accuracy: 0.1875\n",
            "Epoch 10/100\n",
            "118/118 [==============================] - ETA: 0s - loss: 0.3855 - categorical_accuracy: 0.1221\n",
            "Epoch 00010: val_loss improved from 0.39313 to 0.38695, saving model to model_VGG16_fish.h5\n",
            "118/118 [==============================] - 180s 2s/step - loss: 0.3855 - categorical_accuracy: 0.1221 - val_loss: 0.3870 - val_categorical_accuracy: 0.1875\n",
            "Epoch 11/100\n",
            "118/118 [==============================] - ETA: 0s - loss: 0.3731 - categorical_accuracy: 0.1237\n",
            "Epoch 00011: val_loss improved from 0.38695 to 0.36761, saving model to model_VGG16_fish.h5\n",
            "118/118 [==============================] - 180s 2s/step - loss: 0.3731 - categorical_accuracy: 0.1237 - val_loss: 0.3676 - val_categorical_accuracy: 0.2188\n",
            "Epoch 12/100\n",
            "118/118 [==============================] - ETA: 0s - loss: 0.3602 - categorical_accuracy: 0.1213\n",
            "Epoch 00012: val_loss improved from 0.36761 to 0.35565, saving model to model_VGG16_fish.h5\n",
            "118/118 [==============================] - 179s 2s/step - loss: 0.3602 - categorical_accuracy: 0.1213 - val_loss: 0.3556 - val_categorical_accuracy: 0.1875\n",
            "Epoch 13/100\n",
            "118/118 [==============================] - ETA: 0s - loss: 0.3470 - categorical_accuracy: 0.1345\n",
            "Epoch 00013: val_loss improved from 0.35565 to 0.34159, saving model to model_VGG16_fish.h5\n",
            "118/118 [==============================] - 180s 2s/step - loss: 0.3470 - categorical_accuracy: 0.1345 - val_loss: 0.3416 - val_categorical_accuracy: 0.2500\n",
            "Epoch 14/100\n",
            "118/118 [==============================] - ETA: 0s - loss: 0.3336 - categorical_accuracy: 0.1308\n",
            "Epoch 00014: val_loss improved from 0.34159 to 0.32862, saving model to model_VGG16_fish.h5\n",
            "118/118 [==============================] - 179s 2s/step - loss: 0.3336 - categorical_accuracy: 0.1308 - val_loss: 0.3286 - val_categorical_accuracy: 0.2188\n",
            "Epoch 15/100\n",
            "118/118 [==============================] - ETA: 0s - loss: 0.3198 - categorical_accuracy: 0.1197\n",
            "Epoch 00015: val_loss improved from 0.32862 to 0.31350, saving model to model_VGG16_fish.h5\n",
            "118/118 [==============================] - 179s 2s/step - loss: 0.3198 - categorical_accuracy: 0.1197 - val_loss: 0.3135 - val_categorical_accuracy: 0.1562\n",
            "Epoch 16/100\n",
            "118/118 [==============================] - ETA: 0s - loss: 0.3059 - categorical_accuracy: 0.1290\n",
            "Epoch 00016: val_loss improved from 0.31350 to 0.29947, saving model to model_VGG16_fish.h5\n",
            "118/118 [==============================] - 180s 2s/step - loss: 0.3059 - categorical_accuracy: 0.1290 - val_loss: 0.2995 - val_categorical_accuracy: 0.2188\n",
            "Epoch 17/100\n",
            "118/118 [==============================] - ETA: 0s - loss: 0.2918 - categorical_accuracy: 0.1210\n",
            "Epoch 00017: val_loss improved from 0.29947 to 0.28533, saving model to model_VGG16_fish.h5\n",
            "118/118 [==============================] - 180s 2s/step - loss: 0.2918 - categorical_accuracy: 0.1210 - val_loss: 0.2853 - val_categorical_accuracy: 0.2812\n",
            "Epoch 18/100\n",
            "118/118 [==============================] - ETA: 0s - loss: 0.2777 - categorical_accuracy: 0.1226\n",
            "Epoch 00018: val_loss improved from 0.28533 to 0.27087, saving model to model_VGG16_fish.h5\n",
            "118/118 [==============================] - 180s 2s/step - loss: 0.2777 - categorical_accuracy: 0.1226 - val_loss: 0.2709 - val_categorical_accuracy: 0.2500\n",
            "Epoch 19/100\n",
            "118/118 [==============================] - ETA: 0s - loss: 0.2635 - categorical_accuracy: 0.1279\n",
            "Epoch 00019: val_loss improved from 0.27087 to 0.25661, saving model to model_VGG16_fish.h5\n",
            "118/118 [==============================] - 180s 2s/step - loss: 0.2635 - categorical_accuracy: 0.1279 - val_loss: 0.2566 - val_categorical_accuracy: 0.2500\n",
            "Epoch 20/100\n",
            "118/118 [==============================] - ETA: 0s - loss: 0.2493 - categorical_accuracy: 0.1176\n",
            "Epoch 00020: val_loss improved from 0.25661 to 0.24251, saving model to model_VGG16_fish.h5\n",
            "118/118 [==============================] - 180s 2s/step - loss: 0.2493 - categorical_accuracy: 0.1176 - val_loss: 0.2425 - val_categorical_accuracy: 0.2812\n",
            "Epoch 21/100\n",
            "118/118 [==============================] - ETA: 0s - loss: 0.2354 - categorical_accuracy: 0.1231\n",
            "Epoch 00021: val_loss improved from 0.24251 to 0.22866, saving model to model_VGG16_fish.h5\n",
            "118/118 [==============================] - 179s 2s/step - loss: 0.2354 - categorical_accuracy: 0.1231 - val_loss: 0.2287 - val_categorical_accuracy: 0.3125\n",
            "Epoch 22/100\n",
            "118/118 [==============================] - ETA: 0s - loss: 0.2217 - categorical_accuracy: 0.1335\n",
            "Epoch 00022: val_loss improved from 0.22866 to 0.21509, saving model to model_VGG16_fish.h5\n",
            "118/118 [==============================] - 179s 2s/step - loss: 0.2217 - categorical_accuracy: 0.1335 - val_loss: 0.2151 - val_categorical_accuracy: 0.2500\n",
            "Epoch 23/100\n",
            "118/118 [==============================] - ETA: 0s - loss: 0.2085 - categorical_accuracy: 0.1271\n",
            "Epoch 00023: val_loss improved from 0.21509 to 0.20206, saving model to model_VGG16_fish.h5\n",
            "118/118 [==============================] - 180s 2s/step - loss: 0.2085 - categorical_accuracy: 0.1271 - val_loss: 0.2021 - val_categorical_accuracy: 0.2500\n",
            "Epoch 24/100\n",
            "118/118 [==============================] - ETA: 0s - loss: 0.1957 - categorical_accuracy: 0.1239\n",
            "Epoch 00024: val_loss improved from 0.20206 to 0.18962, saving model to model_VGG16_fish.h5\n",
            "118/118 [==============================] - 180s 2s/step - loss: 0.1957 - categorical_accuracy: 0.1239 - val_loss: 0.1896 - val_categorical_accuracy: 0.2188\n",
            "Epoch 25/100\n",
            "118/118 [==============================] - ETA: 0s - loss: 0.1837 - categorical_accuracy: 0.1258\n",
            "Epoch 00025: val_loss improved from 0.18962 to 0.17801, saving model to model_VGG16_fish.h5\n",
            "118/118 [==============================] - 180s 2s/step - loss: 0.1837 - categorical_accuracy: 0.1258 - val_loss: 0.1780 - val_categorical_accuracy: 0.1875\n",
            "Epoch 26/100\n",
            "118/118 [==============================] - ETA: 0s - loss: 0.1726 - categorical_accuracy: 0.1269\n",
            "Epoch 00026: val_loss improved from 0.17801 to 0.16740, saving model to model_VGG16_fish.h5\n",
            "118/118 [==============================] - 179s 2s/step - loss: 0.1726 - categorical_accuracy: 0.1269 - val_loss: 0.1674 - val_categorical_accuracy: 0.2500\n",
            "Epoch 27/100\n",
            "118/118 [==============================] - ETA: 0s - loss: 0.1626 - categorical_accuracy: 0.1231\n",
            "Epoch 00027: val_loss improved from 0.16740 to 0.15796, saving model to model_VGG16_fish.h5\n",
            "118/118 [==============================] - 180s 2s/step - loss: 0.1626 - categorical_accuracy: 0.1231 - val_loss: 0.1580 - val_categorical_accuracy: 0.1875\n",
            "Epoch 28/100\n",
            "118/118 [==============================] - ETA: 0s - loss: 0.1538 - categorical_accuracy: 0.1194\n",
            "Epoch 00028: val_loss improved from 0.15796 to 0.14993, saving model to model_VGG16_fish.h5\n",
            "118/118 [==============================] - 181s 2s/step - loss: 0.1538 - categorical_accuracy: 0.1194 - val_loss: 0.1499 - val_categorical_accuracy: 0.1250\n",
            "Epoch 29/100\n",
            "118/118 [==============================] - ETA: 0s - loss: 0.1466 - categorical_accuracy: 0.1192\n",
            "Epoch 00029: val_loss improved from 0.14993 to 0.14350, saving model to model_VGG16_fish.h5\n",
            "118/118 [==============================] - 181s 2s/step - loss: 0.1466 - categorical_accuracy: 0.1192 - val_loss: 0.1435 - val_categorical_accuracy: 0.1875\n",
            "Epoch 30/100\n",
            "118/118 [==============================] - ETA: 0s - loss: 0.1410 - categorical_accuracy: 0.1163\n",
            "Epoch 00030: val_loss improved from 0.14350 to 0.13885, saving model to model_VGG16_fish.h5\n",
            "118/118 [==============================] - 180s 2s/step - loss: 0.1410 - categorical_accuracy: 0.1163 - val_loss: 0.1389 - val_categorical_accuracy: 0.0938\n",
            "Epoch 31/100\n",
            "118/118 [==============================] - ETA: 0s - loss: 0.1373 - categorical_accuracy: 0.1221\n",
            "Epoch 00031: val_loss improved from 0.13885 to 0.13597, saving model to model_VGG16_fish.h5\n",
            "118/118 [==============================] - 181s 2s/step - loss: 0.1373 - categorical_accuracy: 0.1221 - val_loss: 0.1360 - val_categorical_accuracy: 0.1875\n",
            "Epoch 32/100\n",
            "118/118 [==============================] - ETA: 0s - loss: 0.1351 - categorical_accuracy: 0.1186\n",
            "Epoch 00032: val_loss improved from 0.13597 to 0.13448, saving model to model_VGG16_fish.h5\n",
            "118/118 [==============================] - 181s 2s/step - loss: 0.1351 - categorical_accuracy: 0.1186 - val_loss: 0.1345 - val_categorical_accuracy: 0.1875\n",
            "Epoch 33/100\n",
            "118/118 [==============================] - ETA: 0s - loss: 0.1341 - categorical_accuracy: 0.1136\n",
            "Epoch 00033: val_loss improved from 0.13448 to 0.13385, saving model to model_VGG16_fish.h5\n",
            "118/118 [==============================] - 181s 2s/step - loss: 0.1341 - categorical_accuracy: 0.1136 - val_loss: 0.1339 - val_categorical_accuracy: 0.1562\n",
            "Epoch 34/100\n",
            "118/118 [==============================] - ETA: 0s - loss: 0.1337 - categorical_accuracy: 0.1208\n",
            "Epoch 00034: val_loss improved from 0.13385 to 0.13364, saving model to model_VGG16_fish.h5\n",
            "118/118 [==============================] - 181s 2s/step - loss: 0.1337 - categorical_accuracy: 0.1208 - val_loss: 0.1336 - val_categorical_accuracy: 0.1250\n",
            "Epoch 35/100\n",
            "118/118 [==============================] - ETA: 0s - loss: 0.1336 - categorical_accuracy: 0.1096\n",
            "Epoch 00035: val_loss improved from 0.13364 to 0.13359, saving model to model_VGG16_fish.h5\n",
            "118/118 [==============================] - 180s 2s/step - loss: 0.1336 - categorical_accuracy: 0.1096 - val_loss: 0.1336 - val_categorical_accuracy: 0.2500\n",
            "Epoch 36/100\n",
            "118/118 [==============================] - ETA: 0s - loss: 0.1336 - categorical_accuracy: 0.0821\n",
            "Epoch 00036: val_loss improved from 0.13359 to 0.13358, saving model to model_VGG16_fish.h5\n",
            "118/118 [==============================] - 179s 2s/step - loss: 0.1336 - categorical_accuracy: 0.0821 - val_loss: 0.1336 - val_categorical_accuracy: 0.0938\n",
            "Epoch 37/100\n",
            "118/118 [==============================] - ETA: 0s - loss: 0.1336 - categorical_accuracy: 0.0993\n",
            "Epoch 00037: val_loss did not improve from 0.13358\n",
            "118/118 [==============================] - 179s 2s/step - loss: 0.1336 - categorical_accuracy: 0.0993 - val_loss: 0.1336 - val_categorical_accuracy: 0.0625\n",
            "Epoch 38/100\n",
            "118/118 [==============================] - ETA: 0s - loss: 0.1336 - categorical_accuracy: 0.1472\n",
            "Epoch 00038: val_loss did not improve from 0.13358\n",
            "118/118 [==============================] - 179s 2s/step - loss: 0.1336 - categorical_accuracy: 0.1472 - val_loss: 0.1336 - val_categorical_accuracy: 0.2500\n",
            "Epoch 39/100\n",
            "118/118 [==============================] - ETA: 0s - loss: 0.1336 - categorical_accuracy: 0.1276\n",
            "Epoch 00039: val_loss did not improve from 0.13358\n",
            "118/118 [==============================] - 179s 2s/step - loss: 0.1336 - categorical_accuracy: 0.1276 - val_loss: 0.1336 - val_categorical_accuracy: 0.0938\n",
            "Epoch 40/100\n",
            "118/118 [==============================] - ETA: 0s - loss: 0.1336 - categorical_accuracy: 0.1186\n",
            "Epoch 00040: val_loss did not improve from 0.13358\n",
            "118/118 [==============================] - 180s 2s/step - loss: 0.1336 - categorical_accuracy: 0.1186 - val_loss: 0.1336 - val_categorical_accuracy: 0.1562\n",
            "Epoch 41/100\n",
            "118/118 [==============================] - ETA: 0s - loss: 0.1336 - categorical_accuracy: 0.1250\n",
            "Epoch 00041: val_loss did not improve from 0.13358\n",
            "\n",
            "Epoch 00041: ReduceLROnPlateau reducing learning rate to 4.999999873689376e-06.\n",
            "118/118 [==============================] - 180s 2s/step - loss: 0.1336 - categorical_accuracy: 0.1250 - val_loss: 0.1336 - val_categorical_accuracy: 0.0312\n",
            "Epoch 00041: early stopping\n"
          ],
          "name": "stdout"
        }
      ]
    },
    {
      "cell_type": "code",
      "metadata": {
        "id": "JeOe1htfmDDD",
        "colab_type": "code",
        "colab": {
          "base_uri": "https://localhost:8080/",
          "height": 299
        },
        "outputId": "c7695053-f1fa-457f-b421-a7d68af8c4f3"
      },
      "source": [
        "from matplotlib import pyplot as plt\n",
        "%matplotlib inline\n",
        "\n",
        "plt.figure(figsize=(16,4))\n",
        "plt.subplot(121)\n",
        "plt.plot(hist.history['categorical_accuracy'])\n",
        "plt.plot(hist.history['val_categorical_accuracy'])\n",
        "plt.legend(['categorical_accuracy', 'val_categorical_accuracy'])\n",
        "plt.title(('categorical_accuracy = {}\\nval_categorical_accuracy = {}'.format(round(hist.history['categorical_accuracy'][-1],3), \n",
        "                                                   round(hist.history['val_categorical_accuracy'][-1],3))), fontsize=14)\n",
        "plt.grid(True)\n",
        "plt.subplot(122)\n",
        "plt.plot(hist.history['loss'])\n",
        "plt.plot(hist.history['val_loss'])\n",
        "plt.legend(['loss','val_loss'])\n",
        "plt.title(('loss = {}\\nval_loss = {}'.format(round(hist.history['loss'][-1],3), \n",
        "                                           round(hist.history['val_loss'][-1],3))), fontsize=14)\n",
        "plt.grid(True)\n",
        "plt.show();"
      ],
      "execution_count": 17,
      "outputs": [
        {
          "output_type": "display_data",
          "data": {
            "image/png": "[encoded data removed]",
            "text/plain": [
              "<Figure size 1152x288 with 2 Axes>"
            ]
          },
          "metadata": {
            "tags": [],
            "needs_background": "light"
          }
        }
      ]
    },
    {
      "cell_type": "code",
      "metadata": {
        "execution": {
          "iopub.execute_input": "2020-08-13T17:52:27.327338Z",
          "iopub.status.busy": "2020-08-13T17:52:27.326252Z",
          "iopub.status.idle": "2020-08-13T17:52:27.353934Z",
          "shell.execute_reply": "2020-08-13T17:52:27.352909Z"
        },
        "id": "4wzXSgGaZyew",
        "papermill": {
          "duration": 2.007614,
          "end_time": "2020-08-13T17:52:27.354060",
          "exception": false,
          "start_time": "2020-08-13T17:52:25.346446",
          "status": "completed"
        },
        "tags": [],
        "colab_type": "code",
        "colab": {}
      },
      "source": [
        "model.load_weights('model_VGG16_fish.h5')"
      ],
      "execution_count": 18,
      "outputs": []
    },
    {
      "cell_type": "code",
      "metadata": {
        "execution": {
          "iopub.execute_input": "2020-08-13T17:52:31.814795Z",
          "iopub.status.busy": "2020-08-13T17:52:31.813946Z",
          "iopub.status.idle": "2020-08-13T17:53:31.653333Z",
          "shell.execute_reply": "2020-08-13T17:53:31.653892Z"
        },
        "id": "3OEEBce9tn85",
        "papermill": {
          "duration": 62.388642,
          "end_time": "2020-08-13T17:53:31.654082",
          "exception": false,
          "start_time": "2020-08-13T17:52:29.265440",
          "status": "completed"
        },
        "tags": [],
        "colab_type": "code",
        "colab": {
          "base_uri": "https://localhost:8080/",
          "height": 176
        },
        "outputId": "56face95-a2a3-4889-9ee4-b4f6ce1c14ef"
      },
      "source": [
        "import pandas as pd\n",
        "\n",
        "FISH_CLASSES = os.listdir('train')\n",
        "\n",
        "if '.DS_Store' in FISH_CLASSES:\n",
        "  FISH_CLASSES.remove('.DS_Store')\n",
        "\n",
        "print('Prediction a part_1:')\n",
        "test_pred_1 = model.predict(predict_generator(test_files_1), steps=len(test_files_1), verbose=1)\n",
        "submission_1 = pd.DataFrame(test_pred_1, columns=FISH_CLASSES)\n",
        "submission_1.insert(0, 'image', [i[10:] for i in test_files_1])\n",
        "\n",
        "print('\\nPrediction a part_2:')\n",
        "test_pred_2 = model.predict(predict_generator(test_files_2), steps=len(test_files_2), verbose=1)\n",
        "submission_2 = pd.DataFrame(test_pred_2, columns=FISH_CLASSES)\n",
        "submission_2.insert(0, 'image', test_files_2)\n",
        "\n",
        "submission = pd.concat([submission_1, submission_2])\n",
        "submission.to_csv('submission.csv', index=False)\n",
        "\n",
        "print('\\nFinish prediction')"
      ],
      "execution_count": 19,
      "outputs": [
        {
          "output_type": "stream",
          "text": [
            "Prediction a part_1:\n",
            "   1/1000 [..............................] - ETA: 0sWARNING:tensorflow:Callbacks method `on_predict_batch_end` is slow compared to the batch time (batch time: 0.0084s vs `on_predict_batch_end` time: 0.0177s). Check your callbacks.\n",
            "1000/1000 [==============================] - 30s 30ms/step\n",
            "\n",
            "Prediction a part_2:\n",
            "12153/12153 [==============================] - 311s 26ms/step\n",
            "\n",
            "Finish prediction\n"
          ],
          "name": "stdout"
        }
      ]
    }
  ]
}