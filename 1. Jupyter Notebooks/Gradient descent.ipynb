{
 "cells": [
  {
   "cell_type": "code",
   "execution_count": 38,
   "metadata": {},
   "outputs": [],
   "source": [
    "import numpy as np\n",
    "from sklearn.datasets.samples_generator import make_classification"
   ]
  },
  {
   "cell_type": "code",
   "execution_count": 39,
   "metadata": {
    "scrolled": true
   },
   "outputs": [],
   "source": [
    "x, y = make_classification(n_samples=100, n_features=5)"
   ]
  },
  {
   "cell_type": "code",
   "execution_count": 40,
   "metadata": {},
   "outputs": [],
   "source": [
    "m, n = np.shape(x)\n",
    "x = np.c_[ np.ones(m), x]\n",
    "alpha = 0.01"
   ]
  },
  {
   "cell_type": "code",
   "execution_count": 41,
   "metadata": {},
   "outputs": [],
   "source": [
    "def sigmoid(x):\n",
    "    return 1 / (1 + np.exp(-x))\n",
    "\n",
    "def gradient_descent(alpha, x, y, numIterations):\n",
    "    m = x.shape[1]\n",
    "    theta = np.ones(m)\n",
    "    x_transpose = x.transpose()\n",
    "    \n",
    "    for iter in range(0, numIterations):\n",
    "        hypothesis = sigmoid(np.dot(x, theta.transpose()).reshape(-1))\n",
    "        loss = hypothesis - y\n",
    "        J = -y * np.log(hypothesis) - (1-y) * np.log(1-hypothesis)\n",
    "#         print(J.mean())\n",
    "        gradient = np.dot(x_transpose, loss)\n",
    "        theta = theta - alpha * gradient\n",
    "    \n",
    "    return theta"
   ]
  },
  {
   "cell_type": "code",
   "execution_count": 42,
   "metadata": {},
   "outputs": [],
   "source": [
    "theta = gradient_descent(alpha, x, y, 1000)"
   ]
  },
  {
   "cell_type": "code",
   "execution_count": 43,
   "metadata": {},
   "outputs": [],
   "source": [
    "for i in range(x.shape[1]):\n",
    "    y_predict = theta[0] + theta[1]*x"
   ]
  }
 ],
 "metadata": {
  "kernelspec": {
   "display_name": "Python 3",
   "language": "python",
   "name": "python3"
  },
  "language_info": {
   "codemirror_mode": {
    "name": "ipython",
    "version": 3
   },
   "file_extension": ".py",
   "mimetype": "text/x-python",
   "name": "python",
   "nbconvert_exporter": "python",
   "pygments_lexer": "ipython3",
   "version": "3.7.4"
  }
 },
 "nbformat": 4,
 "nbformat_minor": 2
}
