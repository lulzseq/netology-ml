{
 "cells": [
  {
   "cell_type": "markdown",
   "metadata": {},
   "source": [
    "# Поиск наиболее близкого имени участника"
   ]
  },
  {
   "cell_type": "code",
   "execution_count": 1,
   "metadata": {},
   "outputs": [],
   "source": [
    "# conda install -c conda-forge python-levenshtein\n",
    "# или pip install python-levenshtein\n",
    "\n",
    "import Levenshtein"
   ]
  },
  {
   "cell_type": "code",
   "execution_count": 2,
   "metadata": {},
   "outputs": [],
   "source": [
    "# что было написано в заявке\n",
    "\n",
    "claim_list = [\n",
    "    'Шехавцова Анна',\n",
    "    'Гречихина Наталья',\n",
    "    'Козлова Алена',\n",
    "    'Груздева Алина',\n",
    "    'Кущенко Анна',\n",
    "    'Чистякова Анастасия'\n",
    "]"
   ]
  },
  {
   "cell_type": "code",
   "execution_count": 3,
   "metadata": {},
   "outputs": [],
   "source": [
    "# результат расшифровки речи диктора\n",
    "\n",
    "speech_recognition = [\n",
    "    'кучменко она',\n",
    "    'кущенко оксана',\n",
    "    'груздь алина',\n",
    "    'рычихина наталья',\n",
    "    'шиховцева на',\n",
    "    'чистова анастасия'\n",
    "]"
   ]
  },
  {
   "cell_type": "markdown",
   "metadata": {},
   "source": [
    "### С библиотекой Levenshtein"
   ]
  },
  {
   "cell_type": "code",
   "execution_count": 4,
   "metadata": {},
   "outputs": [
    {
     "data": {
      "text/plain": [
       "4"
      ]
     },
     "execution_count": 4,
     "metadata": {},
     "output_type": "execute_result"
    }
   ],
   "source": [
    "Levenshtein.distance('Оксана', 'Анна')"
   ]
  },
  {
   "cell_type": "code",
   "execution_count": 5,
   "metadata": {},
   "outputs": [
    {
     "name": "stdout",
     "output_type": "stream",
     "text": [
      "кучменко она\n",
      "кущенко оксана\n",
      "груздь алина\n",
      "рычихина наталья\n",
      "шиховцева на\n",
      "чистова анастасия\n"
     ]
    }
   ],
   "source": [
    "for recognized_name in speech_recognition:\n",
    "    print(recognized_name)"
   ]
  },
  {
   "cell_type": "code",
   "execution_count": 6,
   "metadata": {},
   "outputs": [
    {
     "name": "stdout",
     "output_type": "stream",
     "text": [
      "кучменко она,Шехавцова Анна,11\n",
      "кучменко она,Гречихина Наталья,14\n",
      "кучменко она,Козлова Алена,11\n",
      "кучменко она,Груздева Алина,10\n",
      "кучменко она,Кущенко Анна,5\n",
      "кучменко она,Чистякова Анастасия,15\n",
      "кущенко оксана,Шехавцова Анна,11\n",
      "кущенко оксана,Гречихина Наталья,15\n",
      "кущенко оксана,Козлова Алена,11\n",
      "кущенко оксана,Груздева Алина,11\n",
      "кущенко оксана,Кущенко Анна,5\n",
      "кущенко оксана,Чистякова Анастасия,14\n",
      "груздь алина,Шехавцова Анна,11\n",
      "груздь алина,Гречихина Наталья,14\n",
      "груздь алина,Козлова Алена,9\n",
      "груздь алина,Груздева Алина,5\n",
      "груздь алина,Кущенко Анна,10\n",
      "груздь алина,Чистякова Анастасия,16\n",
      "рычихина наталья,Шехавцова Анна,14\n",
      "рычихина наталья,Гречихина Наталья,3\n",
      "рычихина наталья,Козлова Алена,14\n",
      "рычихина наталья,Груздева Алина,14\n",
      "рычихина наталья,Кущенко Анна,14\n",
      "рычихина наталья,Чистякова Анастасия,12\n",
      "шиховцева на,Шехавцова Анна,6\n",
      "шиховцева на,Гречихина Наталья,14\n",
      "шиховцева на,Козлова Алена,9\n",
      "шиховцева на,Груздева Алина,9\n",
      "шиховцева на,Кущенко Анна,10\n",
      "шиховцева на,Чистякова Анастасия,13\n",
      "чистова анастасия,Шехавцова Анна,13\n",
      "чистова анастасия,Гречихина Наталья,12\n",
      "чистова анастасия,Козлова Алена,12\n",
      "чистова анастасия,Груздева Алина,14\n",
      "чистова анастасия,Кущенко Анна,14\n",
      "чистова анастасия,Чистякова Анастасия,4\n"
     ]
    }
   ],
   "source": [
    "for recognized_name in speech_recognition:\n",
    "    for real_name in claim_list:\n",
    "        print('{},{},{}'.format(recognized_name, real_name, Levenshtein.distance(recognized_name, real_name)))"
   ]
  },
  {
   "cell_type": "markdown",
   "metadata": {},
   "source": [
    "## Задание 1"
   ]
  },
  {
   "cell_type": "markdown",
   "metadata": {},
   "source": [
    "Завершаем практическое задание №2. \n",
    "\n",
    "Необходимо для каждой распознанной фамилии вывести на экран наиболее подходящий вариант из стартового протокола"
   ]
  },
  {
   "cell_type": "code",
   "execution_count": 7,
   "metadata": {},
   "outputs": [
    {
     "name": "stdout",
     "output_type": "stream",
     "text": [
      "\"кучменко она\" — минимальное расстояние Левенштейна 5\n",
      "Соответствует имя \"Кущенко Анна\"\n",
      "\n",
      "\"кущенко оксана\" — минимальное расстояние Левенштейна 5\n",
      "Соответствует имя \"Кущенко Анна\"\n",
      "\n",
      "\"груздь алина\" — минимальное расстояние Левенштейна 5\n",
      "Соответствует имя \"Груздева Алина\"\n",
      "\n",
      "\"рычихина наталья\" — минимальное расстояние Левенштейна 3\n",
      "Соответствует имя \"Гречихина Наталья\"\n",
      "\n",
      "\"шиховцева на\" — минимальное расстояние Левенштейна 6\n",
      "Соответствует имя \"Шехавцова Анна\"\n",
      "\n",
      "\"чистова анастасия\" — минимальное расстояние Левенштейна 4\n",
      "Соответствует имя \"Чистякова Анастасия\"\n",
      "\n"
     ]
    }
   ],
   "source": [
    "for recognized_name in speech_recognition:\n",
    "    d = {}\n",
    "    i = 0\n",
    "    for real_name in claim_list:\n",
    "        l = []\n",
    "        l.append(real_name)\n",
    "        l.append(Levenshtein.distance(recognized_name, real_name))\n",
    "        d[i] = recognized_name, real_name, Levenshtein.distance(recognized_name, real_name)\n",
    "        i += 1\n",
    "    sp = []\n",
    "    for i in d:\n",
    "        sp.append(d[i][2])\n",
    "    print('\"{}\" — минимальное расстояние Левенштейна {}'.format(recognized_name, min(sp)))\n",
    "    for i in d:\n",
    "        if min(sp) == d[i][2]:\n",
    "            print('Соответствует имя \"{}\"'.format(d[i][1]))\n",
    "    print()"
   ]
  },
  {
   "cell_type": "code",
   "execution_count": null,
   "metadata": {},
   "outputs": [],
   "source": []
  }
 ],
 "metadata": {
  "kernelspec": {
   "display_name": "Python 3",
   "language": "python",
   "name": "python3"
  },
  "language_info": {
   "codemirror_mode": {
    "name": "ipython",
    "version": 3
   },
   "file_extension": ".py",
   "mimetype": "text/x-python",
   "name": "python",
   "nbconvert_exporter": "python",
   "pygments_lexer": "ipython3",
   "version": "3.7.4"
  }
 },
 "nbformat": 4,
 "nbformat_minor": 2
}
