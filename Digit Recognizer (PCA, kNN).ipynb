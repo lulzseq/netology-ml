{
 "cells": [
  {
   "cell_type": "code",
   "execution_count": 1,
   "metadata": {},
   "outputs": [],
   "source": [
    "# load the modules\n",
    "\n",
    "from sklearn.neighbors import KNeighborsClassifier\n",
    "import numpy as np\n",
    "from sklearn.metrics import classification_report\n",
    "import matplotlib.pyplot as plt\n",
    "from sklearn.model_selection import train_test_split\n",
    "import warnings\n",
    "warnings.filterwarnings('ignore')"
   ]
  },
  {
   "cell_type": "code",
   "execution_count": 2,
   "metadata": {},
   "outputs": [],
   "source": [
    "# read data\n",
    "\n",
    "train = np.loadtxt('./data/digit/train.csv', delimiter=',', skiprows=1)\n",
    "test = np.loadtxt('./data/digit/test.csv', delimiter=',', skiprows=1)"
   ]
  },
  {
   "cell_type": "code",
   "execution_count": 3,
   "metadata": {},
   "outputs": [],
   "source": [
    "# preparation data\n",
    "\n",
    "train_label = train[:, 0]\n",
    "train_data = np.delete(train, train[:, 0], axis=1)\n",
    "\n",
    "train_img = np.resize(train[:, 1:], (train.shape[0], 28, 28))\n",
    "test_img = np.resize(test, (test.shape[0], 28, 28))\n",
    "\n",
    "X_train_img = train_img.reshape(-1, 28 * 28).astype(np.float32)\n",
    "X_test_img = test_img.reshape(-1, 28 * 28).astype(np.float32)"
   ]
  },
  {
   "cell_type": "code",
   "execution_count": 4,
   "metadata": {},
   "outputs": [
    {
     "data": {
      "image/png": "[encoded data removed]",
      "text/plain": [
       "<Figure size 1440x720 with 5 Axes>"
      ]
     },
     "metadata": {
      "needs_background": "light"
     },
     "output_type": "display_data"
    }
   ],
   "source": [
    "# plot some of the numbers\n",
    "\n",
    "fig = plt.figure(figsize=(20, 10))\n",
    "for i, img in enumerate(train_img[0:5], 1):\n",
    "    subplot = fig.add_subplot(1, 7, i)\n",
    "    plt.imshow(img, cmap='gray');\n",
    "    subplot.set_title('%s' % train_label[i - 1]);"
   ]
  },
  {
   "cell_type": "code",
   "execution_count": 5,
   "metadata": {},
   "outputs": [
    {
     "data": {
      "image/png": "[encoded data removed]",
      "text/plain": [
       "<Figure size 432x288 with 1 Axes>"
      ]
     },
     "metadata": {
      "needs_background": "light"
     },
     "output_type": "display_data"
    }
   ],
   "source": [
    "# preparation data for PCA\n",
    "\n",
    "X_mean = X_train_img.mean(axis=0)\n",
    "X_train_img -= X_mean\n",
    "\n",
    "cov = np.dot(X_train_img.T, X_train_img) / X_train_img.shape[0]\n",
    "U, S, _ = np.linalg.svd(cov)\n",
    "S_cumsum = np.cumsum(S) / np.sum(S)\n",
    "\n",
    "plt.plot(S_cumsum, 'o');"
   ]
  },
  {
   "cell_type": "code",
   "execution_count": 6,
   "metadata": {},
   "outputs": [
    {
     "name": "stdout",
     "output_type": "stream",
     "text": [
      "n_comp=153 S=0.950\n"
     ]
    }
   ],
   "source": [
    "S_thr = 0.95\n",
    "\n",
    "n_comp = np.argmax(np.where(S_cumsum > S_thr, 1, 0))\n",
    "print('n_comp=%d S=%.3f' % (n_comp, S_cumsum[n_comp]))"
   ]
  },
  {
   "cell_type": "code",
   "execution_count": 7,
   "metadata": {},
   "outputs": [],
   "source": [
    "# reduced data\n",
    "\n",
    "X_train_reduced = np.dot(X_train_img, U[:, :n_comp])\n",
    "X_test_reduced = np.dot(X_test_img, U[:, :n_comp])"
   ]
  },
  {
   "cell_type": "code",
   "execution_count": 8,
   "metadata": {},
   "outputs": [],
   "source": [
    "# split data on some parts\n",
    "\n",
    "X_train, X_test, y_train, y_test = train_test_split(X_train_reduced, train_label, test_size=0.2, random_state=42)\n",
    "X_train, X_values, y_train, y_values = train_test_split(X_train, y_train, test_size=0.1, random_state=42)"
   ]
  },
  {
   "cell_type": "code",
   "execution_count": 9,
   "metadata": {},
   "outputs": [
    {
     "name": "stdout",
     "output_type": "stream",
     "text": [
      "\n",
      "Best accuracy: 97.05%\n",
      "Best params: k=6, p=3\n"
     ]
    }
   ],
   "source": [
    "# using kNN and simple finding best params\n",
    "\n",
    "accuracies = {}\n",
    "\n",
    "for k in range(1, 20):\n",
    "    for p in range(1, 10):\n",
    "        knn = KNeighborsClassifier(n_neighbors=k, p=p, n_jobs=-1)\n",
    "        knn.fit(X_train, y_train)\n",
    "\n",
    "        score = knn.score(X_values, y_values)\n",
    "        accuracies[score] = [k, p]\n",
    "    \n",
    "print('\\nBest accuracy: %.2f%%\\nBest params: k=%d, p=%d' % (max(accuracies)*100, \n",
    "                                                     accuracies[max(accuracies, key=float)][0], \n",
    "                                                     accuracies[max(accuracies, key=float)][1]))"
   ]
  },
  {
   "cell_type": "code",
   "execution_count": 10,
   "metadata": {},
   "outputs": [
    {
     "name": "stdout",
     "output_type": "stream",
     "text": [
      "\t\tClassification report with k=6, p=3\n",
      "\n",
      "              precision    recall  f1-score   support\n",
      "\n",
      "         0.0       0.98      1.00      0.99       816\n",
      "         1.0       0.95      1.00      0.97       909\n",
      "         2.0       0.98      0.96      0.97       846\n",
      "         3.0       0.96      0.96      0.96       937\n",
      "         4.0       0.98      0.96      0.97       839\n",
      "         5.0       0.95      0.96      0.96       702\n",
      "         6.0       0.97      0.98      0.98       785\n",
      "         7.0       0.96      0.96      0.96       893\n",
      "         8.0       0.98      0.93      0.96       835\n",
      "         9.0       0.95      0.95      0.95       838\n",
      "\n",
      "    accuracy                           0.97      8400\n",
      "   macro avg       0.97      0.97      0.97      8400\n",
      "weighted avg       0.97      0.97      0.97      8400\n",
      "\n"
     ]
    }
   ],
   "source": [
    "# kNN classification report\n",
    "\n",
    "knn = KNeighborsClassifier(n_neighbors=accuracies[max(accuracies, key=float)][0],\n",
    "                           p=accuracies[max(accuracies, key=float)][1],\n",
    "                           n_jobs=-1)\n",
    "knn.fit(X_train, y_train)\n",
    "y_predict = knn.predict(X_test)\n",
    "\n",
    "print('\\t\\tClassification report with k=%d, p=%d\\n' % (accuracies[max(accuracies, key=float)][0],\n",
    "                                                         accuracies[max(accuracies, key=float)][1]))\n",
    "print(classification_report(y_test, y_predict))"
   ]
  },
  {
   "cell_type": "code",
   "execution_count": 11,
   "metadata": {},
   "outputs": [],
   "source": [
    "# fit-predict\n",
    "\n",
    "knn = KNeighborsClassifier(n_neighbors=accuracies[max(accuracies, key=float)][0],\n",
    "                           p=accuracies[max(accuracies, key=float)][1],\n",
    "                           n_jobs=-1)\n",
    "knn.fit(X_train_reduced, train_label)\n",
    "prediction = knn.predict(X_test_reduced)"
   ]
  },
  {
   "cell_type": "code",
   "execution_count": 12,
   "metadata": {},
   "outputs": [
    {
     "data": {
      "image/png": "[encoded data removed]",
      "text/plain": [
       "<Figure size 1440x720 with 5 Axes>"
      ]
     },
     "metadata": {
      "needs_background": "light"
     },
     "output_type": "display_data"
    }
   ],
   "source": [
    "# prediction\n",
    "\n",
    "fig = plt.figure(figsize=(20, 10))\n",
    "for i, img in enumerate(test_img[0:5], 1):\n",
    "    subplot = fig.add_subplot(1, 7, i)\n",
    "    plt.imshow(img, cmap='gray');\n",
    "    subplot.set_title('%s' % prediction[i - 1]);"
   ]
  },
  {
   "cell_type": "code",
   "execution_count": 13,
   "metadata": {},
   "outputs": [],
   "source": [
    "# save result\n",
    "\n",
    "with open('submit.txt', 'w') as dst:\n",
    "    dst.write('ImageId,Label\\n')\n",
    "    for i, p in enumerate(prediction, 1):\n",
    "        dst.write('%s,%s\\n' % (i, int(p)))"
   ]
  },
  {
   "cell_type": "code",
   "execution_count": 14,
   "metadata": {},
   "outputs": [
    {
     "name": "stdout",
     "output_type": "stream",
     "text": [
      "ImageId,Label\r\n",
      "1,2\r\n",
      "2,0\r\n",
      "3,9\r\n",
      "4,9\r\n",
      "5,3\r\n",
      "6,9\r\n",
      "7,0\r\n",
      "8,3\r\n",
      "9,0\r\n"
     ]
    }
   ],
   "source": [
    "!head submit.txt"
   ]
  }
 ],
 "metadata": {
  "kernelspec": {
   "display_name": "Python 3",
   "language": "python",
   "name": "python3"
  },
  "language_info": {
   "codemirror_mode": {
    "name": "ipython",
    "version": 3
   },
   "file_extension": ".py",
   "mimetype": "text/x-python",
   "name": "python",
   "nbconvert_exporter": "python",
   "pygments_lexer": "ipython3",
   "version": "3.7.4"
  }
 },
 "nbformat": 4,
 "nbformat_minor": 2
}
