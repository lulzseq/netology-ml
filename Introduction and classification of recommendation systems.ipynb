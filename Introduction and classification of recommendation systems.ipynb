{
 "cells": [
  {
   "cell_type": "code",
   "execution_count": 1,
   "metadata": {
    "ExecuteTime": {
     "end_time": "2019-08-27T17:46:15.600188Z",
     "start_time": "2019-08-27T17:46:14.703782Z"
    }
   },
   "outputs": [],
   "source": [
    "import pandas as pd\n",
    "import numpy as np\n",
    "import matplotlib.pyplot as plt\n",
    "from tqdm import tqdm_notebook"
   ]
  },
  {
   "cell_type": "code",
   "execution_count": 2,
   "metadata": {
    "ExecuteTime": {
     "end_time": "2019-08-27T17:46:16.525675Z",
     "start_time": "2019-08-27T17:46:16.431692Z"
    }
   },
   "outputs": [],
   "source": [
    "links = pd.read_csv('links.csv')\n",
    "movies = pd.read_csv('movies.csv')\n",
    "ratings = pd.read_csv('ratings.csv')\n",
    "tags = pd.read_csv('tags.csv')"
   ]
  },
  {
   "cell_type": "code",
   "execution_count": 3,
   "metadata": {
    "ExecuteTime": {
     "end_time": "2019-08-27T17:46:18.348391Z",
     "start_time": "2019-08-27T17:46:18.335174Z"
    }
   },
   "outputs": [
    {
     "data": {
      "text/html": [
       "<div>\n",
       "<style scoped>\n",
       "    .dataframe tbody tr th:only-of-type {\n",
       "        vertical-align: middle;\n",
       "    }\n",
       "\n",
       "    .dataframe tbody tr th {\n",
       "        vertical-align: top;\n",
       "    }\n",
       "\n",
       "    .dataframe thead th {\n",
       "        text-align: right;\n",
       "    }\n",
       "</style>\n",
       "<table border=\"1\" class=\"dataframe\">\n",
       "  <thead>\n",
       "    <tr style=\"text-align: right;\">\n",
       "      <th></th>\n",
       "      <th>movieId</th>\n",
       "      <th>imdbId</th>\n",
       "      <th>tmdbId</th>\n",
       "    </tr>\n",
       "  </thead>\n",
       "  <tbody>\n",
       "    <tr>\n",
       "      <th>0</th>\n",
       "      <td>1</td>\n",
       "      <td>114709</td>\n",
       "      <td>862.0</td>\n",
       "    </tr>\n",
       "    <tr>\n",
       "      <th>1</th>\n",
       "      <td>2</td>\n",
       "      <td>113497</td>\n",
       "      <td>8844.0</td>\n",
       "    </tr>\n",
       "    <tr>\n",
       "      <th>2</th>\n",
       "      <td>3</td>\n",
       "      <td>113228</td>\n",
       "      <td>15602.0</td>\n",
       "    </tr>\n",
       "    <tr>\n",
       "      <th>3</th>\n",
       "      <td>4</td>\n",
       "      <td>114885</td>\n",
       "      <td>31357.0</td>\n",
       "    </tr>\n",
       "    <tr>\n",
       "      <th>4</th>\n",
       "      <td>5</td>\n",
       "      <td>113041</td>\n",
       "      <td>11862.0</td>\n",
       "    </tr>\n",
       "  </tbody>\n",
       "</table>\n",
       "</div>"
      ],
      "text/plain": [
       "   movieId  imdbId   tmdbId\n",
       "0        1  114709    862.0\n",
       "1        2  113497   8844.0\n",
       "2        3  113228  15602.0\n",
       "3        4  114885  31357.0\n",
       "4        5  113041  11862.0"
      ]
     },
     "execution_count": 3,
     "metadata": {},
     "output_type": "execute_result"
    }
   ],
   "source": [
    "links.head()"
   ]
  },
  {
   "cell_type": "code",
   "execution_count": 4,
   "metadata": {
    "ExecuteTime": {
     "end_time": "2019-08-27T17:46:36.885998Z",
     "start_time": "2019-08-27T17:46:36.878157Z"
    }
   },
   "outputs": [
    {
     "data": {
      "text/html": [
       "<div>\n",
       "<style scoped>\n",
       "    .dataframe tbody tr th:only-of-type {\n",
       "        vertical-align: middle;\n",
       "    }\n",
       "\n",
       "    .dataframe tbody tr th {\n",
       "        vertical-align: top;\n",
       "    }\n",
       "\n",
       "    .dataframe thead th {\n",
       "        text-align: right;\n",
       "    }\n",
       "</style>\n",
       "<table border=\"1\" class=\"dataframe\">\n",
       "  <thead>\n",
       "    <tr style=\"text-align: right;\">\n",
       "      <th></th>\n",
       "      <th>movieId</th>\n",
       "      <th>title</th>\n",
       "      <th>genres</th>\n",
       "    </tr>\n",
       "  </thead>\n",
       "  <tbody>\n",
       "    <tr>\n",
       "      <th>0</th>\n",
       "      <td>1</td>\n",
       "      <td>Toy Story (1995)</td>\n",
       "      <td>Adventure|Animation|Children|Comedy|Fantasy</td>\n",
       "    </tr>\n",
       "    <tr>\n",
       "      <th>1</th>\n",
       "      <td>2</td>\n",
       "      <td>Jumanji (1995)</td>\n",
       "      <td>Adventure|Children|Fantasy</td>\n",
       "    </tr>\n",
       "    <tr>\n",
       "      <th>2</th>\n",
       "      <td>3</td>\n",
       "      <td>Grumpier Old Men (1995)</td>\n",
       "      <td>Comedy|Romance</td>\n",
       "    </tr>\n",
       "    <tr>\n",
       "      <th>3</th>\n",
       "      <td>4</td>\n",
       "      <td>Waiting to Exhale (1995)</td>\n",
       "      <td>Comedy|Drama|Romance</td>\n",
       "    </tr>\n",
       "    <tr>\n",
       "      <th>4</th>\n",
       "      <td>5</td>\n",
       "      <td>Father of the Bride Part II (1995)</td>\n",
       "      <td>Comedy</td>\n",
       "    </tr>\n",
       "  </tbody>\n",
       "</table>\n",
       "</div>"
      ],
      "text/plain": [
       "   movieId                               title  \\\n",
       "0        1                    Toy Story (1995)   \n",
       "1        2                      Jumanji (1995)   \n",
       "2        3             Grumpier Old Men (1995)   \n",
       "3        4            Waiting to Exhale (1995)   \n",
       "4        5  Father of the Bride Part II (1995)   \n",
       "\n",
       "                                        genres  \n",
       "0  Adventure|Animation|Children|Comedy|Fantasy  \n",
       "1                   Adventure|Children|Fantasy  \n",
       "2                               Comedy|Romance  \n",
       "3                         Comedy|Drama|Romance  \n",
       "4                                       Comedy  "
      ]
     },
     "execution_count": 4,
     "metadata": {},
     "output_type": "execute_result"
    }
   ],
   "source": [
    "movies.head()"
   ]
  },
  {
   "cell_type": "code",
   "execution_count": 5,
   "metadata": {
    "ExecuteTime": {
     "end_time": "2019-08-27T17:47:01.784648Z",
     "start_time": "2019-08-27T17:47:01.776511Z"
    },
    "scrolled": true
   },
   "outputs": [
    {
     "data": {
      "text/html": [
       "<div>\n",
       "<style scoped>\n",
       "    .dataframe tbody tr th:only-of-type {\n",
       "        vertical-align: middle;\n",
       "    }\n",
       "\n",
       "    .dataframe tbody tr th {\n",
       "        vertical-align: top;\n",
       "    }\n",
       "\n",
       "    .dataframe thead th {\n",
       "        text-align: right;\n",
       "    }\n",
       "</style>\n",
       "<table border=\"1\" class=\"dataframe\">\n",
       "  <thead>\n",
       "    <tr style=\"text-align: right;\">\n",
       "      <th></th>\n",
       "      <th>userId</th>\n",
       "      <th>movieId</th>\n",
       "      <th>rating</th>\n",
       "      <th>timestamp</th>\n",
       "    </tr>\n",
       "  </thead>\n",
       "  <tbody>\n",
       "    <tr>\n",
       "      <th>0</th>\n",
       "      <td>1</td>\n",
       "      <td>1</td>\n",
       "      <td>4.0</td>\n",
       "      <td>964982703</td>\n",
       "    </tr>\n",
       "    <tr>\n",
       "      <th>1</th>\n",
       "      <td>1</td>\n",
       "      <td>3</td>\n",
       "      <td>4.0</td>\n",
       "      <td>964981247</td>\n",
       "    </tr>\n",
       "    <tr>\n",
       "      <th>2</th>\n",
       "      <td>1</td>\n",
       "      <td>6</td>\n",
       "      <td>4.0</td>\n",
       "      <td>964982224</td>\n",
       "    </tr>\n",
       "    <tr>\n",
       "      <th>3</th>\n",
       "      <td>1</td>\n",
       "      <td>47</td>\n",
       "      <td>5.0</td>\n",
       "      <td>964983815</td>\n",
       "    </tr>\n",
       "    <tr>\n",
       "      <th>4</th>\n",
       "      <td>1</td>\n",
       "      <td>50</td>\n",
       "      <td>5.0</td>\n",
       "      <td>964982931</td>\n",
       "    </tr>\n",
       "  </tbody>\n",
       "</table>\n",
       "</div>"
      ],
      "text/plain": [
       "   userId  movieId  rating  timestamp\n",
       "0       1        1     4.0  964982703\n",
       "1       1        3     4.0  964981247\n",
       "2       1        6     4.0  964982224\n",
       "3       1       47     5.0  964983815\n",
       "4       1       50     5.0  964982931"
      ]
     },
     "execution_count": 5,
     "metadata": {},
     "output_type": "execute_result"
    }
   ],
   "source": [
    "ratings.head()"
   ]
  },
  {
   "cell_type": "code",
   "execution_count": 6,
   "metadata": {
    "ExecuteTime": {
     "end_time": "2019-08-27T17:47:23.707634Z",
     "start_time": "2019-08-27T17:47:23.699391Z"
    }
   },
   "outputs": [
    {
     "data": {
      "text/html": [
       "<div>\n",
       "<style scoped>\n",
       "    .dataframe tbody tr th:only-of-type {\n",
       "        vertical-align: middle;\n",
       "    }\n",
       "\n",
       "    .dataframe tbody tr th {\n",
       "        vertical-align: top;\n",
       "    }\n",
       "\n",
       "    .dataframe thead th {\n",
       "        text-align: right;\n",
       "    }\n",
       "</style>\n",
       "<table border=\"1\" class=\"dataframe\">\n",
       "  <thead>\n",
       "    <tr style=\"text-align: right;\">\n",
       "      <th></th>\n",
       "      <th>userId</th>\n",
       "      <th>movieId</th>\n",
       "      <th>tag</th>\n",
       "      <th>timestamp</th>\n",
       "    </tr>\n",
       "  </thead>\n",
       "  <tbody>\n",
       "    <tr>\n",
       "      <th>0</th>\n",
       "      <td>2</td>\n",
       "      <td>60756</td>\n",
       "      <td>funny</td>\n",
       "      <td>1445714994</td>\n",
       "    </tr>\n",
       "    <tr>\n",
       "      <th>1</th>\n",
       "      <td>2</td>\n",
       "      <td>60756</td>\n",
       "      <td>Highly quotable</td>\n",
       "      <td>1445714996</td>\n",
       "    </tr>\n",
       "    <tr>\n",
       "      <th>2</th>\n",
       "      <td>2</td>\n",
       "      <td>60756</td>\n",
       "      <td>will ferrell</td>\n",
       "      <td>1445714992</td>\n",
       "    </tr>\n",
       "    <tr>\n",
       "      <th>3</th>\n",
       "      <td>2</td>\n",
       "      <td>89774</td>\n",
       "      <td>Boxing story</td>\n",
       "      <td>1445715207</td>\n",
       "    </tr>\n",
       "    <tr>\n",
       "      <th>4</th>\n",
       "      <td>2</td>\n",
       "      <td>89774</td>\n",
       "      <td>MMA</td>\n",
       "      <td>1445715200</td>\n",
       "    </tr>\n",
       "  </tbody>\n",
       "</table>\n",
       "</div>"
      ],
      "text/plain": [
       "   userId  movieId              tag   timestamp\n",
       "0       2    60756            funny  1445714994\n",
       "1       2    60756  Highly quotable  1445714996\n",
       "2       2    60756     will ferrell  1445714992\n",
       "3       2    89774     Boxing story  1445715207\n",
       "4       2    89774              MMA  1445715200"
      ]
     },
     "execution_count": 6,
     "metadata": {},
     "output_type": "execute_result"
    }
   ],
   "source": [
    "tags.head()"
   ]
  },
  {
   "cell_type": "code",
   "execution_count": 7,
   "metadata": {
    "ExecuteTime": {
     "end_time": "2019-08-27T17:48:18.477466Z",
     "start_time": "2019-08-27T17:48:18.452436Z"
    },
    "scrolled": true
   },
   "outputs": [],
   "source": [
    "# соединим таблицу с рейтингами и названиями фильмов\n",
    "joined_ratings = ratings.join(movies.set_index('movieId'), on='movieId')"
   ]
  },
  {
   "cell_type": "code",
   "execution_count": 8,
   "metadata": {
    "ExecuteTime": {
     "end_time": "2019-08-27T17:48:22.304063Z",
     "start_time": "2019-08-27T17:48:22.293848Z"
    }
   },
   "outputs": [
    {
     "data": {
      "text/html": [
       "<div>\n",
       "<style scoped>\n",
       "    .dataframe tbody tr th:only-of-type {\n",
       "        vertical-align: middle;\n",
       "    }\n",
       "\n",
       "    .dataframe tbody tr th {\n",
       "        vertical-align: top;\n",
       "    }\n",
       "\n",
       "    .dataframe thead th {\n",
       "        text-align: right;\n",
       "    }\n",
       "</style>\n",
       "<table border=\"1\" class=\"dataframe\">\n",
       "  <thead>\n",
       "    <tr style=\"text-align: right;\">\n",
       "      <th></th>\n",
       "      <th>userId</th>\n",
       "      <th>movieId</th>\n",
       "      <th>rating</th>\n",
       "      <th>timestamp</th>\n",
       "      <th>title</th>\n",
       "      <th>genres</th>\n",
       "    </tr>\n",
       "  </thead>\n",
       "  <tbody>\n",
       "    <tr>\n",
       "      <th>0</th>\n",
       "      <td>1</td>\n",
       "      <td>1</td>\n",
       "      <td>4.0</td>\n",
       "      <td>964982703</td>\n",
       "      <td>Toy Story (1995)</td>\n",
       "      <td>Adventure|Animation|Children|Comedy|Fantasy</td>\n",
       "    </tr>\n",
       "    <tr>\n",
       "      <th>1</th>\n",
       "      <td>1</td>\n",
       "      <td>3</td>\n",
       "      <td>4.0</td>\n",
       "      <td>964981247</td>\n",
       "      <td>Grumpier Old Men (1995)</td>\n",
       "      <td>Comedy|Romance</td>\n",
       "    </tr>\n",
       "    <tr>\n",
       "      <th>2</th>\n",
       "      <td>1</td>\n",
       "      <td>6</td>\n",
       "      <td>4.0</td>\n",
       "      <td>964982224</td>\n",
       "      <td>Heat (1995)</td>\n",
       "      <td>Action|Crime|Thriller</td>\n",
       "    </tr>\n",
       "    <tr>\n",
       "      <th>3</th>\n",
       "      <td>1</td>\n",
       "      <td>47</td>\n",
       "      <td>5.0</td>\n",
       "      <td>964983815</td>\n",
       "      <td>Seven (a.k.a. Se7en) (1995)</td>\n",
       "      <td>Mystery|Thriller</td>\n",
       "    </tr>\n",
       "    <tr>\n",
       "      <th>4</th>\n",
       "      <td>1</td>\n",
       "      <td>50</td>\n",
       "      <td>5.0</td>\n",
       "      <td>964982931</td>\n",
       "      <td>Usual Suspects, The (1995)</td>\n",
       "      <td>Crime|Mystery|Thriller</td>\n",
       "    </tr>\n",
       "  </tbody>\n",
       "</table>\n",
       "</div>"
      ],
      "text/plain": [
       "   userId  movieId  rating  timestamp                        title  \\\n",
       "0       1        1     4.0  964982703             Toy Story (1995)   \n",
       "1       1        3     4.0  964981247      Grumpier Old Men (1995)   \n",
       "2       1        6     4.0  964982224                  Heat (1995)   \n",
       "3       1       47     5.0  964983815  Seven (a.k.a. Se7en) (1995)   \n",
       "4       1       50     5.0  964982931   Usual Suspects, The (1995)   \n",
       "\n",
       "                                        genres  \n",
       "0  Adventure|Animation|Children|Comedy|Fantasy  \n",
       "1                               Comedy|Romance  \n",
       "2                        Action|Crime|Thriller  \n",
       "3                             Mystery|Thriller  \n",
       "4                       Crime|Mystery|Thriller  "
      ]
     },
     "execution_count": 8,
     "metadata": {},
     "output_type": "execute_result"
    }
   ],
   "source": [
    "joined_ratings.head()"
   ]
  },
  {
   "cell_type": "code",
   "execution_count": 9,
   "metadata": {
    "ExecuteTime": {
     "end_time": "2019-08-27T17:48:35.894802Z",
     "start_time": "2019-08-27T17:48:35.723602Z"
    }
   },
   "outputs": [
    {
     "data": {
      "image/png": "[encoded data removed]",
      "text/plain": [
       "<Figure size 432x288 with 1 Axes>"
      ]
     },
     "metadata": {
      "needs_background": "light"
     },
     "output_type": "display_data"
    }
   ],
   "source": [
    "# посмотрим на гистограмму распределения оценок\n",
    "_ = joined_ratings.rating.hist()"
   ]
  },
  {
   "cell_type": "code",
   "execution_count": 10,
   "metadata": {
    "ExecuteTime": {
     "end_time": "2019-08-27T17:48:46.790228Z",
     "start_time": "2019-08-27T17:48:46.624991Z"
    }
   },
   "outputs": [
    {
     "data": {
      "image/png": "[encoded data removed]",
      "text/plain": [
       "<Figure size 432x288 with 1 Axes>"
      ]
     },
     "metadata": {
      "needs_background": "light"
     },
     "output_type": "display_data"
    }
   ],
   "source": [
    "# гистограмма по количеству оценок на фильм\n",
    "_ = joined_ratings.groupby('title').rating.count().hist()"
   ]
  },
  {
   "cell_type": "code",
   "execution_count": 11,
   "metadata": {
    "ExecuteTime": {
     "end_time": "2019-08-27T17:50:19.826125Z",
     "start_time": "2019-08-27T17:50:19.793315Z"
    },
    "scrolled": false
   },
   "outputs": [
    {
     "data": {
      "text/html": [
       "<div>\n",
       "<style scoped>\n",
       "    .dataframe tbody tr th:only-of-type {\n",
       "        vertical-align: middle;\n",
       "    }\n",
       "\n",
       "    .dataframe tbody tr th {\n",
       "        vertical-align: top;\n",
       "    }\n",
       "\n",
       "    .dataframe thead th {\n",
       "        text-align: right;\n",
       "    }\n",
       "</style>\n",
       "<table border=\"1\" class=\"dataframe\">\n",
       "  <thead>\n",
       "    <tr style=\"text-align: right;\">\n",
       "      <th></th>\n",
       "      <th>rating</th>\n",
       "    </tr>\n",
       "    <tr>\n",
       "      <th>title</th>\n",
       "      <th></th>\n",
       "    </tr>\n",
       "  </thead>\n",
       "  <tbody>\n",
       "    <tr>\n",
       "      <th>Gena the Crocodile (1969)</th>\n",
       "      <td>5.0</td>\n",
       "    </tr>\n",
       "    <tr>\n",
       "      <th>True Stories (1986)</th>\n",
       "      <td>5.0</td>\n",
       "    </tr>\n",
       "    <tr>\n",
       "      <th>Cosmic Scrat-tastrophe (2015)</th>\n",
       "      <td>5.0</td>\n",
       "    </tr>\n",
       "    <tr>\n",
       "      <th>Love and Pigeons (1985)</th>\n",
       "      <td>5.0</td>\n",
       "    </tr>\n",
       "    <tr>\n",
       "      <th>Red Sorghum (Hong gao liang) (1987)</th>\n",
       "      <td>5.0</td>\n",
       "    </tr>\n",
       "    <tr>\n",
       "      <th>Thin Line Between Love and Hate, A (1996)</th>\n",
       "      <td>5.0</td>\n",
       "    </tr>\n",
       "    <tr>\n",
       "      <th>Lesson Faust (1994)</th>\n",
       "      <td>5.0</td>\n",
       "    </tr>\n",
       "    <tr>\n",
       "      <th>Eva (2011)</th>\n",
       "      <td>5.0</td>\n",
       "    </tr>\n",
       "    <tr>\n",
       "      <th>Who Killed Chea Vichea? (2010)</th>\n",
       "      <td>5.0</td>\n",
       "    </tr>\n",
       "    <tr>\n",
       "      <th>Siam Sunset (1999)</th>\n",
       "      <td>5.0</td>\n",
       "    </tr>\n",
       "  </tbody>\n",
       "</table>\n",
       "</div>"
      ],
      "text/plain": [
       "                                           rating\n",
       "title                                            \n",
       "Gena the Crocodile (1969)                     5.0\n",
       "True Stories (1986)                           5.0\n",
       "Cosmic Scrat-tastrophe (2015)                 5.0\n",
       "Love and Pigeons (1985)                       5.0\n",
       "Red Sorghum (Hong gao liang) (1987)           5.0\n",
       "Thin Line Between Love and Hate, A (1996)     5.0\n",
       "Lesson Faust (1994)                           5.0\n",
       "Eva (2011)                                    5.0\n",
       "Who Killed Chea Vichea? (2010)                5.0\n",
       "Siam Sunset (1999)                            5.0"
      ]
     },
     "execution_count": 11,
     "metadata": {},
     "output_type": "execute_result"
    }
   ],
   "source": [
    "# достанем топ фильмов по оценкам\n",
    "top_films = joined_ratings.groupby('title')[['rating']].mean().sort_values('rating', ascending=False)\n",
    "top_films.head(10)"
   ]
  },
  {
   "cell_type": "code",
   "execution_count": 12,
   "metadata": {
    "ExecuteTime": {
     "end_time": "2019-08-27T17:52:01.787433Z",
     "start_time": "2019-08-27T17:52:01.770088Z"
    }
   },
   "outputs": [
    {
     "data": {
      "text/html": [
       "<div>\n",
       "<style scoped>\n",
       "    .dataframe tbody tr th:only-of-type {\n",
       "        vertical-align: middle;\n",
       "    }\n",
       "\n",
       "    .dataframe tbody tr th {\n",
       "        vertical-align: top;\n",
       "    }\n",
       "\n",
       "    .dataframe thead th {\n",
       "        text-align: right;\n",
       "    }\n",
       "</style>\n",
       "<table border=\"1\" class=\"dataframe\">\n",
       "  <thead>\n",
       "    <tr style=\"text-align: right;\">\n",
       "      <th></th>\n",
       "      <th>userId</th>\n",
       "      <th>movieId</th>\n",
       "      <th>rating</th>\n",
       "      <th>timestamp</th>\n",
       "      <th>title</th>\n",
       "      <th>genres</th>\n",
       "    </tr>\n",
       "  </thead>\n",
       "  <tbody>\n",
       "    <tr>\n",
       "      <th>71980</th>\n",
       "      <td>462</td>\n",
       "      <td>152711</td>\n",
       "      <td>5.0</td>\n",
       "      <td>1455645862</td>\n",
       "      <td>Who Killed Chea Vichea? (2010)</td>\n",
       "      <td>Documentary</td>\n",
       "    </tr>\n",
       "  </tbody>\n",
       "</table>\n",
       "</div>"
      ],
      "text/plain": [
       "       userId  movieId  rating   timestamp                           title  \\\n",
       "71980     462   152711     5.0  1455645862  Who Killed Chea Vichea? (2010)   \n",
       "\n",
       "            genres  \n",
       "71980  Documentary  "
      ]
     },
     "execution_count": 12,
     "metadata": {},
     "output_type": "execute_result"
    }
   ],
   "source": [
    "joined_ratings[joined_ratings['title']=='Who Killed Chea Vichea? (2010)']"
   ]
  },
  {
   "cell_type": "code",
   "execution_count": 13,
   "metadata": {
    "ExecuteTime": {
     "end_time": "2019-08-27T17:53:45.396259Z",
     "start_time": "2019-08-27T17:53:45.392339Z"
    }
   },
   "outputs": [],
   "source": [
    "# возьмем только фильмы с наивысшей средней оценкой в 5.0\n",
    "films_with_highest_marks = top_films.iloc[np.where(top_films.rating == 5.0)].index"
   ]
  },
  {
   "cell_type": "code",
   "execution_count": 14,
   "metadata": {
    "ExecuteTime": {
     "end_time": "2019-08-27T17:53:54.555047Z",
     "start_time": "2019-08-27T17:53:51.615322Z"
    }
   },
   "outputs": [
    {
     "name": "stderr",
     "output_type": "stream",
     "text": [
      "/Users/kuznetsovd/opt/anaconda3/lib/python3.7/site-packages/ipykernel_launcher.py:4: TqdmDeprecationWarning: This function will be removed in tqdm==5.0.0\n",
      "Please use `tqdm.notebook.tqdm` instead of `tqdm.tqdm_notebook`\n",
      "  after removing the cwd from sys.path.\n"
     ]
    },
    {
     "data": {
      "application/vnd.jupyter.widget-view+json": {
       "model_id": "e463d1b6d08a43b6b2cf4c797f704d55",
       "version_major": 2,
       "version_minor": 0
      },
      "text/plain": [
       "HBox(children=(FloatProgress(value=0.0, max=9719.0), HTML(value='')))"
      ]
     },
     "metadata": {},
     "output_type": "display_data"
    },
    {
     "name": "stdout",
     "output_type": "stream",
     "text": [
      "\n"
     ]
    }
   ],
   "source": [
    "# достанем по каждому фильму количество рейтингов\n",
    "title_num_ratings = {}\n",
    "\n",
    "for title, group in tqdm_notebook(joined_ratings.groupby('title')):\n",
    "    title_num_ratings[title] = group.userId.unique().shape[0]"
   ]
  },
  {
   "cell_type": "code",
   "execution_count": 15,
   "metadata": {
    "ExecuteTime": {
     "end_time": "2019-08-27T17:55:08.970756Z",
     "start_time": "2019-08-27T17:55:08.964613Z"
    }
   },
   "outputs": [
    {
     "data": {
      "text/plain": [
       "[(2, 'Lesson Faust (1994)'),\n",
       " (2, 'Heidi Fleiss: Hollywood Madam (1995)'),\n",
       " (2, 'Enter the Void (2009)'),\n",
       " (2, 'Lamerica (1994)'),\n",
       " (2,\n",
       "  \"Jonah Who Will Be 25 in the Year 2000 (Jonas qui aura 25 ans en l'an 2000) (1976)\"),\n",
       " (2, 'Come and See (Idi i smotri) (1985)'),\n",
       " (2, 'Belle époque (1992)'),\n",
       " (1, 'Gena the Crocodile (1969)'),\n",
       " (1, 'True Stories (1986)'),\n",
       " (1, 'Cosmic Scrat-tastrophe (2015)')]"
      ]
     },
     "execution_count": 15,
     "metadata": {},
     "output_type": "execute_result"
    }
   ],
   "source": [
    "# выведем топ фильмов со средней оценкой в 5.0 по количеству отзывов и увидим, что рейтинг получается не самый удачный\n",
    "sorted([(title_num_ratings[f], f) for f in films_with_highest_marks], key=lambda x: x[0], reverse=True)[:10]"
   ]
  },
  {
   "cell_type": "markdown",
   "metadata": {},
   "source": [
    "### Приняли решение сортировать фильмы по следующей метрике: средняя оценка фильма, умноженная на нормированное количество рейтингов"
   ]
  },
  {
   "cell_type": "code",
   "execution_count": 16,
   "metadata": {
    "ExecuteTime": {
     "end_time": "2019-08-27T17:58:29.993991Z",
     "start_time": "2019-08-27T17:58:29.980897Z"
    }
   },
   "outputs": [],
   "source": [
    "# достанем простые статистики по количеству рейтингов\n",
    "min_num_ratings = np.min([title_num_ratings[f] for f in title_num_ratings.keys()])\n",
    "max_num_ratings = np.max([title_num_ratings[f] for f in title_num_ratings.keys()])\n",
    "mean_num_ratings = np.mean([title_num_ratings[f] for f in title_num_ratings.keys()])\n",
    "median_num_ratings = np.median([title_num_ratings[f] for f in title_num_ratings.keys()])"
   ]
  },
  {
   "cell_type": "code",
   "execution_count": 17,
   "metadata": {
    "ExecuteTime": {
     "end_time": "2019-08-27T17:58:30.660545Z",
     "start_time": "2019-08-27T17:58:30.656681Z"
    }
   },
   "outputs": [
    {
     "name": "stdout",
     "output_type": "stream",
     "text": [
      "1\n",
      "329\n",
      "10.374729910484618\n",
      "3.0\n"
     ]
    }
   ],
   "source": [
    "print(min_num_ratings)\n",
    "print(max_num_ratings)\n",
    "print(mean_num_ratings)\n",
    "print(median_num_ratings)"
   ]
  },
  {
   "cell_type": "code",
   "execution_count": 21,
   "metadata": {
    "ExecuteTime": {
     "end_time": "2019-08-27T18:00:08.297546Z",
     "start_time": "2019-08-27T18:00:05.385188Z"
    }
   },
   "outputs": [
    {
     "name": "stderr",
     "output_type": "stream",
     "text": [
      "/Users/kuznetsovd/opt/anaconda3/lib/python3.7/site-packages/ipykernel_launcher.py:4: TqdmDeprecationWarning: This function will be removed in tqdm==5.0.0\n",
      "Please use `tqdm.notebook.tqdm` instead of `tqdm.tqdm_notebook`\n",
      "  after removing the cwd from sys.path.\n"
     ]
    },
    {
     "data": {
      "application/vnd.jupyter.widget-view+json": {
       "model_id": "8c2da7528d5e4d978300c4a9547094b4",
       "version_major": 2,
       "version_minor": 0
      },
      "text/plain": [
       "HBox(children=(FloatProgress(value=0.0, max=9719.0), HTML(value='')))"
      ]
     },
     "metadata": {},
     "output_type": "display_data"
    },
    {
     "name": "stdout",
     "output_type": "stream",
     "text": [
      "\n"
     ]
    }
   ],
   "source": [
    "# считаем средний рейтинг на каждый фильм\n",
    "title_mean_rating = {}\n",
    "\n",
    "for title, group in tqdm_notebook(joined_ratings.groupby('title')):\n",
    "    title_mean_rating[title] = group.rating.mean()"
   ]
  },
  {
   "cell_type": "code",
   "execution_count": 22,
   "metadata": {
    "ExecuteTime": {
     "end_time": "2019-08-27T18:02:45.441188Z",
     "start_time": "2019-08-27T18:02:45.438622Z"
    }
   },
   "outputs": [],
   "source": [
    "film = \"Gena the Crocodile (1969)\""
   ]
  },
  {
   "cell_type": "code",
   "execution_count": 23,
   "metadata": {
    "ExecuteTime": {
     "end_time": "2019-08-27T18:02:54.339324Z",
     "start_time": "2019-08-27T18:02:54.335333Z"
    }
   },
   "outputs": [
    {
     "data": {
      "text/plain": [
       "5.0"
      ]
     },
     "execution_count": 23,
     "metadata": {},
     "output_type": "execute_result"
    }
   ],
   "source": [
    "title_mean_rating[film]"
   ]
  },
  {
   "cell_type": "code",
   "execution_count": 24,
   "metadata": {
    "ExecuteTime": {
     "end_time": "2019-08-27T18:03:03.588386Z",
     "start_time": "2019-08-27T18:03:03.584336Z"
    }
   },
   "outputs": [
    {
     "data": {
      "text/plain": [
       "1"
      ]
     },
     "execution_count": 24,
     "metadata": {},
     "output_type": "execute_result"
    }
   ],
   "source": [
    "title_num_ratings[film]"
   ]
  },
  {
   "cell_type": "code",
   "execution_count": 25,
   "metadata": {
    "ExecuteTime": {
     "end_time": "2019-08-27T18:04:40.300479Z",
     "start_time": "2019-08-27T18:04:40.296030Z"
    }
   },
   "outputs": [
    {
     "data": {
      "text/plain": [
       "0.0"
      ]
     },
     "execution_count": 25,
     "metadata": {},
     "output_type": "execute_result"
    }
   ],
   "source": [
    "title_mean_rating[film] * (title_num_ratings[film] - min_num_ratings) / (max_num_ratings - min_num_ratings)"
   ]
  },
  {
   "cell_type": "code",
   "execution_count": 26,
   "metadata": {
    "ExecuteTime": {
     "end_time": "2019-08-27T18:04:49.034082Z",
     "start_time": "2019-08-27T18:04:48.988663Z"
    }
   },
   "outputs": [],
   "source": [
    "film_with_our_mark = {}\n",
    "\n",
    "# посчитаем нашу метрику для каждого фильма из датасета\n",
    "for f in title_num_ratings.keys():\n",
    "    film_with_our_mark[f] = title_mean_rating[f] * (title_num_ratings[f] - min_num_ratings) / (max_num_ratings - min_num_ratings)"
   ]
  },
  {
   "cell_type": "code",
   "execution_count": 27,
   "metadata": {
    "ExecuteTime": {
     "end_time": "2019-08-27T18:07:00.099910Z",
     "start_time": "2019-08-27T18:07:00.094197Z"
    }
   },
   "outputs": [],
   "source": [
    "film_with_our_mark_list = [(k,film_with_our_mark[k]) for k in film_with_our_mark.keys()]"
   ]
  },
  {
   "cell_type": "raw",
   "metadata": {},
   "source": [
    "title_mean_rating['Shawshank Redemption, The (1994)']"
   ]
  },
  {
   "cell_type": "code",
   "execution_count": 28,
   "metadata": {
    "ExecuteTime": {
     "end_time": "2019-08-27T18:08:28.138100Z",
     "start_time": "2019-08-27T18:08:28.134373Z"
    }
   },
   "outputs": [
    {
     "data": {
      "text/plain": [
       "4.164133738601824"
      ]
     },
     "execution_count": 28,
     "metadata": {},
     "output_type": "execute_result"
    }
   ],
   "source": [
    "title_mean_rating['Forrest Gump (1994)']"
   ]
  },
  {
   "cell_type": "code",
   "execution_count": 29,
   "metadata": {
    "ExecuteTime": {
     "end_time": "2019-08-27T18:08:37.103792Z",
     "start_time": "2019-08-27T18:08:37.099010Z"
    }
   },
   "outputs": [
    {
     "data": {
      "text/plain": [
       "329"
      ]
     },
     "execution_count": 29,
     "metadata": {},
     "output_type": "execute_result"
    }
   ],
   "source": [
    "title_num_ratings['Forrest Gump (1994)']"
   ]
  },
  {
   "cell_type": "code",
   "execution_count": 30,
   "metadata": {
    "ExecuteTime": {
     "end_time": "2019-08-27T18:07:10.067728Z",
     "start_time": "2019-08-27T18:07:10.057162Z"
    },
    "scrolled": false
   },
   "outputs": [
    {
     "data": {
      "text/plain": [
       "[('Shawshank Redemption, The (1994)', 4.266984688774333),\n",
       " ('Forrest Gump (1994)', 4.164133738601824),\n",
       " ('Pulp Fiction (1994)', 3.9155577182807666),\n",
       " ('Matrix, The (1999)', 3.5405718108440083),\n",
       " ('Silence of the Lambs, The (1991)', 3.526947285601888),\n",
       " ('Star Wars: Episode IV - A New Hope (1977)', 3.2249052570206973),\n",
       " ('Braveheart (1995)', 2.900818153751158),\n",
       " ('Fight Club (1999)', 2.826911781159096),\n",
       " (\"Schindler's List (1993)\", 2.8209603658536584),\n",
       " ('Jurassic Park (1993)', 2.7096036585365852),\n",
       " ('Terminator 2: Judgment Day (1991)', 2.6997835910278747),\n",
       " ('Star Wars: Episode V - The Empire Strikes Back (1980)', 2.6990376835047973),\n",
       " ('Usual Suspects, The (1995)', 2.622750777140124),\n",
       " ('Toy Story (1995)', 2.5581678956324447),\n",
       " ('Raiders of the Lost Ark (Indiana Jones and the Raiders of the Lost Ark) (1981)',\n",
       "  2.5527210365853654),\n",
       " ('American Beauty (1999)', 2.5104988641798185),\n",
       " ('Godfather, The (1972)', 2.4975943216463414),\n",
       " ('Lord of the Rings: The Fellowship of the Ring, The (2001)',\n",
       "  2.466140059127864),\n",
       " ('Star Wars: Episode VI - Return of the Jedi (1983)', 2.4599458685913387),\n",
       " ('Seven (a.k.a. Se7en) (1995)', 2.4482458248227803)]"
      ]
     },
     "execution_count": 30,
     "metadata": {},
     "output_type": "execute_result"
    }
   ],
   "source": [
    "# выводим топ 20 и получилось уже очень неплохо\n",
    "list(sorted(film_with_our_mark_list, key=lambda x: x[1], reverse=True))[:20]"
   ]
  },
  {
   "cell_type": "markdown",
   "metadata": {},
   "source": [
    "### Появилась гипотеза использовать теги в ранжировании фильмов, решили считать не только количество отзывов, а ещё и количество проставленных тегов на фильм"
   ]
  },
  {
   "cell_type": "code",
   "execution_count": 31,
   "metadata": {
    "ExecuteTime": {
     "end_time": "2019-08-27T18:09:52.146177Z",
     "start_time": "2019-08-27T18:09:52.090306Z"
    }
   },
   "outputs": [],
   "source": [
    "# соединим уже созданную таблицу с таблицей с проставленными тегами по фильмам\n",
    "joined_with_tags = joined_ratings.join(tags.set_index('movieId'), on='movieId', lsuffix='_left', rsuffix='_right')"
   ]
  },
  {
   "cell_type": "code",
   "execution_count": 32,
   "metadata": {
    "ExecuteTime": {
     "end_time": "2019-08-27T18:10:05.855423Z",
     "start_time": "2019-08-27T18:10:05.842194Z"
    }
   },
   "outputs": [
    {
     "data": {
      "text/html": [
       "<div>\n",
       "<style scoped>\n",
       "    .dataframe tbody tr th:only-of-type {\n",
       "        vertical-align: middle;\n",
       "    }\n",
       "\n",
       "    .dataframe tbody tr th {\n",
       "        vertical-align: top;\n",
       "    }\n",
       "\n",
       "    .dataframe thead th {\n",
       "        text-align: right;\n",
       "    }\n",
       "</style>\n",
       "<table border=\"1\" class=\"dataframe\">\n",
       "  <thead>\n",
       "    <tr style=\"text-align: right;\">\n",
       "      <th></th>\n",
       "      <th>userId_left</th>\n",
       "      <th>movieId</th>\n",
       "      <th>rating</th>\n",
       "      <th>timestamp_left</th>\n",
       "      <th>title</th>\n",
       "      <th>genres</th>\n",
       "      <th>userId_right</th>\n",
       "      <th>tag</th>\n",
       "      <th>timestamp_right</th>\n",
       "    </tr>\n",
       "  </thead>\n",
       "  <tbody>\n",
       "    <tr>\n",
       "      <th>0</th>\n",
       "      <td>1</td>\n",
       "      <td>1</td>\n",
       "      <td>4.0</td>\n",
       "      <td>964982703</td>\n",
       "      <td>Toy Story (1995)</td>\n",
       "      <td>Adventure|Animation|Children|Comedy|Fantasy</td>\n",
       "      <td>336.0</td>\n",
       "      <td>pixar</td>\n",
       "      <td>1.139046e+09</td>\n",
       "    </tr>\n",
       "    <tr>\n",
       "      <th>0</th>\n",
       "      <td>1</td>\n",
       "      <td>1</td>\n",
       "      <td>4.0</td>\n",
       "      <td>964982703</td>\n",
       "      <td>Toy Story (1995)</td>\n",
       "      <td>Adventure|Animation|Children|Comedy|Fantasy</td>\n",
       "      <td>474.0</td>\n",
       "      <td>pixar</td>\n",
       "      <td>1.137207e+09</td>\n",
       "    </tr>\n",
       "    <tr>\n",
       "      <th>0</th>\n",
       "      <td>1</td>\n",
       "      <td>1</td>\n",
       "      <td>4.0</td>\n",
       "      <td>964982703</td>\n",
       "      <td>Toy Story (1995)</td>\n",
       "      <td>Adventure|Animation|Children|Comedy|Fantasy</td>\n",
       "      <td>567.0</td>\n",
       "      <td>fun</td>\n",
       "      <td>1.525286e+09</td>\n",
       "    </tr>\n",
       "    <tr>\n",
       "      <th>1</th>\n",
       "      <td>1</td>\n",
       "      <td>3</td>\n",
       "      <td>4.0</td>\n",
       "      <td>964981247</td>\n",
       "      <td>Grumpier Old Men (1995)</td>\n",
       "      <td>Comedy|Romance</td>\n",
       "      <td>289.0</td>\n",
       "      <td>moldy</td>\n",
       "      <td>1.143425e+09</td>\n",
       "    </tr>\n",
       "    <tr>\n",
       "      <th>1</th>\n",
       "      <td>1</td>\n",
       "      <td>3</td>\n",
       "      <td>4.0</td>\n",
       "      <td>964981247</td>\n",
       "      <td>Grumpier Old Men (1995)</td>\n",
       "      <td>Comedy|Romance</td>\n",
       "      <td>289.0</td>\n",
       "      <td>old</td>\n",
       "      <td>1.143425e+09</td>\n",
       "    </tr>\n",
       "  </tbody>\n",
       "</table>\n",
       "</div>"
      ],
      "text/plain": [
       "   userId_left  movieId  rating  timestamp_left                    title  \\\n",
       "0            1        1     4.0       964982703         Toy Story (1995)   \n",
       "0            1        1     4.0       964982703         Toy Story (1995)   \n",
       "0            1        1     4.0       964982703         Toy Story (1995)   \n",
       "1            1        3     4.0       964981247  Grumpier Old Men (1995)   \n",
       "1            1        3     4.0       964981247  Grumpier Old Men (1995)   \n",
       "\n",
       "                                        genres  userId_right    tag  \\\n",
       "0  Adventure|Animation|Children|Comedy|Fantasy         336.0  pixar   \n",
       "0  Adventure|Animation|Children|Comedy|Fantasy         474.0  pixar   \n",
       "0  Adventure|Animation|Children|Comedy|Fantasy         567.0    fun   \n",
       "1                               Comedy|Romance         289.0  moldy   \n",
       "1                               Comedy|Romance         289.0    old   \n",
       "\n",
       "   timestamp_right  \n",
       "0     1.139046e+09  \n",
       "0     1.137207e+09  \n",
       "0     1.525286e+09  \n",
       "1     1.143425e+09  \n",
       "1     1.143425e+09  "
      ]
     },
     "execution_count": 32,
     "metadata": {},
     "output_type": "execute_result"
    }
   ],
   "source": [
    "joined_with_tags.head()"
   ]
  },
  {
   "cell_type": "code",
   "execution_count": 33,
   "metadata": {
    "ExecuteTime": {
     "end_time": "2019-08-27T18:18:05.128210Z",
     "start_time": "2019-08-27T18:18:02.009962Z"
    }
   },
   "outputs": [
    {
     "name": "stderr",
     "output_type": "stream",
     "text": [
      "/Users/kuznetsovd/opt/anaconda3/lib/python3.7/site-packages/ipykernel_launcher.py:4: TqdmDeprecationWarning: This function will be removed in tqdm==5.0.0\n",
      "Please use `tqdm.notebook.tqdm` instead of `tqdm.tqdm_notebook`\n",
      "  after removing the cwd from sys.path.\n"
     ]
    },
    {
     "data": {
      "application/vnd.jupyter.widget-view+json": {
       "model_id": "afc8430fe38c4ed485ba951cd6a14213",
       "version_major": 2,
       "version_minor": 0
      },
      "text/plain": [
       "HBox(children=(FloatProgress(value=0.0, max=9719.0), HTML(value='')))"
      ]
     },
     "metadata": {},
     "output_type": "display_data"
    },
    {
     "name": "stdout",
     "output_type": "stream",
     "text": [
      "\n"
     ]
    }
   ],
   "source": [
    "# достанем по каждому фильму количество рейтингов\n",
    "title_num_tags = {}\n",
    "\n",
    "for title, group in tqdm_notebook(joined_with_tags.groupby('title')):\n",
    "    title_num_tags[title] = group.userId_right.unique().shape[0]"
   ]
  },
  {
   "cell_type": "code",
   "execution_count": 49,
   "metadata": {
    "ExecuteTime": {
     "end_time": "2019-08-27T18:18:05.734571Z",
     "start_time": "2019-08-27T18:18:05.714428Z"
    }
   },
   "outputs": [
    {
     "data": {
      "text/plain": [
       "{\"'71 (2014)\": 1,\n",
       " \"'Hellboy': The Seeds of Creation (2004)\": 1,\n",
       " \"'Round Midnight (1986)\": 1,\n",
       " \"'Salem's Lot (2004)\": 1,\n",
       " \"'Til There Was You (1997)\": 1,\n",
       " \"'Tis the Season for Love (2015)\": 1,\n",
       " \"'burbs, The (1989)\": 1,\n",
       " \"'night Mother (1986)\": 1,\n",
       " '(500) Days of Summer (2009)': 1,\n",
       " '*batteries not included (1987)': 1,\n",
       " '...All the Marbles (1981)': 1,\n",
       " '...And Justice for All (1979)': 1,\n",
       " '00 Schneider - Jagd auf Nihil Baxter (1994)': 1,\n",
       " '1-900 (06) (1994)': 1,\n",
       " '10 (1979)': 1,\n",
       " '10 Cent Pistol (2015)': 1,\n",
       " '10 Cloverfield Lane (2016)': 1,\n",
       " '10 Items or Less (2006)': 1,\n",
       " '10 Things I Hate About You (1999)': 1,\n",
       " '10 Years (2011)': 1,\n",
       " '10,000 BC (2008)': 1,\n",
       " '100 Girls (2000)': 1,\n",
       " '100 Streets (2016)': 1,\n",
       " '101 Dalmatians (1996)': 1,\n",
       " '101 Dalmatians (One Hundred and One Dalmatians) (1961)': 1,\n",
       " \"101 Dalmatians II: Patch's London Adventure (2003)\": 1,\n",
       " '101 Reykjavik (101 Reykjavík) (2000)': 1,\n",
       " '102 Dalmatians (2000)': 1,\n",
       " '10th & Wolf (2006)': 1,\n",
       " '10th Kingdom, The (2000)': 1,\n",
       " '10th Victim, The (La decima vittima) (1965)': 1,\n",
       " '11\\'09\"01 - September 11 (2002)': 1,\n",
       " '11:14 (2003)': 1,\n",
       " '11th Hour, The (2007)': 1,\n",
       " '12 Angry Men (1957)': 2,\n",
       " '12 Angry Men (1997)': 1,\n",
       " '12 Chairs (1971)': 1,\n",
       " '12 Chairs (1976)': 1,\n",
       " '12 Rounds (2009)': 1,\n",
       " '12 Years a Slave (2013)': 1,\n",
       " '127 Hours (2010)': 1,\n",
       " '13 Assassins (Jûsan-nin no shikaku) (2010)': 1,\n",
       " '13 Ghosts (1960)': 1,\n",
       " '13 Going on 30 (2004)': 1,\n",
       " '13 Hours (2016)': 1,\n",
       " '13 Sins (2014)': 1,\n",
       " '13 Tzameti (2005)': 1,\n",
       " '13th (2016)': 1,\n",
       " '13th Warrior, The (1999)': 1,\n",
       " '1408 (2007)': 1,\n",
       " '1492: Conquest of Paradise (1992)': 1,\n",
       " '15 Minutes (2001)': 1,\n",
       " '16 Blocks (2006)': 1,\n",
       " '17 Again (2009)': 1,\n",
       " '1776 (1972)': 1,\n",
       " '18 Again! (1988)': 1,\n",
       " '187 (One Eight Seven) (1997)': 1,\n",
       " '1900 (Novecento) (1976)': 1,\n",
       " '1941 (1979)': 1,\n",
       " '1969 (1988)': 1,\n",
       " '1984 (Nineteen Eighty-Four) (1984)': 1,\n",
       " '2 Days in New York (2012)': 1,\n",
       " '2 Days in Paris (2007)': 1,\n",
       " '2 Days in the Valley (1996)': 1,\n",
       " '2 Fast 2 Furious (Fast and the Furious 2, The) (2003)': 1,\n",
       " '2 Guns (2013)': 1,\n",
       " '20 Dates (1998)': 1,\n",
       " '20 Feet from Stardom (Twenty Feet from Stardom) (2013)': 1,\n",
       " '20 Million Miles to Earth (1957)': 1,\n",
       " '20,000 Days on Earth (2014)': 1,\n",
       " '20,000 Leagues Under the Sea (1916)': 1,\n",
       " '20,000 Leagues Under the Sea (1954)': 1,\n",
       " '200 Cigarettes (1999)': 1,\n",
       " '2001 Maniacs (2005)': 1,\n",
       " '2001: A Space Odyssey (1968)': 2,\n",
       " '2010: The Year We Make Contact (1984)': 1,\n",
       " '2012 (2009)': 1,\n",
       " '2046 (2004)': 1,\n",
       " '2048: Nowhere to Run (2017)': 1,\n",
       " '21 (2008)': 1,\n",
       " '21 Grams (2003)': 1,\n",
       " '21 Jump Street (2012)': 1,\n",
       " '21 Up (1977)': 1,\n",
       " '21 and Over (2013)': 1,\n",
       " '22 Jump Street (2014)': 1,\n",
       " '24 Hour Party People (2002)': 1,\n",
       " '25th Hour (2002)': 1,\n",
       " '27 Dresses (2008)': 1,\n",
       " '28 Days (2000)': 1,\n",
       " '28 Days Later (2002)': 2,\n",
       " '28 Up (1985)': 1,\n",
       " '28 Weeks Later (2007)': 1,\n",
       " '3 Days to Kill (2014)': 1,\n",
       " '3 Extremes (Three... Extremes) (Saam gaang yi) (2004)': 1,\n",
       " '3 Idiots (2009)': 1,\n",
       " '3 Ninjas (1992)': 1,\n",
       " '3 Ninjas Kick Back (1994)': 1,\n",
       " '3 Ninjas Knuckle Up (1995)': 1,\n",
       " '3 Ninjas: High Noon On Mega Mountain (1998)': 1,\n",
       " '3 Women (Three Women) (1977)': 1,\n",
       " '3 dev adam (Three Giant Men) (1973) ': 1,\n",
       " '3-Iron (Bin-jip) (2004)': 1,\n",
       " '30 Days of Night (2007)': 1,\n",
       " '30 Minutes or Less (2011)': 1,\n",
       " '300 (2007)': 1,\n",
       " '3000 Miles to Graceland (2001)': 1,\n",
       " '300: Rise of an Empire (2014)': 1,\n",
       " '31 (2016)': 1,\n",
       " '35 Up (1991)': 1,\n",
       " '39 Steps, The (1935)': 1,\n",
       " '3:10 to Yuma (1957)': 1,\n",
       " '3:10 to Yuma (2007)': 1,\n",
       " '4 Little Girls (1997)': 1,\n",
       " '4 Months, 3 Weeks and 2 Days (4 luni, 3 saptamâni si 2 zile) (2007)': 1,\n",
       " '40 Days and 40 Nights (2002)': 1,\n",
       " '40-Year-Old Virgin, The (2005)': 1,\n",
       " '400 Blows, The (Les quatre cents coups) (1959)': 1,\n",
       " '42 (2013)': 1,\n",
       " '42 Up (1998)': 1,\n",
       " '42nd Street (1933)': 1,\n",
       " '47 Ronin (2013)': 1,\n",
       " '48 Hrs. (1982)': 1,\n",
       " '49 Up (2005)': 1,\n",
       " '5 Centimeters per Second (Byôsoku 5 senchimêtoru) (2007)': 1,\n",
       " '5 to 7 (2014)': 1,\n",
       " '5,000 Fingers of Dr. T, The (1953)': 1,\n",
       " '50 First Dates (2004)': 1,\n",
       " '50/50 (2011)': 1,\n",
       " '52 Pick-Up (1986)': 1,\n",
       " '54 (1998)': 1,\n",
       " '6 Days to Air: The Making of South Park (2011)': 1,\n",
       " '61* (2001)': 1,\n",
       " '6th Day, The (2000)': 1,\n",
       " '6th Man, The (Sixth Man, The) (1997)': 1,\n",
       " '7 Days in Hell (2015)': 1,\n",
       " '7 Faces of Dr. Lao (1964)': 1,\n",
       " '7th Voyage of Sinbad, The (1958)': 1,\n",
       " '8 1/2 (8½) (1963)': 1,\n",
       " '8 Heads in a Duffel Bag (1997)': 1,\n",
       " '8 Mile (2002)': 1,\n",
       " '8 Seconds (1994)': 1,\n",
       " '8 Women (2002)': 1,\n",
       " '8 ½ Women (a.k.a. 8 1/2 Women) (a.k.a. Eight and a Half Women) (1999)': 1,\n",
       " '800 Bullets (800 Balas) (2002)': 1,\n",
       " '84 Charing Cross Road (1987)': 1,\n",
       " '8MM (1999)': 1,\n",
       " '9 (2009)': 1,\n",
       " '9 1/2 Weeks (Nine 1/2 Weeks) (1986)': 1,\n",
       " '9/11 (2002)': 1,\n",
       " '96 Minutes (2011) ': 1,\n",
       " '964 Pinocchio (1991)': 1,\n",
       " '99 francs (2007)': 1,\n",
       " '9to5: Days in Porn (a.k.a. 9 to 5: Days in Porn) (2008)': 1,\n",
       " 'A Bad Moms Christmas (2017)': 1,\n",
       " 'A Christmas Story Live! (2017)': 1,\n",
       " 'A Cosmic Christmas (1977)': 1,\n",
       " 'A Detective Story (2003)': 1,\n",
       " \"A Dog's Purpose (2017)\": 1,\n",
       " 'A Flintstones Christmas Carol (1994)': 1,\n",
       " 'A German Life (2016)': 1,\n",
       " 'A Home at the End of the World (2004)': 1,\n",
       " 'A Man Called Blade (1977)': 1,\n",
       " 'A Man from Boulevard des Capucines (1987)': 1,\n",
       " \"A Merry Friggin' Christmas (2014)\": 1,\n",
       " \"A Midsummer Night's Dream (2016)\": 1,\n",
       " 'A Million Ways to Die in the West (2014)': 1,\n",
       " 'A Most Wanted Man (2014)': 1,\n",
       " 'A Perfect Day (2015)': 1,\n",
       " 'A Pigeon Sat on a Branch Reflecting on Existence (2014)': 1,\n",
       " 'A Plasticine Crow (1981)': 1,\n",
       " 'A Quiet Place (2018)': 1,\n",
       " 'A Silent Voice (2016)': 1,\n",
       " 'A Story of Children and Film (2013)': 1,\n",
       " 'A Street Cat Named Bob (2016)': 1,\n",
       " 'A Very Murray Christmas (2015)': 1,\n",
       " 'A Walk in the Woods (2015)': 1,\n",
       " 'A Wrinkle in Time (2018)': 1,\n",
       " 'A-Team, The (2010)': 1,\n",
       " 'A.I. Artificial Intelligence (2001)': 2,\n",
       " 'ABCs of Death, The (2012)': 1,\n",
       " 'ARQ (2016)': 1,\n",
       " 'AVP: Alien vs. Predator (2004)': 1,\n",
       " 'AVPR: Aliens vs. Predator - Requiem (2007)': 1,\n",
       " 'Abandoned, The (2006)': 1,\n",
       " 'Abbott and Costello Meet Frankenstein (1948)': 1,\n",
       " 'Abduction (2011)': 1,\n",
       " 'Abominable Dr. Phibes, The (1971)': 1,\n",
       " 'Abominable Snowman, The (Abominable Snowman of the Himalayas, The) (1957)': 1,\n",
       " 'About Adam (2000)': 1,\n",
       " 'About Last Night (2014)': 1,\n",
       " 'About Last Night... (1986)': 1,\n",
       " 'About Schmidt (2002)': 1,\n",
       " 'About Time (2013)': 1,\n",
       " 'About a Boy (2002)': 1,\n",
       " 'Above the Law (1988)': 1,\n",
       " 'Above the Rim (1994)': 1,\n",
       " 'Abraham Lincoln: Vampire Hunter (2012)': 1,\n",
       " 'Absence of Malice (1981)': 1,\n",
       " 'Absent-Minded Professor, The (1961)': 1,\n",
       " 'Absentia (2011)': 1,\n",
       " 'Absolute Power (1997)': 1,\n",
       " 'Absolutely Anything (2015)': 1,\n",
       " 'Abyss, The (1989)': 1,\n",
       " 'Accepted (2006)': 1,\n",
       " 'Accidental Spy, The (Dak miu mai shing) (2001)': 1,\n",
       " 'Accidental Tourist, The (1988)': 1,\n",
       " 'Accused, The (1988)': 1,\n",
       " 'Ace Ventura: Pet Detective (1994)': 1,\n",
       " 'Ace Ventura: When Nature Calls (1995)': 1,\n",
       " 'Ace in the Hole (Big Carnival, The) (1951)': 1,\n",
       " 'Aces: Iron Eagle III (1992)': 1,\n",
       " 'Acid House, The (1998)': 1,\n",
       " 'Across the Hall (2009)': 1,\n",
       " 'Across the Universe (2007)': 1,\n",
       " 'Act of Killing, The (2012)': 1,\n",
       " 'Act of Valor (2012)': 1,\n",
       " 'Action Jackson (1988)': 1,\n",
       " \"Adam and Eve (National Lampoon's Adam & Eve) (2005)\": 1,\n",
       " \"Adam's Apples (Adams æbler) (2005)\": 1,\n",
       " \"Adam's Rib (1949)\": 1,\n",
       " 'Adanggaman (2000)': 1,\n",
       " 'Adaptation (2002)': 1,\n",
       " 'Addams Family Reunion (1998)': 1,\n",
       " 'Addams Family Values (1993)': 1,\n",
       " 'Addams Family, The (1991)': 1,\n",
       " 'Addicted to Love (1997)': 1,\n",
       " 'Addiction, The (1995)': 1,\n",
       " 'Adjustment Bureau, The (2011)': 1,\n",
       " 'Admission (2013)': 1,\n",
       " 'Adventureland (2009)': 1,\n",
       " 'Adventures Of Sherlock Holmes And Dr. Watson: The Twentieth Century Approaches (1986)': 1,\n",
       " 'Adventures in Babysitting (1987)': 1,\n",
       " 'Adventures in Plymptoons! (2011)': 1,\n",
       " 'Adventures of Baron Munchausen, The (1988)': 1,\n",
       " 'Adventures of Buckaroo Banzai Across the 8th Dimension, The (1984)': 1,\n",
       " 'Adventures of Elmo in Grouchland, The (1999)': 1,\n",
       " 'Adventures of Ford Fairlane, The (1990)': 1,\n",
       " 'Adventures of Huck Finn, The (1993)': 1,\n",
       " 'Adventures of Ichabod and Mr. Toad, The (1949)': 1,\n",
       " 'Adventures of Mary-Kate and Ashley, The: The Case of the Christmas Caper (1995)': 1,\n",
       " 'Adventures of Milo and Otis, The (Koneko monogatari) (1986)': 1,\n",
       " 'Adventures of Mowgli: The Kidnapping (1968)': 1,\n",
       " 'Adventures of Pinocchio, The (1996)': 1,\n",
       " 'Adventures of Pluto Nash, The (2002)': 1,\n",
       " 'Adventures of Priscilla, Queen of the Desert, The (1994)': 1,\n",
       " 'Adventures of Robin Hood, The (1938)': 1,\n",
       " 'Adventures of Rocky and Bullwinkle, The (2000)': 1,\n",
       " 'Adventures of Sebastian Cole, The (1998)': 1,\n",
       " 'Adventures of Sharkboy and Lavagirl 3-D, The (2005)': 1,\n",
       " 'Adventures of Tintin, The (2011)': 1,\n",
       " 'Advise and Consent (1962)': 1,\n",
       " 'Aelita: The Queen of Mars (Aelita) (1924)': 1,\n",
       " 'Aeon Flux (2005)': 1,\n",
       " 'Affair of Love, An (Liaison pornographique, Une) (1999)': 1,\n",
       " 'Affair of the Necklace, The (2001)': 1,\n",
       " 'Affair to Remember, An (1957)': 1,\n",
       " 'Afflicted (2013)': 1,\n",
       " 'Affliction (1997)': 1,\n",
       " 'Afonya (1975)': 1,\n",
       " 'Africa: The Serengeti (1994)': 1,\n",
       " 'African Cats (2011)': 1,\n",
       " 'African Queen, The (1951)': 1,\n",
       " 'Afro Samurai (2007)': 1,\n",
       " 'Afro Samurai: Resurrection (2009)': 1,\n",
       " 'After Earth (2013)': 1,\n",
       " 'After Hours (1985)': 1,\n",
       " 'After Life (Wandafuru raifu) (1998)': 1,\n",
       " 'After the Fox (Caccia alla volpe) (1966)': 1,\n",
       " 'After the Sunset (2004)': 1,\n",
       " 'After the Thin Man (1936)': 1,\n",
       " 'After the Wedding (Efter brylluppet) (2006)': 1,\n",
       " 'Afterglow (1997)': 1,\n",
       " 'Against All Odds (1984)': 1,\n",
       " 'Against the Ropes (2004)': 1,\n",
       " 'Age of Innocence, The (1993)': 1,\n",
       " 'Agent Cody Banks (2003)': 1,\n",
       " 'Agent Cody Banks 2: Destination London (2004)': 1,\n",
       " 'Agnes of God (1985)': 1,\n",
       " 'Agony and the Ecstasy, The (1965)': 1,\n",
       " 'Agora (2009)': 1,\n",
       " 'Aguirre: The Wrath of God (Aguirre, der Zorn Gottes) (1972)': 1,\n",
       " 'Aileen: Life and Death of a Serial Killer (2003)': 1,\n",
       " 'Air America (1990)': 1,\n",
       " 'Air Bud (1997)': 1,\n",
       " 'Air Bud: Golden Receiver (1998)': 1,\n",
       " 'Air Force One (1997)': 1,\n",
       " 'Air I Breathe, The (2007)': 1,\n",
       " 'Air Up There, The (1994)': 1,\n",
       " 'Airborne (1993)': 1,\n",
       " 'Airheads (1994)': 1,\n",
       " 'Airplane II: The Sequel (1982)': 1,\n",
       " 'Airplane! (1980)': 1,\n",
       " \"Airport '77 (1977)\": 1,\n",
       " 'Airport (1970)': 1,\n",
       " 'Airport 1975 (1974)': 1,\n",
       " 'Akeelah and the Bee (2006)': 1,\n",
       " 'Akira (1988)': 1,\n",
       " \"Akira Kurosawa's Dreams (Dreams) (1990)\": 1,\n",
       " 'Aladdin (1992)': 1,\n",
       " 'Aladdin and the King of Thieves (1996)': 1,\n",
       " 'Alamo, The (1960)': 1,\n",
       " 'Alan Partridge: Alpha Papa (2013)': 1,\n",
       " 'Alaska (1996)': 1,\n",
       " 'Alaska: Spirit of the Wild (1997)': 1,\n",
       " 'Albatross (2011)': 1,\n",
       " 'Albino Alligator (1996)': 1,\n",
       " 'Alesha Popovich and Tugarin the Dragon (2004)': 1,\n",
       " 'Alex Cross (2012)': 1,\n",
       " 'Alex and Emma (2003)': 1,\n",
       " 'Alexander (2004)': 1,\n",
       " 'Alexander Nevsky (Aleksandr Nevskiy) (1938)': 1,\n",
       " 'Alfie (1966)': 1,\n",
       " 'Alfie (2004)': 1,\n",
       " 'Ali (2001)': 1,\n",
       " 'Ali G Indahouse (2002)': 1,\n",
       " 'Ali Wong: Baby Cobra (2016)': 1,\n",
       " 'Ali: Fear Eats the Soul (Angst essen Seele auf) (1974)': 1,\n",
       " 'Alias Betty (Betty Fisher et autres histoires) (2001)': 1,\n",
       " 'Alice (1990)': 1,\n",
       " 'Alice (2009)': 1,\n",
       " 'Alice (Neco z Alenky) (1988)': 1,\n",
       " 'Alice Adams (1935)': 1,\n",
       " \"Alice Doesn't Live Here Anymore (1974)\": 1,\n",
       " 'Alice Through the Looking Glass (2016)': 1,\n",
       " 'Alice in Wonderland (1933)': 1,\n",
       " 'Alice in Wonderland (1951)': 1,\n",
       " 'Alice in Wonderland (2010)': 1,\n",
       " 'Alien (1979)': 1,\n",
       " 'Alien Contamination (1980)': 1,\n",
       " 'Alien Nation (1988)': 1,\n",
       " 'Alien from L.A. (1988)': 1,\n",
       " 'Alien: Covenant (2017)': 1,\n",
       " 'Alien: Resurrection (1997)': 1,\n",
       " 'Aliens (1986)': 2,\n",
       " 'Alien³ (a.k.a. Alien 3) (1992)': 1,\n",
       " 'Alive (1993)': 1,\n",
       " 'All About Eve (1950)': 1,\n",
       " 'All About Lily Chou-Chou (Riri Shushu no subete) (2001)': 1,\n",
       " 'All About My Mother (Todo sobre mi madre) (1999)': 1,\n",
       " 'All About the Benjamins (2002)': 1,\n",
       " 'All Dogs Christmas Carol, An (1998)': 1,\n",
       " 'All Dogs Go to Heaven (1989)': 1,\n",
       " 'All Dogs Go to Heaven 2 (1996)': 1,\n",
       " 'All Good Things (2010)': 1,\n",
       " 'All Is Lost (2013)': 1,\n",
       " 'All Over the Guy (2001)': 1,\n",
       " 'All Quiet on the Western Front (1930)': 1,\n",
       " 'All Roads Lead to Rome (2016)': 1,\n",
       " 'All That Heaven Allows (1955)': 1,\n",
       " 'All That Jazz (1979)': 1,\n",
       " 'All This, and Heaven Too (1940)': 1,\n",
       " 'All Watched Over by Machines of Loving Grace (2011)': 1,\n",
       " 'All Yours (2016)': 1,\n",
       " 'All is Bright (2013)': 1,\n",
       " 'All of Me (1984)': 1,\n",
       " 'All or Nothing (2002)': 1,\n",
       " 'All the Boys Love Mandy Lane (2006)': 1,\n",
       " \"All the King's Men (1949)\": 1,\n",
       " \"All the King's Men (2006)\": 1,\n",
       " \"All the President's Men (1976)\": 2,\n",
       " 'All the Pretty Horses (2000)': 1,\n",
       " 'All the Real Girls (2003)': 1,\n",
       " 'All the Right Moves (1983)': 1,\n",
       " 'All the Vermeers in New York (1990)': 1,\n",
       " 'All-Star Superman (2011)': 1,\n",
       " 'Allan Quatermain and the Lost City of Gold (1987)': 1,\n",
       " 'Allegro non troppo (1977)': 1,\n",
       " 'Alles Inklusive (2014)': 1,\n",
       " 'Alligator (1980)': 1,\n",
       " 'Allnighter, The (1987)': 1,\n",
       " 'Almost Famous (2000)': 2,\n",
       " 'Almost Heroes (1998)': 1,\n",
       " 'Almost an Angel (1990)': 1,\n",
       " 'Aloha (2015)': 1,\n",
       " 'Alone in the Dark (2005)': 1,\n",
       " 'Alone in the Dark II (2008)': 1,\n",
       " 'Along Came Polly (2004)': 1,\n",
       " 'Along Came a Spider (2001)': 1,\n",
       " 'Alpha (2018)': 1,\n",
       " 'Alpha Dog (2007)': 1,\n",
       " 'Alpha and Omega 3: The Great Wolf Games (2014)': 1,\n",
       " 'Alphaville (Alphaville, une étrange aventure de Lemmy Caution) (1965)': 1,\n",
       " 'Altered (2006)': 1,\n",
       " 'Altered States (1980)': 1,\n",
       " 'Alvarez Kelly (1966)': 1,\n",
       " 'Alvin and the Chipmunks (2007)': 1,\n",
       " 'Alvin and the Chipmunks: Chipwrecked (2011)': 1,\n",
       " 'Alvin and the Chipmunks: The Squeakquel (2009)': 1,\n",
       " 'Always (1989)': 1,\n",
       " 'Always Watching: A Marble Hornets Story (2015)': 1,\n",
       " 'Amadeus (1984)': 1,\n",
       " 'Amanda Knox (2016)': 1,\n",
       " 'Amarcord (1973)': 1,\n",
       " 'Amateur (1994)': 1,\n",
       " 'Amazing Grace (2006)': 1,\n",
       " 'Amazing Grace and Chuck (1987)': 1,\n",
       " 'Amazing Panda Adventure, The (1995)': 1,\n",
       " 'Amazing Spider-Man, The (2012)': 1,\n",
       " 'Amazing Transparent Man, The (1960)': 1,\n",
       " 'Amazon Women on the Moon (1987)': 1,\n",
       " \"Amelie (Fabuleux destin d'Amélie Poulain, Le) (2001)\": 1,\n",
       " 'Amen. (2002)': 1,\n",
       " 'Amer (2009)': 1,\n",
       " \"America's Sweethearts (2001)\": 1,\n",
       " 'American Astronaut, The (2001)': 1,\n",
       " 'American Beauty (1999)': 1,\n",
       " 'American Buffalo (1996)': 1,\n",
       " 'American Carol, An (2008)': 1,\n",
       " 'American Dreamz (2006)': 1,\n",
       " 'American Drug War: The Last White Hope (2007)': 1,\n",
       " 'American Fable (2017)': 1,\n",
       " 'American Flyers (1985)': 1,\n",
       " 'American Friend, The (Amerikanische Freund, Der) (1977)': 1,\n",
       " 'American Gangster (2007)': 1,\n",
       " 'American Gigolo (1980)': 1,\n",
       " 'American Graffiti (1973)': 1,\n",
       " 'American Grindhouse (2010)': 1,\n",
       " 'American Hardcore (2006)': 1,\n",
       " 'American Haunting, An (2005)': 1,\n",
       " 'American Heist (2015)': 1,\n",
       " 'American History X (1998)': 3,\n",
       " 'American Hustle (2013)': 1,\n",
       " 'American Made (2017)': 1,\n",
       " 'American Me (1992)': 1,\n",
       " 'American Movie (1999)': 1,\n",
       " 'American Ninja (1985)': 1,\n",
       " 'American Outlaws (2001)': 1,\n",
       " 'American Pie (1999)': 1,\n",
       " 'American Pie 2 (2001)': 1,\n",
       " 'American Pie Presents Beta House (American Pie 6: Beta House) (2007)': 1,\n",
       " 'American Pie Presents The Naked Mile (American Pie 5: The Naked Mile) (2006)': 1,\n",
       " 'American Pie Presents: Band Camp (American Pie 4: Band Camp) (2005)': 1,\n",
       " 'American Pie Presents: The Book of Love (American Pie 7: The Book of Love) (2009)': 1,\n",
       " 'American Pop (1981)': 1,\n",
       " 'American President, The (1995)': 1,\n",
       " 'American Psycho (2000)': 1,\n",
       " 'American Psycho II: All American Girl (2002)': 1,\n",
       " 'American Reunion (American Pie 4) (2012)': 1,\n",
       " 'American Sniper (2014)': 1,\n",
       " 'American Splendor (2003)': 1,\n",
       " 'American Tail, An (1986)': 1,\n",
       " 'American Tail: Fievel Goes West, An (1991)': 1,\n",
       " 'American Ultra (2015)': 1,\n",
       " 'American Wedding (American Pie 3) (2003)': 1,\n",
       " 'American Werewolf in London, An (1981)': 1,\n",
       " 'American Werewolf in Paris, An (1997)': 1,\n",
       " 'American in Paris, An (1951)': 1,\n",
       " 'American, The (2010)': 1,\n",
       " 'American: The Bill Hicks Story (2009)': 1,\n",
       " 'Americanization of Emily, The (1964)': 1,\n",
       " 'Americathon (1979)': 1,\n",
       " 'Amistad (1997)': 1,\n",
       " \"Amityville 1992: It's About Time (1992)\": 1,\n",
       " 'Amityville 3-D (1983)': 1,\n",
       " 'Amityville Curse, The (1990)': 1,\n",
       " 'Amityville Horror, The (1979)': 1,\n",
       " 'Amityville Horror, The (2005)': 1,\n",
       " 'Amityville II: The Possession (1982)': 1,\n",
       " 'Amityville: A New Generation (1993)': 1,\n",
       " 'Amityville: Dollhouse (1996)': 1,\n",
       " \"Amores Perros (Love's a Bitch) (2000)\": 1,\n",
       " 'Amos & Andrew (1993)': 1,\n",
       " 'Amy (2015)': 1,\n",
       " \"Amy's O (a.k.a. Amy's Orgasm) (2001)\": 1,\n",
       " 'An Amazing Couple (2002)': 1,\n",
       " 'Anacleto: Agente secreto (2015)': 1,\n",
       " 'Anaconda (1997)': 1,\n",
       " 'Anaconda: The Offspring (2008)': 1,\n",
       " 'Anacondas: The Hunt for the Blood Orchid (2004)': 1,\n",
       " 'Analyze That (2002)': 1,\n",
       " 'Analyze This (1999)': 1,\n",
       " 'Anarchist Cookbook, The (2002)': 1,\n",
       " 'Anastasia (1956)': 1,\n",
       " 'Anastasia (1997)': 1,\n",
       " 'Anatomy of a Murder (1959)': 1,\n",
       " 'Anchorman 2: The Legend Continues (2013)': 1,\n",
       " 'Anchorman: The Legend of Ron Burgundy (2004)': 4,\n",
       " 'Anchors Aweigh (1945)': 1,\n",
       " 'And God Created Woman (Et Dieu... créa la femme) (1956)': 1,\n",
       " 'And Now... Ladies and Gentlemen... (2002)': 1,\n",
       " 'And So It Goes (2014)': 1,\n",
       " 'And Starring Pancho Villa as Himself (2003)': 1,\n",
       " 'And Then There Were None (1945)': 1,\n",
       " 'And Your Mother Too (Y tu mamá también) (2001)': 1,\n",
       " 'And the Band Played On (1993)': 1,\n",
       " 'And the Ship Sails On (E la nave va) (1983)': 1,\n",
       " 'Andalusian Dog, An (Chien andalou, Un) (1929)': 1,\n",
       " 'Andre (1994)': 1,\n",
       " 'Andrei Rublev (Andrey Rublyov) (1969)': 1,\n",
       " 'Andrew Dice Clay: Dice Rules (1991)': 1,\n",
       " 'Android (1982)': 1,\n",
       " 'Andromeda Strain, The (1971)': 1,\n",
       " 'Angel Baby (1995)': 1,\n",
       " 'Angel Eyes (2001)': 1,\n",
       " 'Angel Heart (1987)': 1,\n",
       " 'Angel at My Table, An (1990)': 1,\n",
       " \"Angel's Egg (Tenshi no tamago) (1985)\": 1,\n",
       " 'Angel-A (2005)': 1,\n",
       " \"Angela's Ashes (1999)\": 1,\n",
       " 'Angels & Demons (2009)': 1,\n",
       " 'Angels and Insects (1995)': 1,\n",
       " 'Angels in the Outfield (1994)': 1,\n",
       " 'Angels with Dirty Faces (1938)': 1,\n",
       " \"Angels' Share, The (2012)\": 1,\n",
       " 'Anger Management (2003)': 1,\n",
       " 'Angie (1994)': 1,\n",
       " 'Angriest Man in Brooklyn, The (2014)': 1,\n",
       " 'Angry Red Planet, The (1959)': 1,\n",
       " 'Angst  (1983)': 1,\n",
       " 'Angus (1995)': 1,\n",
       " 'Angus, Thongs and Perfect Snogging (2008)': 1,\n",
       " 'Animal Crackers (1930)': 1,\n",
       " 'Animal Factory (2000)': 1,\n",
       " 'Animal Farm (1954)': 1,\n",
       " 'Animal House (1978)': 1,\n",
       " 'Animal, The (2001)': 1,\n",
       " 'Animals are Beautiful People (1974)': 1,\n",
       " 'Animatrix, The (2003)': 1,\n",
       " 'Anna Christie (1930)': 1,\n",
       " 'Anna Karenina (1935)': 1,\n",
       " 'Anna Karenina (1997)': 1,\n",
       " 'Anna Karenina (2012)': 1,\n",
       " 'Anna and the King (1999)': 1,\n",
       " 'Annabelle (2014)': 1,\n",
       " 'Annabelle: Creation (2017)': 1,\n",
       " 'Annapolis (2006)': 1,\n",
       " 'Anne Frank Remembered (1995)': 1,\n",
       " 'Anne of Green Gables (1985)': 1,\n",
       " 'Anne of Green Gables: The Sequel (a.k.a. Anne of Avonlea) (1987)': 1,\n",
       " 'Anne of the Thousand Days (1969)': 1,\n",
       " 'Annie (1982)': 1,\n",
       " 'Annie Get Your Gun (1950)': 1,\n",
       " 'Annie Hall (1977)': 1,\n",
       " 'Annihilation (2018)': 1,\n",
       " 'Anniversary Party, The (2001)': 1,\n",
       " 'Anomalisa (2015)': 1,\n",
       " 'Another 48 Hrs. (1990)': 1,\n",
       " 'Another Cinderella Story (2008)': 1,\n",
       " 'Another Earth (2011)': 1,\n",
       " 'Another Gay Movie (2006)': 1,\n",
       " 'Another Stakeout (1993)': 1,\n",
       " 'Another Thin Man (1939)': 1,\n",
       " 'Another Woman (1988)': 1,\n",
       " 'Ant Bully, The (2006)': 1,\n",
       " 'Ant-Man (2015)': 1,\n",
       " 'Ant-Man and the Wasp (2018)': 1,\n",
       " 'Anthony Adverse (1936)': 1,\n",
       " 'Anti-Social (2015)': 1,\n",
       " 'Antichrist (2009)': 1,\n",
       " 'Antitrust (2001)': 1,\n",
       " \"Antonia's Line (Antonia) (1995)\": 1,\n",
       " 'Antonio Gaudí (1985)': 1,\n",
       " 'Antwone Fisher (2002)': 1,\n",
       " 'Antz (1998)': 1,\n",
       " 'Anvil! The Story of Anvil (2008)': 1,\n",
       " 'Any Given Sunday (1999)': 1,\n",
       " 'Any Which Way You Can (1980)': 1,\n",
       " 'Anything Else (2003)': 1,\n",
       " 'Anything for Her (Pour elle) (2008)': 1,\n",
       " 'Anything for Love (2016)': 1,\n",
       " 'Anywhere But Here (1999)': 1,\n",
       " 'Apartment, The (1960)': 1,\n",
       " \"Apartment, The (Appartement, L') (1996)\": 1,\n",
       " 'Apocalypse Now (1979)': 1,\n",
       " 'Apocalypto (2006)': 1,\n",
       " 'Apollo 13 (1995)': 1,\n",
       " 'Apollo 18 (2011)': 1,\n",
       " 'Apostle, The (1997)': 1,\n",
       " 'Appaloosa (2008)': 1,\n",
       " 'Apple Dumpling Gang Rides Again, The (1979)': 1,\n",
       " 'Apple Dumpling Gang, The (1975)': 1,\n",
       " 'Apple, The (Sib) (1998)': 1,\n",
       " 'Applesauce (2015)': 1,\n",
       " 'Appleseed (Appurushîdo) (2004)': 1,\n",
       " \"April Fool's Day (1986)\": 1,\n",
       " 'April Morning (1988)': 1,\n",
       " 'Apt Pupil (1998)': 1,\n",
       " 'Aqua Teen Hunger Force Colon Movie Film for Theaters (2007)': 1,\n",
       " 'Aquamarine (2006)': 1,\n",
       " 'Arachnophobia (1990)': 1,\n",
       " 'Ararat (2002)': 1,\n",
       " 'Are We Done Yet? (2007)': 1,\n",
       " 'Are We There Yet? (2005)': 1,\n",
       " 'Are You Scared? (2006)': 1,\n",
       " 'Argo (2012)': 1,\n",
       " 'Ari Shaffir: Double Negative (2017)': 1,\n",
       " 'Ariel (1988)': 1,\n",
       " 'Aristocats, The (1970)': 1,\n",
       " 'Aristocrats, The (2005)': 1,\n",
       " 'Arizona Dream (1993)': 1,\n",
       " 'Arlington Road (1999)': 1,\n",
       " 'Armageddon (1998)': 1,\n",
       " 'Armed and Dangerous (1986)': 1,\n",
       " 'Armour of God (Long xiong hu di) (1987)': 1,\n",
       " 'Armour of God II: Operation Condor (Operation Condor) (Fei ying gai wak) (1991)': 1,\n",
       " 'Army of Darkness (1993)': 1,\n",
       " \"Army of Shadows (L'armée des ombres) (1969)\": 1,\n",
       " 'Around the World in 80 Days (1956)': 1,\n",
       " 'Around the World in 80 Days (2004)': 1,\n",
       " 'Arrival (2016)': 1,\n",
       " 'Arrival, The (1996)': 1,\n",
       " 'Arsenic and Old Lace (1944)': 1,\n",
       " 'Art School Confidential (2006)': 1,\n",
       " 'Art of Getting By, The (2011)': 1,\n",
       " 'Art of War, The (2000)': 1,\n",
       " 'Art of the Steal, The (2009)': 1,\n",
       " 'Art of the Steal, The (2013)': 1,\n",
       " 'Artemisia (1997)': 1,\n",
       " 'Arthur (1981)': 1,\n",
       " 'Arthur (2011)': 1,\n",
       " 'Arthur 2: On the Rocks (1988)': 1,\n",
       " 'Arthur Christmas (2011)': 1,\n",
       " 'As Above, So Below (2014)': 1,\n",
       " 'As Good as It Gets (1997)': 1,\n",
       " 'As I Was Moving Ahead Occasionally I Saw Brief Glimpses of Beauty (2000)': 1,\n",
       " 'As You Like It (2006)': 1,\n",
       " 'Ascent, The (Voskhozhdeniye) (1977)': 1,\n",
       " 'Ashby (2015)': 1,\n",
       " 'Ashes and Diamonds (Popiól i diament) (1958)': 1,\n",
       " 'Ashes of Time (Dung che sai duk) (1994)': 1,\n",
       " 'Ask the Dust (2006)': 1,\n",
       " 'Aspen Extreme (1993)': 1,\n",
       " 'Asphalt Jungle, The (1950)': 1,\n",
       " 'Asphyx, The (1973)': 1,\n",
       " \"Assassin's Creed (2016)\": 1,\n",
       " 'Assassination (1987)': 1,\n",
       " 'Assassination Tango (2002)': 1,\n",
       " 'Assassination of Jesse James by the Coward Robert Ford, The (2007)': 1,\n",
       " 'Assassination of Richard Nixon, The (2004)': 1,\n",
       " 'Assassination of a High School President (2008)': 1,\n",
       " 'Assassins (1995)': 1,\n",
       " 'Assault on Precinct 13 (1976)': 1,\n",
       " 'Assault on Precinct 13 (2005)': 1,\n",
       " 'Assembly (Ji jie hao) (2007) ': 1,\n",
       " 'Assignment, The (1997)': 1,\n",
       " 'Asterix & Obelix vs. Caesar (Astérix et Obélix contre César) (1999)': 1,\n",
       " 'Asterix & Obelix: God Save Britannia (Astérix et Obélix: Au service de Sa Majesté) (2012)': 1,\n",
       " 'Asterix & Obelix: Mission Cleopatra (Astérix & Obélix: Mission Cléopâtre) (2002)': 1,\n",
       " 'Asterix and Cleopatra (Astérix et Cléopâtre) (1968)': 1,\n",
       " 'Asterix and the Vikings (Astérix et les Vikings) (2006)': 1,\n",
       " 'Asterix at the Olympic Games (Astérix aux jeux olympiques) (2008)': 1,\n",
       " 'Asterix in America (a.k.a Asterix Conquers America) (Astérix et les Indiens) (1994)': 1,\n",
       " 'Asterix: The Land of the Gods (Astérix: Le domaine des dieux) (2014)': 1,\n",
       " 'Astronaut Farmer, The (2007)': 1,\n",
       " \"Astronaut's Wife, The (1999)\": 1,\n",
       " 'At Close Range (1986)': 1,\n",
       " 'At First Sight (1999)': 1,\n",
       " 'At Middleton (2013)': 1,\n",
       " 'At the Circus (1939)': 1,\n",
       " \"Atalante, L' (1934)\": 1,\n",
       " 'Atlantic City (1980)': 1,\n",
       " 'Atlantis: The Lost Empire (2001)': 1,\n",
       " 'Atlas Shrugged: Part 1 (2011)': 1,\n",
       " 'Atomic Blonde (2017)': 1,\n",
       " 'Atomic Brain, The (1963)': 1,\n",
       " 'Atomic Cafe, The (1982)': 1,\n",
       " 'Atomic Submarine, The (1959)': 1,\n",
       " 'Atonement (2007)': 1,\n",
       " 'Atragon (Kaitei Gunkan) (1963)': 1,\n",
       " 'Attack of the 50 Foot Woman (1958)': 1,\n",
       " 'Attack of the Crab Monsters (1957)': 1,\n",
       " 'Attack of the Giant Leeches (1959)': 1,\n",
       " 'Attack of the Killer Tomatoes! (1978)': 1,\n",
       " 'Attack of the Puppet People (1958)': 1,\n",
       " 'Attack the Block (2011)': 1,\n",
       " 'Attila (Attila Flagello di Dio) (1982)': 1,\n",
       " 'Au Hasard Balthazar (1966)': 1,\n",
       " 'Au revoir les enfants (1987)': 1,\n",
       " 'Audition (Ôdishon) (1999)': 1,\n",
       " 'Audrey Rose (1977)': 1,\n",
       " 'August Rush (2007)': 1,\n",
       " 'Auntie Mame (1958)': 1,\n",
       " 'Austenland (2013)': 1,\n",
       " 'Austin Powers in Goldmember (2002)': 1,\n",
       " 'Austin Powers: International Man of Mystery (1997)': 1,\n",
       " 'Austin Powers: The Spy Who Shagged Me (1999)': 1,\n",
       " 'Australia (2008)': 1,\n",
       " 'Auto Focus (2002)': 1,\n",
       " 'Autumn Marathon (1979)': 1,\n",
       " 'Autumn Sonata (Höstsonaten) (1978)': 1,\n",
       " 'Autumn Spring (Babí léto) (2001)': 1,\n",
       " \"Autumn Tale, An (Conte d'automne) (1998)\": 1,\n",
       " 'Autumn in New York (2000)': 1,\n",
       " 'Autómata (Automata) (2014)': 1,\n",
       " 'Avalanche (1978)': 1,\n",
       " 'Avalon (1990)': 1,\n",
       " 'Avalon (2001)': 1,\n",
       " 'Avanti! (1972)': 1,\n",
       " 'Avatar (2009)': 2,\n",
       " 'Avengers, The (1998)': 1,\n",
       " 'Avengers, The (2012)': 2,\n",
       " 'Avengers: Age of Ultron (2015)': 1,\n",
       " 'Avengers: Infinity War - Part I (2018)': 2,\n",
       " 'Aviator, The (2004)': 1,\n",
       " \"Avventura, L' (Adventure, The) (1960)\": 1,\n",
       " 'Awake (2007)': 1,\n",
       " 'Awakening, The (1980)': 1,\n",
       " 'Awakenings (1990)': 1,\n",
       " 'Away We Go (2009)': 1,\n",
       " 'Away from Her (2006)': 1,\n",
       " 'Awful Truth, The (1937)': 1,\n",
       " 'Awfully Big Adventure, An (1995)': 1,\n",
       " 'Azumi (2003)': 1,\n",
       " 'B*A*P*S (1997)': 1,\n",
       " 'B. Monkey (1998)': 1,\n",
       " 'B/W (2015)': 1,\n",
       " 'BASEketball (1998)': 1,\n",
       " 'BMX Bandits (1983)': 1,\n",
       " 'BURN-E (2008)': 1,\n",
       " \"Baadasssss! (How to Get the Man's Foot Outta Your Ass) (2003)\": 1,\n",
       " 'Baader Meinhof Komplex, Der (2008)': 1,\n",
       " 'Baarìa (2009)': 1,\n",
       " 'Babadook, The (2014)': 1,\n",
       " 'Babe (1995)': 2,\n",
       " 'Babe, The (1992)': 1,\n",
       " 'Babe: Pig in the City (1998)': 1,\n",
       " 'Babel (2006)': 1,\n",
       " 'Babes in Toyland (1934)': 1,\n",
       " 'Babes in Toyland (1961)': 1,\n",
       " \"Babette's Feast (Babettes gæstebud) (1987)\": 1,\n",
       " 'Baby Boom (1987)': 1,\n",
       " 'Baby Boy (2001)': 1,\n",
       " 'Baby Driver (2017)': 1,\n",
       " 'Baby Geniuses (1999)': 1,\n",
       " 'Baby Mama (2008)': 1,\n",
       " \"Baby's Day Out (1994)\": 1,\n",
       " 'Baby, The (1973)': 1,\n",
       " 'Baby-Sitters Club, The (1995)': 1,\n",
       " 'Baby... Secret of the Lost Legend (1985)': 1,\n",
       " 'Babylon 5': 1,\n",
       " 'Babylon 5: A Call to Arms (1999)': 1,\n",
       " 'Babylon 5: In the Beginning (1998)': 1,\n",
       " 'Babylon 5: The Gathering (1993)': 1,\n",
       " 'Babylon 5: The Legend of the Rangers: To Live and Die in Starlight (2002)': 1,\n",
       " 'Babylon 5: The Lost Tales - Voices in the Dark (2007)': 1,\n",
       " 'Babylon 5: The River of Souls (1998)': 1,\n",
       " 'Babylon 5: Thirdspace (1998)': 1,\n",
       " 'Babylon A.D. (2008)': 1,\n",
       " 'Babysitter, The (1995)': 1,\n",
       " 'Bachelor Party (1984)': 1,\n",
       " 'Bachelor and the Bobby-Soxer, The (1947)': 1,\n",
       " 'Bachelor, The (1999)': 1,\n",
       " 'Back to School (1986)': 1,\n",
       " 'Back to the Beach (1987)': 1,\n",
       " 'Back to the Future (1985)': 1,\n",
       " 'Back to the Future Part II (1989)': 1,\n",
       " 'Back to the Future Part III (1990)': 1,\n",
       " 'Back-up Plan, The (2010)': 1,\n",
       " 'Backbeat (1993)': 1,\n",
       " 'Backdraft (1991)': 1,\n",
       " 'Bad Asses (Bad Ass 2) (2014)': 1,\n",
       " 'Bad Asses on the Bayou (2015)': 1,\n",
       " 'Bad Boy Bubby (1993)': 1,\n",
       " 'Bad Boys (1995)': 1,\n",
       " 'Bad Boys II (2003)': 1,\n",
       " 'Bad Company (1995)': 1,\n",
       " 'Bad Company (2002)': 1,\n",
       " 'Bad Day at Black Rock (1955)': 1,\n",
       " 'Bad Education (La mala educación) (2004)': 1,\n",
       " 'Bad Girls (1994)': 1,\n",
       " 'Bad Karma (2012)': 1,\n",
       " 'Bad Lieutenant (1992)': 1,\n",
       " 'Bad Lieutenant: Port of Call New Orleans (2009)': 1,\n",
       " 'Bad Milo (Bad Milo!) (2013)': 1,\n",
       " 'Bad Moms (2016)': 1,\n",
       " 'Bad News Bears (2005)': 1,\n",
       " 'Bad News Bears, The (1976)': 1,\n",
       " 'Bad Santa (2003)': 1,\n",
       " 'Bad Santa 2 (2016)': 1,\n",
       " 'Bad Seed, The (1956)': 1,\n",
       " 'Bad Taste (1987)': 1,\n",
       " 'Bad Teacher (2011)': 1,\n",
       " 'Bad Words (2013)': 1,\n",
       " 'Bad and the Beautiful, The (1952)': 1,\n",
       " 'Badlands (1973)': 1,\n",
       " 'Bag Man, The (2014)': 1,\n",
       " 'Bagdad Cafe (Out of Rosenheim) (1987)': 1,\n",
       " 'Bait (2000)': 1,\n",
       " 'Bakuman (2015)': 1,\n",
       " 'Balance (1989)': 1,\n",
       " 'Ballad of Jack and Rose, The (2005)': 1,\n",
       " 'Ballad of Narayama, The (Narayama bushiko) (1983)': 1,\n",
       " 'Ballistic: Ecks vs. Sever (2002)': 1,\n",
       " 'Balls Out: Gary the Tennis Coach (2009)': 1,\n",
       " 'Balls of Fury (2007)': 1,\n",
       " 'Balto (1995)': 1,\n",
       " 'Bamba, La (1987)': 1,\n",
       " 'Bambi (1942)': 1,\n",
       " 'Bamboozled (2000)': 1,\n",
       " 'Banana Joe (1981)': 1,\n",
       " 'Bananas (1971)': 1,\n",
       " 'Band Wagon, The (1953)': 1,\n",
       " 'Band of Brothers (2001)': 1,\n",
       " 'Band of Outsiders (Bande à part) (1964)': 1,\n",
       " 'Band of the Hand (1986)': 1,\n",
       " \"Band's Visit, The (Bikur Ha-Tizmoret) (2007)\": 1,\n",
       " 'Bandidas (2006)': 1,\n",
       " 'Bandits (2001)': 1,\n",
       " \"Bang, Bang, You're Dead (2002)\": 1,\n",
       " 'Banger Sisters, The (2002)': 1,\n",
       " 'Bangkok Dangerous (2008)': 1,\n",
       " 'Bank Dick, The (1940)': 1,\n",
       " 'Bank Job, The (2008)': 1,\n",
       " 'Baraka (1992)': 1,\n",
       " 'Baran (2001)': 1,\n",
       " 'Barb Wire (1996)': 1,\n",
       " 'Barbarella (1968)': 1,\n",
       " 'Barbarian Invasions, The (Les invasions barbares) (2003)': 1,\n",
       " 'Barbarians at the Gate (1993)': 1,\n",
       " 'Barbershop (2002)': 1,\n",
       " 'Barbershop 2: Back in Business (2004)': 1,\n",
       " 'Barbershop: The Next Cut (2016)': 1,\n",
       " 'Barcelona (1994)': 1,\n",
       " 'Barefoot (2014)': 1,\n",
       " 'Barefoot Contessa, The (1954)': 1,\n",
       " 'Barefoot Executive, The (1971)': 1,\n",
       " 'Barefoot in the Park (1967)': 1,\n",
       " 'Barely Lethal (2015)': 1,\n",
       " 'Barfly (1987)': 1,\n",
       " 'Barking Dogs Never Bite (Flandersui gae) (2000)': 1,\n",
       " \"Barney's Great Adventure (1998)\": 1,\n",
       " \"Barney's Version (2010)\": 1,\n",
       " 'Barry Lyndon (1975)': 1,\n",
       " 'Bart Got a Room (2008)': 1,\n",
       " 'Bartleby (2001)': 1,\n",
       " 'Barton Fink (1991)': 1,\n",
       " 'Basic (2003)': 1,\n",
       " 'Basic Instinct (1992)': 1,\n",
       " 'Basic Instinct 2 (2006)': 1,\n",
       " 'Basket Case (1982)': 1,\n",
       " 'Basketball Diaries, The (1995)': 1,\n",
       " 'Basquiat (1996)': 1,\n",
       " 'Bastard Out of Carolina (1996)': 1,\n",
       " 'Bat*21 (1988)': 1,\n",
       " 'Batman & Robin (1997)': 1,\n",
       " 'Batman (1966)': 1,\n",
       " 'Batman (1989)': 1,\n",
       " 'Batman Begins (2005)': 1,\n",
       " 'Batman Beyond: Return of the Joker (2000)': 1,\n",
       " 'Batman Forever (1995)': 2,\n",
       " 'Batman Returns (1992)': 1,\n",
       " 'Batman v Superman: Dawn of Justice (2016)': 1,\n",
       " 'Batman vs. Robin (2015)': 1,\n",
       " 'Batman/Superman Movie, The (1998)': 1,\n",
       " 'Batman: Assault on Arkham (2014)': 1,\n",
       " 'Batman: Gotham Knight (2008)': 1,\n",
       " 'Batman: Mask of the Phantasm (1993)': 1,\n",
       " 'Batman: Mystery of the Batwoman (2003)': 1,\n",
       " 'Batman: The Dark Knight Returns, Part 1 (2012)': 1,\n",
       " 'Batman: The Dark Knight Returns, Part 2 (2013)': 1,\n",
       " 'Batman: The Killing Joke (2016)': 1,\n",
       " 'Batman: Under the Red Hood (2010)': 1,\n",
       " 'Batman: Year One (2011)': 1,\n",
       " 'Bats (1999)': 1,\n",
       " 'Battle Beyond the Stars (1980)': 1,\n",
       " 'Battle Creek Brawl (Big Brawl, The) (1980)': 1,\n",
       " 'Battle For Sevastopol (2015)': 1,\n",
       " 'Battle Planet (2008)': 1,\n",
       " 'Battle Royale (Batoru rowaiaru) (2000)': 1,\n",
       " 'Battle Royale 2: Requiem (Batoru rowaiaru II: Chinkonka) (2003)': 1,\n",
       " 'Battle for Haditha (2007)': 1,\n",
       " 'Battle for the Planet of the Apes (1973)': 1,\n",
       " 'Battle in Seattle (2007)': 1,\n",
       " 'Battle of Algiers, The (La battaglia di Algeri) (1966)': 1,\n",
       " 'Battle of Shaker Heights, The (2003)': 1,\n",
       " 'Battle: Los Angeles (2011)': 1,\n",
       " 'Battlefield Earth (2000)': 1,\n",
       " 'Battles Without Honor & Humanity (Jingi naki tatakai) (1973)': 1,\n",
       " 'Battleship (2012)': 1,\n",
       " 'Battleship Potemkin (1925)': 1,\n",
       " 'Battlestar Galactica (2003)': 1,\n",
       " 'Battlestar Galactica: Razor (2007)': 1,\n",
       " 'Battlestar Galactica: The Plan (2009)': 1,\n",
       " 'Baxter (1989)': 1,\n",
       " 'Baxter, The (2005)': 1,\n",
       " 'Bay, The (2012)': 1,\n",
       " 'Baywatch (2017)': 1,\n",
       " 'Be Cool (2005)': 1,\n",
       " 'Be Kind Rewind (2008)': 1,\n",
       " 'Beach Blanket Bingo (1965)': 1,\n",
       " 'Beach, The (2000)': 1,\n",
       " 'Beaches (1988)': 1,\n",
       " 'Bean (1997)': 1,\n",
       " \"Bear, The (Ours, L') (1988)\": 1,\n",
       " 'Beast Within, The (1982)': 1,\n",
       " 'Beast of War, The (Beast, The) (1988)': 1,\n",
       " 'Beastly (2011)': 1,\n",
       " 'Beastmaster, The (1982)': 1,\n",
       " 'Beasts of No Nation (2015)': 1,\n",
       " 'Beasts of the Southern Wild (2012)': 1,\n",
       " 'Beat Street (1984)': 1,\n",
       " \"Beat That My Heart Skipped, The (battre mon coeur s'est arrêté, De) (2005)\": 1,\n",
       " 'Beat the Devil (1953)': 1,\n",
       " 'Beautician and the Beast, The (1997)': 1,\n",
       " 'Beautiful (2000)': 1,\n",
       " 'Beautiful Boy (2010)': 1,\n",
       " 'Beautiful Creatures (2000)': 1,\n",
       " 'Beautiful Creatures (2013)': 1,\n",
       " 'Beautiful Girls (1996)': 1,\n",
       " 'Beautiful Losers (2008)': 1,\n",
       " 'Beautiful Mind, A (2001)': 1,\n",
       " 'Beautiful People (1999)': 1,\n",
       " 'Beautiful Thing (1996)': 1,\n",
       " 'Beauty Shop (2005)': 1,\n",
       " 'Beauty and the Beast (1991)': 1,\n",
       " 'Beauty and the Beast (2017)': 1,\n",
       " 'Beauty and the Beast (La belle et la bête) (1946)': 1,\n",
       " 'Beauty and the Beast: The Enchanted Christmas (1997)': 1,\n",
       " 'Beauty of the Day (Belle de jour) (1967)': 1,\n",
       " 'Beavis and Butt-Head Do America (1996)': 1,\n",
       " \"Bebe's Kids (1992)\": 1,\n",
       " 'Because I Said So (2007)': 1,\n",
       " 'Because of Winn-Dixie (2005)': 1,\n",
       " 'Becoming Jane (2007)': 1,\n",
       " 'Bed of Roses (1996)': 1,\n",
       " 'Bedazzled (1967)': 1,\n",
       " 'Bedazzled (2000)': 1,\n",
       " 'Bedknobs and Broomsticks (1971)': 1,\n",
       " 'Bedrooms & Hallways (1998)': 1,\n",
       " 'Bedtime Stories (2008)': 1,\n",
       " 'Bee Movie (2007)': 1,\n",
       " 'Beer League (2006)': 1,\n",
       " 'Beerfest (2006)': 1,\n",
       " 'Beethoven (1992)': 1,\n",
       " \"Beethoven's 2nd (1993)\": 1,\n",
       " 'Beetlejuice (1988)': 1,\n",
       " 'Before Midnight (2013)': 1,\n",
       " 'Before Night Falls (2000)': 1,\n",
       " 'Before Sunrise (1995)': 1,\n",
       " 'Before Sunset (2004)': 1,\n",
       " 'Before We Go (2014)': 1,\n",
       " 'Before and After (1996)': 1,\n",
       " \"Before the Devil Knows You're Dead (2007)\": 1,\n",
       " 'Before the Fall (NaPolA - Elite für den Führer) (2004)': 1,\n",
       " 'Before the Rain (Pred dozhdot) (1994)': 1,\n",
       " 'Begin Again (2013)': 1,\n",
       " 'Beginners (2010)': 1,\n",
       " 'Beginning of the End (1957)': 1,\n",
       " 'Begotten (1990)': 1,\n",
       " 'Behind Enemy Lines (2001)': 1,\n",
       " 'Behind Enemy Lines II: Axis of Evil (2006)': 1,\n",
       " 'Behind the Candelabra (2013)': 1,\n",
       " 'Behind the Mask: The Rise of Leslie Vernon (2006)': 1,\n",
       " 'Beijing Bicycle (Shiqi sui de dan che) (2001)': 1,\n",
       " \"Being Elmo: A Puppeteer's Journey (2011)\": 1,\n",
       " 'Being Human (1993)': 1,\n",
       " 'Being John Malkovich (1999)': 1,\n",
       " 'Being Julia (2004)': 1,\n",
       " 'Being There (1979)': 1,\n",
       " 'Believer, The (2001)': 1,\n",
       " 'Believers, The (1987)': 1,\n",
       " 'Bell, Book and Candle (1958)': 1,\n",
       " 'Bella (2006)': 1,\n",
       " 'Belladonna of Sadness (1973)': 1,\n",
       " 'Belle époque (1992)': 1,\n",
       " 'Bellflower (2011)': 1,\n",
       " \"Bells of St. Mary's, The (1945)\": 1,\n",
       " 'Belly (1998)': 1,\n",
       " 'Beloved (1998)': 1,\n",
       " 'Below (2002)': 1,\n",
       " 'Ben X (2007)': 1,\n",
       " 'Ben-Hur (1959)': 1,\n",
       " 'Ben-Hur: A Tale of the Christ (1925)': 1,\n",
       " 'Ben-hur (2016)': 1,\n",
       " 'Benchwarmers, The (2006)': 1,\n",
       " 'Bend It Like Beckham (2002)': 1,\n",
       " 'Beneath the Planet of the Apes (1970)': 1,\n",
       " 'Benji (1974)': 1,\n",
       " 'Benji the Hunted (1987)': 1,\n",
       " 'Benny & Joon (1993)': 2,\n",
       " 'Bent (1997)': 1,\n",
       " 'Beowulf & Grendel (2005)': 1,\n",
       " 'Beowulf (1999)': 1,\n",
       " 'Beowulf (2007)': 1,\n",
       " 'Berlin Calling (2008)': 1,\n",
       " 'Bernie (1996)': 1,\n",
       " 'Bernie (2011)': 1,\n",
       " \"Besieged (a.k.a. L' Assedio) (1998)\": 1,\n",
       " 'Best Defense (1984)': 1,\n",
       " 'Best Exotic Marigold Hotel, The (2011)': 1,\n",
       " 'Best Little Whorehouse in Texas, The (1982)': 1,\n",
       " 'Best Man, The (1999)': 1,\n",
       " 'Best Man, The (Testimone dello sposo, Il) (1998)': 1,\n",
       " 'Best Men (1997)': 1,\n",
       " 'Best Offer, The (Migliore offerta, La) (2013)': 1,\n",
       " 'Best Seller (1987)': 1,\n",
       " 'Best Worst Movie (2009)': 1,\n",
       " 'Best Years of Our Lives, The (1946)': 1,\n",
       " 'Best in Show (2000)': 2,\n",
       " 'Best of Youth, The (La meglio gioventù) (2003)': 1,\n",
       " 'Best of the Best (1989)': 1,\n",
       " 'Best of the Best 3: No Turning Back (1995)': 1,\n",
       " 'Betrayed (1988)': 1,\n",
       " \"Betsy's Wedding (1990)\": 1,\n",
       " 'Better Living Through Chemistry (2014)': 1,\n",
       " 'Better Living Through Circuitry (1999)': 1,\n",
       " 'Better Luck Tomorrow (2002)': 1,\n",
       " 'Better Off Dead... (1985)': 1,\n",
       " 'Better Than Chocolate (1999)': 1,\n",
       " 'Better Than Sex (2000)': 1,\n",
       " ...}"
      ]
     },
     "execution_count": 49,
     "metadata": {},
     "output_type": "execute_result"
    }
   ],
   "source": [
    "title_num_tags"
   ]
  },
  {
   "cell_type": "code",
   "execution_count": 35,
   "metadata": {
    "ExecuteTime": {
     "end_time": "2019-08-27T18:18:11.791351Z",
     "start_time": "2019-08-27T18:18:11.778104Z"
    }
   },
   "outputs": [],
   "source": [
    "min_num_tags = np.min([title_num_tags[f] for f in title_num_tags.keys()])\n",
    "max_num_tags = np.max([title_num_tags[f] for f in title_num_tags.keys()])\n",
    "mean_num_tags = np.mean([title_num_tags[f] for f in title_num_tags.keys()])\n",
    "median_num_tags = np.median([title_num_tags[f] for f in title_num_tags.keys()])"
   ]
  },
  {
   "cell_type": "code",
   "execution_count": 50,
   "metadata": {
    "ExecuteTime": {
     "end_time": "2019-08-27T18:18:12.193323Z",
     "start_time": "2019-08-27T18:18:12.189002Z"
    }
   },
   "outputs": [
    {
     "name": "stdout",
     "output_type": "stream",
     "text": [
      "1\n",
      "10\n",
      "1.0210927050108036\n",
      "1.0\n"
     ]
    }
   ],
   "source": [
    "print(min_num_tags)\n",
    "print(max_num_tags)\n",
    "print(mean_num_tags)\n",
    "print(median_num_tags)"
   ]
  },
  {
   "cell_type": "code",
   "execution_count": 53,
   "metadata": {
    "ExecuteTime": {
     "end_time": "2019-08-27T18:16:32.636328Z",
     "start_time": "2019-08-27T18:16:32.584002Z"
    }
   },
   "outputs": [
    {
     "data": {
      "text/html": [
       "<div>\n",
       "<style scoped>\n",
       "    .dataframe tbody tr th:only-of-type {\n",
       "        vertical-align: middle;\n",
       "    }\n",
       "\n",
       "    .dataframe tbody tr th {\n",
       "        vertical-align: top;\n",
       "    }\n",
       "\n",
       "    .dataframe thead th {\n",
       "        text-align: right;\n",
       "    }\n",
       "</style>\n",
       "<table border=\"1\" class=\"dataframe\">\n",
       "  <thead>\n",
       "    <tr style=\"text-align: right;\">\n",
       "      <th></th>\n",
       "      <th>userId_left</th>\n",
       "      <th>movieId</th>\n",
       "      <th>rating</th>\n",
       "      <th>timestamp_left</th>\n",
       "      <th>title</th>\n",
       "      <th>genres</th>\n",
       "      <th>tag</th>\n",
       "      <th>timestamp_right</th>\n",
       "    </tr>\n",
       "    <tr>\n",
       "      <th>userId_right</th>\n",
       "      <th></th>\n",
       "      <th></th>\n",
       "      <th></th>\n",
       "      <th></th>\n",
       "      <th></th>\n",
       "      <th></th>\n",
       "      <th></th>\n",
       "      <th></th>\n",
       "    </tr>\n",
       "  </thead>\n",
       "  <tbody>\n",
       "    <tr>\n",
       "      <th>103.0</th>\n",
       "      <td>921</td>\n",
       "      <td>921</td>\n",
       "      <td>921</td>\n",
       "      <td>921</td>\n",
       "      <td>921</td>\n",
       "      <td>921</td>\n",
       "      <td>921</td>\n",
       "      <td>921</td>\n",
       "    </tr>\n",
       "    <tr>\n",
       "      <th>424.0</th>\n",
       "      <td>1228</td>\n",
       "      <td>1228</td>\n",
       "      <td>1228</td>\n",
       "      <td>1228</td>\n",
       "      <td>1228</td>\n",
       "      <td>1228</td>\n",
       "      <td>1228</td>\n",
       "      <td>1228</td>\n",
       "    </tr>\n",
       "    <tr>\n",
       "      <th>474.0</th>\n",
       "      <td>307</td>\n",
       "      <td>307</td>\n",
       "      <td>307</td>\n",
       "      <td>307</td>\n",
       "      <td>307</td>\n",
       "      <td>307</td>\n",
       "      <td>307</td>\n",
       "      <td>307</td>\n",
       "    </tr>\n",
       "    <tr>\n",
       "      <th>599.0</th>\n",
       "      <td>53111</td>\n",
       "      <td>53111</td>\n",
       "      <td>53111</td>\n",
       "      <td>53111</td>\n",
       "      <td>53111</td>\n",
       "      <td>53111</td>\n",
       "      <td>53111</td>\n",
       "      <td>53111</td>\n",
       "    </tr>\n",
       "  </tbody>\n",
       "</table>\n",
       "</div>"
      ],
      "text/plain": [
       "              userId_left  movieId  rating  timestamp_left  title  genres  \\\n",
       "userId_right                                                                \n",
       "103.0                 921      921     921             921    921     921   \n",
       "424.0                1228     1228    1228            1228   1228    1228   \n",
       "474.0                 307      307     307             307    307     307   \n",
       "599.0               53111    53111   53111           53111  53111   53111   \n",
       "\n",
       "                tag  timestamp_right  \n",
       "userId_right                          \n",
       "103.0           921              921  \n",
       "424.0          1228             1228  \n",
       "474.0           307              307  \n",
       "599.0         53111            53111  "
      ]
     },
     "execution_count": 53,
     "metadata": {},
     "output_type": "execute_result"
    }
   ],
   "source": [
    "joined_with_tags[joined_with_tags['title'] == 'Pulp Fiction (1994)'].groupby('userId_right').count()"
   ]
  },
  {
   "cell_type": "code",
   "execution_count": 54,
   "metadata": {
    "ExecuteTime": {
     "end_time": "2019-08-27T18:16:54.357474Z",
     "start_time": "2019-08-27T18:16:54.328589Z"
    }
   },
   "outputs": [],
   "source": [
    "pf = joined_with_tags[joined_with_tags['title'] == 'Pulp Fiction (1994)']"
   ]
  },
  {
   "cell_type": "code",
   "execution_count": 55,
   "metadata": {
    "ExecuteTime": {
     "end_time": "2019-08-27T18:17:12.548890Z",
     "start_time": "2019-08-27T18:17:12.515075Z"
    }
   },
   "outputs": [
    {
     "data": {
      "text/html": [
       "<div>\n",
       "<style scoped>\n",
       "    .dataframe tbody tr th:only-of-type {\n",
       "        vertical-align: middle;\n",
       "    }\n",
       "\n",
       "    .dataframe tbody tr th {\n",
       "        vertical-align: top;\n",
       "    }\n",
       "\n",
       "    .dataframe thead th {\n",
       "        text-align: right;\n",
       "    }\n",
       "</style>\n",
       "<table border=\"1\" class=\"dataframe\">\n",
       "  <thead>\n",
       "    <tr style=\"text-align: right;\">\n",
       "      <th></th>\n",
       "      <th>userId_left</th>\n",
       "      <th>movieId</th>\n",
       "      <th>rating</th>\n",
       "      <th>timestamp_left</th>\n",
       "      <th>title</th>\n",
       "      <th>genres</th>\n",
       "      <th>userId_right</th>\n",
       "      <th>tag</th>\n",
       "      <th>timestamp_right</th>\n",
       "    </tr>\n",
       "  </thead>\n",
       "  <tbody>\n",
       "    <tr>\n",
       "      <th>16</th>\n",
       "      <td>1</td>\n",
       "      <td>296</td>\n",
       "      <td>3.0</td>\n",
       "      <td>964982967</td>\n",
       "      <td>Pulp Fiction (1994)</td>\n",
       "      <td>Comedy|Crime|Drama|Thriller</td>\n",
       "      <td>599.0</td>\n",
       "      <td>1990s</td>\n",
       "      <td>1.498457e+09</td>\n",
       "    </tr>\n",
       "    <tr>\n",
       "      <th>16</th>\n",
       "      <td>1</td>\n",
       "      <td>296</td>\n",
       "      <td>3.0</td>\n",
       "      <td>964982967</td>\n",
       "      <td>Pulp Fiction (1994)</td>\n",
       "      <td>Comedy|Crime|Drama|Thriller</td>\n",
       "      <td>599.0</td>\n",
       "      <td>achronological</td>\n",
       "      <td>1.498456e+09</td>\n",
       "    </tr>\n",
       "    <tr>\n",
       "      <th>16</th>\n",
       "      <td>1</td>\n",
       "      <td>296</td>\n",
       "      <td>3.0</td>\n",
       "      <td>964982967</td>\n",
       "      <td>Pulp Fiction (1994)</td>\n",
       "      <td>Comedy|Crime|Drama|Thriller</td>\n",
       "      <td>599.0</td>\n",
       "      <td>action</td>\n",
       "      <td>1.498456e+09</td>\n",
       "    </tr>\n",
       "    <tr>\n",
       "      <th>16</th>\n",
       "      <td>1</td>\n",
       "      <td>296</td>\n",
       "      <td>3.0</td>\n",
       "      <td>964982967</td>\n",
       "      <td>Pulp Fiction (1994)</td>\n",
       "      <td>Comedy|Crime|Drama|Thriller</td>\n",
       "      <td>599.0</td>\n",
       "      <td>action packed</td>\n",
       "      <td>1.498457e+09</td>\n",
       "    </tr>\n",
       "    <tr>\n",
       "      <th>16</th>\n",
       "      <td>1</td>\n",
       "      <td>296</td>\n",
       "      <td>3.0</td>\n",
       "      <td>964982967</td>\n",
       "      <td>Pulp Fiction (1994)</td>\n",
       "      <td>Comedy|Crime|Drama|Thriller</td>\n",
       "      <td>599.0</td>\n",
       "      <td>aggressive</td>\n",
       "      <td>1.498457e+09</td>\n",
       "    </tr>\n",
       "    <tr>\n",
       "      <th>...</th>\n",
       "      <td>...</td>\n",
       "      <td>...</td>\n",
       "      <td>...</td>\n",
       "      <td>...</td>\n",
       "      <td>...</td>\n",
       "      <td>...</td>\n",
       "      <td>...</td>\n",
       "      <td>...</td>\n",
       "      <td>...</td>\n",
       "    </tr>\n",
       "    <tr>\n",
       "      <th>99552</th>\n",
       "      <td>610</td>\n",
       "      <td>296</td>\n",
       "      <td>5.0</td>\n",
       "      <td>1479545817</td>\n",
       "      <td>Pulp Fiction (1994)</td>\n",
       "      <td>Comedy|Crime|Drama|Thriller</td>\n",
       "      <td>599.0</td>\n",
       "      <td>unusual</td>\n",
       "      <td>1.498457e+09</td>\n",
       "    </tr>\n",
       "    <tr>\n",
       "      <th>99552</th>\n",
       "      <td>610</td>\n",
       "      <td>296</td>\n",
       "      <td>5.0</td>\n",
       "      <td>1479545817</td>\n",
       "      <td>Pulp Fiction (1994)</td>\n",
       "      <td>Comedy|Crime|Drama|Thriller</td>\n",
       "      <td>599.0</td>\n",
       "      <td>very funny</td>\n",
       "      <td>1.498456e+09</td>\n",
       "    </tr>\n",
       "    <tr>\n",
       "      <th>99552</th>\n",
       "      <td>610</td>\n",
       "      <td>296</td>\n",
       "      <td>5.0</td>\n",
       "      <td>1479545817</td>\n",
       "      <td>Pulp Fiction (1994)</td>\n",
       "      <td>Comedy|Crime|Drama|Thriller</td>\n",
       "      <td>599.0</td>\n",
       "      <td>violence</td>\n",
       "      <td>1.498456e+09</td>\n",
       "    </tr>\n",
       "    <tr>\n",
       "      <th>99552</th>\n",
       "      <td>610</td>\n",
       "      <td>296</td>\n",
       "      <td>5.0</td>\n",
       "      <td>1479545817</td>\n",
       "      <td>Pulp Fiction (1994)</td>\n",
       "      <td>Comedy|Crime|Drama|Thriller</td>\n",
       "      <td>599.0</td>\n",
       "      <td>violent</td>\n",
       "      <td>1.498456e+09</td>\n",
       "    </tr>\n",
       "    <tr>\n",
       "      <th>99552</th>\n",
       "      <td>610</td>\n",
       "      <td>296</td>\n",
       "      <td>5.0</td>\n",
       "      <td>1479545817</td>\n",
       "      <td>Pulp Fiction (1994)</td>\n",
       "      <td>Comedy|Crime|Drama|Thriller</td>\n",
       "      <td>599.0</td>\n",
       "      <td>witty</td>\n",
       "      <td>1.498456e+09</td>\n",
       "    </tr>\n",
       "  </tbody>\n",
       "</table>\n",
       "<p>53111 rows × 9 columns</p>\n",
       "</div>"
      ],
      "text/plain": [
       "       userId_left  movieId  rating  timestamp_left                title  \\\n",
       "16               1      296     3.0       964982967  Pulp Fiction (1994)   \n",
       "16               1      296     3.0       964982967  Pulp Fiction (1994)   \n",
       "16               1      296     3.0       964982967  Pulp Fiction (1994)   \n",
       "16               1      296     3.0       964982967  Pulp Fiction (1994)   \n",
       "16               1      296     3.0       964982967  Pulp Fiction (1994)   \n",
       "...            ...      ...     ...             ...                  ...   \n",
       "99552          610      296     5.0      1479545817  Pulp Fiction (1994)   \n",
       "99552          610      296     5.0      1479545817  Pulp Fiction (1994)   \n",
       "99552          610      296     5.0      1479545817  Pulp Fiction (1994)   \n",
       "99552          610      296     5.0      1479545817  Pulp Fiction (1994)   \n",
       "99552          610      296     5.0      1479545817  Pulp Fiction (1994)   \n",
       "\n",
       "                            genres  userId_right             tag  \\\n",
       "16     Comedy|Crime|Drama|Thriller         599.0           1990s   \n",
       "16     Comedy|Crime|Drama|Thriller         599.0  achronological   \n",
       "16     Comedy|Crime|Drama|Thriller         599.0          action   \n",
       "16     Comedy|Crime|Drama|Thriller         599.0   action packed   \n",
       "16     Comedy|Crime|Drama|Thriller         599.0      aggressive   \n",
       "...                            ...           ...             ...   \n",
       "99552  Comedy|Crime|Drama|Thriller         599.0         unusual   \n",
       "99552  Comedy|Crime|Drama|Thriller         599.0      very funny   \n",
       "99552  Comedy|Crime|Drama|Thriller         599.0        violence   \n",
       "99552  Comedy|Crime|Drama|Thriller         599.0         violent   \n",
       "99552  Comedy|Crime|Drama|Thriller         599.0           witty   \n",
       "\n",
       "       timestamp_right  \n",
       "16        1.498457e+09  \n",
       "16        1.498456e+09  \n",
       "16        1.498456e+09  \n",
       "16        1.498457e+09  \n",
       "16        1.498457e+09  \n",
       "...                ...  \n",
       "99552     1.498457e+09  \n",
       "99552     1.498456e+09  \n",
       "99552     1.498456e+09  \n",
       "99552     1.498456e+09  \n",
       "99552     1.498456e+09  \n",
       "\n",
       "[53111 rows x 9 columns]"
      ]
     },
     "execution_count": 55,
     "metadata": {},
     "output_type": "execute_result"
    }
   ],
   "source": [
    "pf[pf['userId_right'] == 599.0]"
   ]
  },
  {
   "cell_type": "code",
   "execution_count": 61,
   "metadata": {},
   "outputs": [],
   "source": [
    "film_with_new_mark = []\n",
    "\n",
    "for f in title_num_tags.keys():\n",
    "    # посчитаем нашу новую метрику для каждого фильма из датасета\n",
    "    film_with_new_mark.append(\n",
    "        (f, round(title_mean_rating[f] * (title_num_tags[f] - min_num_tags) / (max_num_tags - min_num_tags), 2)))"
   ]
  },
  {
   "cell_type": "code",
   "execution_count": 62,
   "metadata": {
    "ExecuteTime": {
     "end_time": "2019-08-27T18:18:25.762612Z",
     "start_time": "2019-08-27T18:18:25.755113Z"
    },
    "scrolled": false
   },
   "outputs": [
    {
     "data": {
      "text/plain": [
       "[('Star Wars: Episode IV - A New Hope (1977)', 4.23),\n",
       " ('Dr. Strangelove or: How I Learned to Stop Worrying and Love the Bomb (1964)',\n",
       "  1.9),\n",
       " ('Eternal Sunshine of the Spotless Mind (2004)', 1.85),\n",
       " ('Memento (2000)', 1.83),\n",
       " ('Donnie Darko (2001)', 1.77),\n",
       " ('Fight Club (1999)', 1.42),\n",
       " (\"Schindler's List (1993)\", 1.41),\n",
       " ('Pulp Fiction (1994)', 1.4),\n",
       " ('Blade Runner (1982)', 1.37),\n",
       " ('Inception (2010)', 1.36),\n",
       " ('Anchorman: The Legend of Ron Burgundy (2004)', 1.26),\n",
       " ('American History X (1998)', 0.94),\n",
       " ('Departed, The (2006)', 0.94),\n",
       " ('Forrest Gump (1994)', 0.93),\n",
       " ('Matrix, The (1999)', 0.93),\n",
       " ('Reservoir Dogs (1992)', 0.93),\n",
       " ('City of God (Cidade de Deus) (2002)', 0.92),\n",
       " ('Psycho (1960)', 0.9),\n",
       " ('Whiplash (2014)', 0.9),\n",
       " ('Interstellar (2014)', 0.89)]"
      ]
     },
     "execution_count": 62,
     "metadata": {},
     "output_type": "execute_result"
    }
   ],
   "source": [
    "# выведем топ фильмов по новой метрике\n",
    "list(sorted(film_with_new_mark, key=lambda x: x[1], reverse=True))[:20]"
   ]
  },
  {
   "cell_type": "markdown",
   "metadata": {},
   "source": [
    "## ДЗ\n",
    "\n",
    "Постройте топ фильмов в категориях Action и Comedy"
   ]
  },
  {
   "cell_type": "code",
   "execution_count": 86,
   "metadata": {},
   "outputs": [
    {
     "name": "stderr",
     "output_type": "stream",
     "text": [
      "/Users/kuznetsovd/opt/anaconda3/lib/python3.7/site-packages/ipykernel_launcher.py:5: TqdmDeprecationWarning: This function will be removed in tqdm==5.0.0\n",
      "Please use `tqdm.notebook.tqdm` instead of `tqdm.tqdm_notebook`\n",
      "  \"\"\"\n"
     ]
    },
    {
     "data": {
      "application/vnd.jupyter.widget-view+json": {
       "model_id": "24ec58498813476694fe66079d2736bc",
       "version_major": 2,
       "version_minor": 0
      },
      "text/plain": [
       "HBox(children=(FloatProgress(value=0.0, max=1827.0), HTML(value='')))"
      ]
     },
     "metadata": {},
     "output_type": "display_data"
    },
    {
     "name": "stdout",
     "output_type": "stream",
     "text": [
      "\n"
     ]
    },
    {
     "data": {
      "text/plain": [
       "[('Star Wars: Episode IV - A New Hope (1977)', 4.23),\n",
       " ('Fight Club (1999)', 1.42),\n",
       " ('Blade Runner (1982)', 1.37),\n",
       " ('Inception (2010)', 1.36),\n",
       " ('Matrix, The (1999)', 0.93),\n",
       " ('City of God (Cidade de Deus) (2002)', 0.92),\n",
       " ('Léon: The Professional (a.k.a. The Professional) (Léon) (1994)', 0.89),\n",
       " ('Terminator 2: Judgment Day (1991)', 0.88),\n",
       " ('Dark Knight, The (2008)', 0.47),\n",
       " ('Raiders of the Lost Ark (Indiana Jones and the Raiders of the Lost Ark) (1981)',\n",
       "  0.47),\n",
       " ('Star Wars: Episode V - The Empire Strikes Back (1980)', 0.47),\n",
       " ('John Wick: Chapter Two (2017)', 0.46),\n",
       " ('Lord of the Rings: The Return of the King, The (2003)', 0.46),\n",
       " ('North by Northwest (1959)', 0.46),\n",
       " ('Braveheart (1995)', 0.45),\n",
       " ('28 Days Later (2002)', 0.44),\n",
       " ('Aliens (1986)', 0.44),\n",
       " ('Avengers: Infinity War - Part I (2018)', 0.44),\n",
       " ('Django Unchained (2012)', 0.44),\n",
       " ('Gladiator (2000)', 0.44)]"
      ]
     },
     "execution_count": 86,
     "metadata": {},
     "output_type": "execute_result"
    }
   ],
   "source": [
    "action_films = joined_with_tags[joined_with_tags['genres'].str.contains(r'Action')]\n",
    "\n",
    "dict_action_films = {}\n",
    "\n",
    "for title, group in tqdm_notebook(action_films.groupby('title')):\n",
    "    dict_action_films[title] = group.userId_right.unique().shape[0]\n",
    "    \n",
    "list_action_films = []\n",
    "\n",
    "for f in dict_action_films.keys():\n",
    "    list_action_films.append(\n",
    "        (f, round(title_mean_rating[f] * (dict_action_films[f] - min_num_tags) / (max_num_tags - min_num_tags), 2)))\n",
    "\n",
    "list(sorted(list_action_films, key=lambda x: x[1], reverse=True))[:20]"
   ]
  },
  {
   "cell_type": "code",
   "execution_count": 87,
   "metadata": {},
   "outputs": [
    {
     "name": "stderr",
     "output_type": "stream",
     "text": [
      "/Users/kuznetsovd/opt/anaconda3/lib/python3.7/site-packages/ipykernel_launcher.py:5: TqdmDeprecationWarning: This function will be removed in tqdm==5.0.0\n",
      "Please use `tqdm.notebook.tqdm` instead of `tqdm.tqdm_notebook`\n",
      "  \"\"\"\n"
     ]
    },
    {
     "data": {
      "application/vnd.jupyter.widget-view+json": {
       "model_id": "52cc24c654ce4a9c94fb7e20721a9a83",
       "version_major": 2,
       "version_minor": 0
      },
      "text/plain": [
       "HBox(children=(FloatProgress(value=0.0, max=3752.0), HTML(value='')))"
      ]
     },
     "metadata": {},
     "output_type": "display_data"
    },
    {
     "name": "stdout",
     "output_type": "stream",
     "text": [
      "\n"
     ]
    },
    {
     "data": {
      "text/plain": [
       "[('Dr. Strangelove or: How I Learned to Stop Worrying and Love the Bomb (1964)',\n",
       "  1.9),\n",
       " ('Pulp Fiction (1994)', 1.4),\n",
       " ('Anchorman: The Legend of Ron Burgundy (2004)', 1.26),\n",
       " ('Forrest Gump (1994)', 0.93),\n",
       " ('Toy Story (1995)', 0.87),\n",
       " ('Corpse Bride (2005)', 0.79),\n",
       " ('Step Brothers (2008)', 0.79),\n",
       " ('Happy Gilmore (1996)', 0.76),\n",
       " ('Fargo (1996)', 0.46),\n",
       " ('Life Is Beautiful (La Vita è bella) (1997)', 0.46),\n",
       " ('Monty Python and the Holy Grail (1975)', 0.46),\n",
       " ('Kiss Kiss Bang Bang (2005)', 0.45),\n",
       " ('Lost in Translation (2003)', 0.45),\n",
       " ('This Is Spinal Tap (1984)', 0.45),\n",
       " ('Three Colors: White (Trzy kolory: Bialy) (1994)', 0.45),\n",
       " ('Trainspotting (1996)', 0.45),\n",
       " ('Big Lebowski, The (1998)', 0.44),\n",
       " ('Finding Nemo (2003)', 0.44),\n",
       " ('Wolf of Wall Street, The (2013)', 0.44),\n",
       " ('Big Hero 6 (2014)', 0.43)]"
      ]
     },
     "execution_count": 87,
     "metadata": {},
     "output_type": "execute_result"
    }
   ],
   "source": [
    "comedy_films = joined_with_tags[joined_with_tags['genres'].str.contains(r'Comedy')]\n",
    "\n",
    "dict_comedy_films = {}\n",
    "\n",
    "for title, group in tqdm_notebook(comedy_films.groupby('title')):\n",
    "    dict_comedy_films[title] = group.userId_right.unique().shape[0]\n",
    "    \n",
    "list_comedy_films = []\n",
    "\n",
    "for f in dict_comedy_films.keys():\n",
    "    list_comedy_films.append(\n",
    "        (f, round(title_mean_rating[f] * (dict_comedy_films[f] - min_num_tags) / (max_num_tags - min_num_tags), 2)))\n",
    "\n",
    "list(sorted(list_comedy_films, key=lambda x: x[1], reverse=True))[:20]"
   ]
  },
  {
   "cell_type": "code",
   "execution_count": null,
   "metadata": {},
   "outputs": [],
   "source": []
  }
 ],
 "metadata": {
  "kernelspec": {
   "display_name": "Python 3",
   "language": "python",
   "name": "python3"
  },
  "language_info": {
   "codemirror_mode": {
    "name": "ipython",
    "version": 3
   },
   "file_extension": ".py",
   "mimetype": "text/x-python",
   "name": "python",
   "nbconvert_exporter": "python",
   "pygments_lexer": "ipython3",
   "version": "3.7.4"
  }
 },
 "nbformat": 4,
 "nbformat_minor": 2
}
